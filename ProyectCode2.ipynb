{
  "nbformat": 4,
  "nbformat_minor": 0,
  "metadata": {
    "colab": {
      "provenance": [],
      "authorship_tag": "ABX9TyPYK9hF+sWHtfHnkmcLf56j",
      "include_colab_link": true
    },
    "kernelspec": {
      "name": "python3",
      "display_name": "Python 3"
    },
    "language_info": {
      "name": "python"
    }
  },
  "cells": [
    {
      "cell_type": "markdown",
      "metadata": {
        "id": "view-in-github",
        "colab_type": "text"
      },
      "source": [
        "<a href=\"https://colab.research.google.com/github/TheDenky/Twitter-Election-Predict-Peru/blob/main/ProyectCode2.ipynb\" target=\"_parent\"><img src=\"https://colab.research.google.com/assets/colab-badge.svg\" alt=\"Open In Colab\"/></a>"
      ]
    },
    {
      "cell_type": "markdown",
      "source": [
        "#Predicción Electoral Perú usando Twitter"
      ],
      "metadata": {
        "id": "U14DbhH-r4U_"
      }
    },
    {
      "cell_type": "markdown",
      "source": [
        "### Inicialización"
      ],
      "metadata": {
        "id": "XfrOnf8Qtwlq"
      }
    },
    {
      "cell_type": "code",
      "source": [
        "#PAQUETES NECESARIOS\n",
        "!python -m spacy download es_core_news_md\n",
        "!pip install emoji --upgrade\n",
        "!pip install emosent-py\n",
        "#!pip install es_core_news_md\n",
        "!pip install pyspellchecker"
      ],
      "metadata": {
        "id": "6bX3mpJ0B0aw",
        "colab": {
          "base_uri": "https://localhost:8080/"
        },
        "outputId": "dca4a771-99c5-455d-ba8f-4ec46e8cf9b9"
      },
      "execution_count": null,
      "outputs": [
        {
          "output_type": "stream",
          "name": "stdout",
          "text": [
            "2022-11-01 18:08:20.950232: E tensorflow/stream_executor/cuda/cuda_driver.cc:271] failed call to cuInit: CUDA_ERROR_NO_DEVICE: no CUDA-capable device is detected\n",
            "Looking in indexes: https://pypi.org/simple, https://us-python.pkg.dev/colab-wheels/public/simple/\n",
            "Collecting es-core-news-md==3.4.0\n",
            "  Downloading https://github.com/explosion/spacy-models/releases/download/es_core_news_md-3.4.0/es_core_news_md-3.4.0-py3-none-any.whl (42.3 MB)\n",
            "\u001b[K     |████████████████████████████████| 42.3 MB 618 kB/s \n",
            "\u001b[?25hRequirement already satisfied: spacy<3.5.0,>=3.4.0 in /usr/local/lib/python3.7/dist-packages (from es-core-news-md==3.4.0) (3.4.2)\n",
            "Requirement already satisfied: spacy-legacy<3.1.0,>=3.0.10 in /usr/local/lib/python3.7/dist-packages (from spacy<3.5.0,>=3.4.0->es-core-news-md==3.4.0) (3.0.10)\n",
            "Requirement already satisfied: catalogue<2.1.0,>=2.0.6 in /usr/local/lib/python3.7/dist-packages (from spacy<3.5.0,>=3.4.0->es-core-news-md==3.4.0) (2.0.8)\n",
            "Requirement already satisfied: requests<3.0.0,>=2.13.0 in /usr/local/lib/python3.7/dist-packages (from spacy<3.5.0,>=3.4.0->es-core-news-md==3.4.0) (2.23.0)\n",
            "Requirement already satisfied: wasabi<1.1.0,>=0.9.1 in /usr/local/lib/python3.7/dist-packages (from spacy<3.5.0,>=3.4.0->es-core-news-md==3.4.0) (0.10.1)\n",
            "Requirement already satisfied: spacy-loggers<2.0.0,>=1.0.0 in /usr/local/lib/python3.7/dist-packages (from spacy<3.5.0,>=3.4.0->es-core-news-md==3.4.0) (1.0.3)\n",
            "Requirement already satisfied: tqdm<5.0.0,>=4.38.0 in /usr/local/lib/python3.7/dist-packages (from spacy<3.5.0,>=3.4.0->es-core-news-md==3.4.0) (4.64.1)\n",
            "Requirement already satisfied: cymem<2.1.0,>=2.0.2 in /usr/local/lib/python3.7/dist-packages (from spacy<3.5.0,>=3.4.0->es-core-news-md==3.4.0) (2.0.7)\n",
            "Requirement already satisfied: murmurhash<1.1.0,>=0.28.0 in /usr/local/lib/python3.7/dist-packages (from spacy<3.5.0,>=3.4.0->es-core-news-md==3.4.0) (1.0.9)\n",
            "Requirement already satisfied: typer<0.5.0,>=0.3.0 in /usr/local/lib/python3.7/dist-packages (from spacy<3.5.0,>=3.4.0->es-core-news-md==3.4.0) (0.4.2)\n",
            "Requirement already satisfied: pydantic!=1.8,!=1.8.1,<1.11.0,>=1.7.4 in /usr/local/lib/python3.7/dist-packages (from spacy<3.5.0,>=3.4.0->es-core-news-md==3.4.0) (1.10.2)\n",
            "Requirement already satisfied: srsly<3.0.0,>=2.4.3 in /usr/local/lib/python3.7/dist-packages (from spacy<3.5.0,>=3.4.0->es-core-news-md==3.4.0) (2.4.5)\n",
            "Requirement already satisfied: jinja2 in /usr/local/lib/python3.7/dist-packages (from spacy<3.5.0,>=3.4.0->es-core-news-md==3.4.0) (2.11.3)\n",
            "Requirement already satisfied: preshed<3.1.0,>=3.0.2 in /usr/local/lib/python3.7/dist-packages (from spacy<3.5.0,>=3.4.0->es-core-news-md==3.4.0) (3.0.8)\n",
            "Requirement already satisfied: packaging>=20.0 in /usr/local/lib/python3.7/dist-packages (from spacy<3.5.0,>=3.4.0->es-core-news-md==3.4.0) (21.3)\n",
            "Requirement already satisfied: langcodes<4.0.0,>=3.2.0 in /usr/local/lib/python3.7/dist-packages (from spacy<3.5.0,>=3.4.0->es-core-news-md==3.4.0) (3.3.0)\n",
            "Requirement already satisfied: thinc<8.2.0,>=8.1.0 in /usr/local/lib/python3.7/dist-packages (from spacy<3.5.0,>=3.4.0->es-core-news-md==3.4.0) (8.1.5)\n",
            "Requirement already satisfied: setuptools in /usr/local/lib/python3.7/dist-packages (from spacy<3.5.0,>=3.4.0->es-core-news-md==3.4.0) (57.4.0)\n",
            "Requirement already satisfied: numpy>=1.15.0 in /usr/local/lib/python3.7/dist-packages (from spacy<3.5.0,>=3.4.0->es-core-news-md==3.4.0) (1.21.6)\n",
            "Requirement already satisfied: typing-extensions<4.2.0,>=3.7.4 in /usr/local/lib/python3.7/dist-packages (from spacy<3.5.0,>=3.4.0->es-core-news-md==3.4.0) (4.1.1)\n",
            "Requirement already satisfied: pathy>=0.3.5 in /usr/local/lib/python3.7/dist-packages (from spacy<3.5.0,>=3.4.0->es-core-news-md==3.4.0) (0.6.2)\n",
            "Requirement already satisfied: zipp>=0.5 in /usr/local/lib/python3.7/dist-packages (from catalogue<2.1.0,>=2.0.6->spacy<3.5.0,>=3.4.0->es-core-news-md==3.4.0) (3.10.0)\n",
            "Requirement already satisfied: pyparsing!=3.0.5,>=2.0.2 in /usr/local/lib/python3.7/dist-packages (from packaging>=20.0->spacy<3.5.0,>=3.4.0->es-core-news-md==3.4.0) (3.0.9)\n",
            "Requirement already satisfied: smart-open<6.0.0,>=5.2.1 in /usr/local/lib/python3.7/dist-packages (from pathy>=0.3.5->spacy<3.5.0,>=3.4.0->es-core-news-md==3.4.0) (5.2.1)\n",
            "Requirement already satisfied: chardet<4,>=3.0.2 in /usr/local/lib/python3.7/dist-packages (from requests<3.0.0,>=2.13.0->spacy<3.5.0,>=3.4.0->es-core-news-md==3.4.0) (3.0.4)\n",
            "Requirement already satisfied: certifi>=2017.4.17 in /usr/local/lib/python3.7/dist-packages (from requests<3.0.0,>=2.13.0->spacy<3.5.0,>=3.4.0->es-core-news-md==3.4.0) (2022.9.24)\n",
            "Requirement already satisfied: idna<3,>=2.5 in /usr/local/lib/python3.7/dist-packages (from requests<3.0.0,>=2.13.0->spacy<3.5.0,>=3.4.0->es-core-news-md==3.4.0) (2.10)\n",
            "Requirement already satisfied: urllib3!=1.25.0,!=1.25.1,<1.26,>=1.21.1 in /usr/local/lib/python3.7/dist-packages (from requests<3.0.0,>=2.13.0->spacy<3.5.0,>=3.4.0->es-core-news-md==3.4.0) (1.24.3)\n",
            "Requirement already satisfied: confection<1.0.0,>=0.0.1 in /usr/local/lib/python3.7/dist-packages (from thinc<8.2.0,>=8.1.0->spacy<3.5.0,>=3.4.0->es-core-news-md==3.4.0) (0.0.3)\n",
            "Requirement already satisfied: blis<0.8.0,>=0.7.8 in /usr/local/lib/python3.7/dist-packages (from thinc<8.2.0,>=8.1.0->spacy<3.5.0,>=3.4.0->es-core-news-md==3.4.0) (0.7.9)\n",
            "Requirement already satisfied: click<9.0.0,>=7.1.1 in /usr/local/lib/python3.7/dist-packages (from typer<0.5.0,>=0.3.0->spacy<3.5.0,>=3.4.0->es-core-news-md==3.4.0) (7.1.2)\n",
            "Requirement already satisfied: MarkupSafe>=0.23 in /usr/local/lib/python3.7/dist-packages (from jinja2->spacy<3.5.0,>=3.4.0->es-core-news-md==3.4.0) (2.0.1)\n",
            "Installing collected packages: es-core-news-md\n",
            "Successfully installed es-core-news-md-3.4.0\n",
            "\u001b[38;5;2m✔ Download and installation successful\u001b[0m\n",
            "You can now load the package via spacy.load('es_core_news_md')\n",
            "Looking in indexes: https://pypi.org/simple, https://us-python.pkg.dev/colab-wheels/public/simple/\n",
            "Collecting emoji\n",
            "  Downloading emoji-2.2.0.tar.gz (240 kB)\n",
            "\u001b[K     |████████████████████████████████| 240 kB 4.2 MB/s \n",
            "\u001b[?25hBuilding wheels for collected packages: emoji\n",
            "  Building wheel for emoji (setup.py) ... \u001b[?25l\u001b[?25hdone\n",
            "  Created wheel for emoji: filename=emoji-2.2.0-py3-none-any.whl size=234927 sha256=b9ce291aad78e9a259fbd61ccce0c84bfb1b03d4f6bb124b0fd36291f63dc5be\n",
            "  Stored in directory: /root/.cache/pip/wheels/f3/e3/f2/1de1c2e3ed742e1df73e0f15d58864e50c7e64f607b548d6cf\n",
            "Successfully built emoji\n",
            "Installing collected packages: emoji\n",
            "Successfully installed emoji-2.2.0\n",
            "Looking in indexes: https://pypi.org/simple, https://us-python.pkg.dev/colab-wheels/public/simple/\n",
            "Collecting emosent-py\n",
            "  Downloading emosent-py-0.1.6.tar.gz (28 kB)\n",
            "Building wheels for collected packages: emosent-py\n",
            "  Building wheel for emosent-py (setup.py) ... \u001b[?25l\u001b[?25hdone\n",
            "  Created wheel for emosent-py: filename=emosent_py-0.1.6-py3-none-any.whl size=28502 sha256=0c305287dd259f0b88015c1cc3bfd7b55f6839b95211b0e3f43ef8a1ccc89198\n",
            "  Stored in directory: /root/.cache/pip/wheels/32/37/bd/b4e67490f36c4beb85a1047d6cd13a356ffecbfa854eaf4688\n",
            "Successfully built emosent-py\n",
            "Installing collected packages: emosent-py\n",
            "Successfully installed emosent-py-0.1.6\n",
            "Looking in indexes: https://pypi.org/simple, https://us-python.pkg.dev/colab-wheels/public/simple/\n",
            "Collecting pyspellchecker\n",
            "  Downloading pyspellchecker-0.7.0-py3-none-any.whl (2.5 MB)\n",
            "\u001b[K     |████████████████████████████████| 2.5 MB 3.8 MB/s \n",
            "\u001b[?25hInstalling collected packages: pyspellchecker\n",
            "Successfully installed pyspellchecker-0.7.0\n"
          ]
        }
      ]
    },
    {
      "cell_type": "code",
      "source": [
        "#IMPORTAMOS LOS PAQUETES\n",
        "\n",
        "import pandas as pd\n",
        "import numpy as np\n",
        "%matplotlib inline\n",
        "import matplotlib.pyplot as plt\n",
        "import collections\n",
        "from operator import itemgetter\n",
        "import seaborn as sns\n",
        "import warnings\n",
        "from sklearn.utils import shuffle\n",
        "from keras.models import load_model\n",
        "from sklearn.metrics import confusion_matrix, classification_report\n",
        "from sklearn.ensemble import RandomForestClassifier\n",
        "from sklearn.model_selection import GridSearchCV\n",
        "import emoji\n",
        "import re\n",
        "from spellchecker import SpellChecker\n",
        "from tensorflow import keras\n",
        "\n",
        "import tensorflow as tf\n",
        "physical_devices = tf.config.list_physical_devices('GPU')\n",
        "try:\n",
        "  tf.config.experimental.set_memory_growth(physical_devices[0], True)\n",
        "except:\n",
        "  # Invalid device or cannot modify virtual devices once initialized.\n",
        "  print('except')\n",
        "  pass\n",
        "\n",
        "warnings.filterwarnings('ignore')\n",
        "import xml.etree.ElementTree as ET"
      ],
      "metadata": {
        "colab": {
          "base_uri": "https://localhost:8080/"
        },
        "id": "wVKnrrdiCGlB",
        "outputId": "61bba707-62ad-47e8-bcd1-bcd947d5bd3f"
      },
      "execution_count": null,
      "outputs": [
        {
          "output_type": "stream",
          "name": "stdout",
          "text": [
            "except\n"
          ]
        }
      ]
    },
    {
      "cell_type": "markdown",
      "source": [
        "##1. Cargamos los datos"
      ],
      "metadata": {
        "id": "pU0FDA1po7ED"
      }
    },
    {
      "cell_type": "markdown",
      "source": [
        "###1.1 Datos de entrenamiento"
      ],
      "metadata": {
        "id": "oTkmFDiaBDsI"
      }
    },
    {
      "cell_type": "code",
      "execution_count": null,
      "metadata": {
        "id": "D8--VNRcn8vU"
      },
      "outputs": [],
      "source": [
        "tree = ET.parse('general-train-tagged-3l.xml')\n",
        "root = tree.getroot()"
      ]
    },
    {
      "cell_type": "code",
      "source": [
        "train_df = pd.DataFrame({'tweet_id':[],'tweetText':[],'polarity_value':[],'polarity_type':[],'topic':[]})\n",
        "row=0\n",
        "for tweet in root:\n",
        "    tweet_id = 'ID:'+tweet.find('tweetid').text\n",
        "    #user = tweet.find('user').text\n",
        "    tweetText = tweet.find('content').text\n",
        "    lang = tweet.find('lang').text\n",
        "    polarity_value = tweet.find('sentiments').find('polarity').find('value').text\n",
        "    polarity_type = tweet.find('sentiments').find('polarity').find('type').text\n",
        "    topic = tweet.find('topics').find('topic').text\n",
        "    \n",
        "    if lang == 'es':\n",
        "        train_df.loc[row] = [tweet_id,tweetText,polarity_value,polarity_type,topic]\n",
        "        row+=1"
      ],
      "metadata": {
        "id": "mEC2XGfMCpPu"
      },
      "execution_count": null,
      "outputs": []
    },
    {
      "cell_type": "code",
      "source": [
        "train_df.head(10)"
      ],
      "metadata": {
        "colab": {
          "base_uri": "https://localhost:8080/"
        },
        "id": "7bDHjZcXDmaJ",
        "outputId": "6c79499a-00f0-4a4e-de87-e1ad6ac3a7dc"
      },
      "execution_count": null,
      "outputs": [
        {
          "output_type": "execute_result",
          "data": {
            "text/plain": [
              "                tweet_id                                          tweetText  \\\n",
              "0  ID:142389495503925248        Salgo de #VeoTV , que día más largoooooo...   \n",
              "1  ID:142389933619945473  @PauladeLasHeras No te libraras de ayudar me/n...   \n",
              "2  ID:142391947707940864                          @marodriguezb Gracias MAR   \n",
              "3  ID:142416095012339712  Off pensando en el regalito Sinde, la que se v...   \n",
              "4  ID:142422495721562112  Conozco a alguien q es adicto al drama! Ja ja ...   \n",
              "5  ID:142424715175280640  RT @FabHddzC: Si amas a alguien, déjalo libre....   \n",
              "6  ID:142483342040907776  Toca @crackoviadeTV3 . Grabación dl especial N...   \n",
              "7  ID:142493511634259968  Hoy asisitiré en Madrid a un seminario sobre l...   \n",
              "8  ID:142494476051562496  Buen día todos! Lo primero mandar un abrazo gr...   \n",
              "9  ID:142496796416016384  Desde el escaño. Todo listo para empezar #endi...   \n",
              "\n",
              "  polarity_value polarity_type            topic  \n",
              "0           NONE     AGREEMENT            otros  \n",
              "1            NEU  DISAGREEMENT            otros  \n",
              "2              P     AGREEMENT            otros  \n",
              "3              N     AGREEMENT         política  \n",
              "4              P     AGREEMENT            otros  \n",
              "5           NONE     AGREEMENT           música  \n",
              "6              P     AGREEMENT  entretenimiento  \n",
              "7           NONE     AGREEMENT         política  \n",
              "8              P     AGREEMENT            otros  \n",
              "9              P     AGREEMENT         política  "
            ],
            "text/html": [
              "\n",
              "  <div id=\"df-db4e9489-1ecd-4a97-a30f-b3787efbd050\">\n",
              "    <div class=\"colab-df-container\">\n",
              "      <div>\n",
              "<style scoped>\n",
              "    .dataframe tbody tr th:only-of-type {\n",
              "        vertical-align: middle;\n",
              "    }\n",
              "\n",
              "    .dataframe tbody tr th {\n",
              "        vertical-align: top;\n",
              "    }\n",
              "\n",
              "    .dataframe thead th {\n",
              "        text-align: right;\n",
              "    }\n",
              "</style>\n",
              "<table border=\"1\" class=\"dataframe\">\n",
              "  <thead>\n",
              "    <tr style=\"text-align: right;\">\n",
              "      <th></th>\n",
              "      <th>tweet_id</th>\n",
              "      <th>tweetText</th>\n",
              "      <th>polarity_value</th>\n",
              "      <th>polarity_type</th>\n",
              "      <th>topic</th>\n",
              "    </tr>\n",
              "  </thead>\n",
              "  <tbody>\n",
              "    <tr>\n",
              "      <th>0</th>\n",
              "      <td>ID:142389495503925248</td>\n",
              "      <td>Salgo de #VeoTV , que día más largoooooo...</td>\n",
              "      <td>NONE</td>\n",
              "      <td>AGREEMENT</td>\n",
              "      <td>otros</td>\n",
              "    </tr>\n",
              "    <tr>\n",
              "      <th>1</th>\n",
              "      <td>ID:142389933619945473</td>\n",
              "      <td>@PauladeLasHeras No te libraras de ayudar me/n...</td>\n",
              "      <td>NEU</td>\n",
              "      <td>DISAGREEMENT</td>\n",
              "      <td>otros</td>\n",
              "    </tr>\n",
              "    <tr>\n",
              "      <th>2</th>\n",
              "      <td>ID:142391947707940864</td>\n",
              "      <td>@marodriguezb Gracias MAR</td>\n",
              "      <td>P</td>\n",
              "      <td>AGREEMENT</td>\n",
              "      <td>otros</td>\n",
              "    </tr>\n",
              "    <tr>\n",
              "      <th>3</th>\n",
              "      <td>ID:142416095012339712</td>\n",
              "      <td>Off pensando en el regalito Sinde, la que se v...</td>\n",
              "      <td>N</td>\n",
              "      <td>AGREEMENT</td>\n",
              "      <td>política</td>\n",
              "    </tr>\n",
              "    <tr>\n",
              "      <th>4</th>\n",
              "      <td>ID:142422495721562112</td>\n",
              "      <td>Conozco a alguien q es adicto al drama! Ja ja ...</td>\n",
              "      <td>P</td>\n",
              "      <td>AGREEMENT</td>\n",
              "      <td>otros</td>\n",
              "    </tr>\n",
              "    <tr>\n",
              "      <th>5</th>\n",
              "      <td>ID:142424715175280640</td>\n",
              "      <td>RT @FabHddzC: Si amas a alguien, déjalo libre....</td>\n",
              "      <td>NONE</td>\n",
              "      <td>AGREEMENT</td>\n",
              "      <td>música</td>\n",
              "    </tr>\n",
              "    <tr>\n",
              "      <th>6</th>\n",
              "      <td>ID:142483342040907776</td>\n",
              "      <td>Toca @crackoviadeTV3 . Grabación dl especial N...</td>\n",
              "      <td>P</td>\n",
              "      <td>AGREEMENT</td>\n",
              "      <td>entretenimiento</td>\n",
              "    </tr>\n",
              "    <tr>\n",
              "      <th>7</th>\n",
              "      <td>ID:142493511634259968</td>\n",
              "      <td>Hoy asisitiré en Madrid a un seminario sobre l...</td>\n",
              "      <td>NONE</td>\n",
              "      <td>AGREEMENT</td>\n",
              "      <td>política</td>\n",
              "    </tr>\n",
              "    <tr>\n",
              "      <th>8</th>\n",
              "      <td>ID:142494476051562496</td>\n",
              "      <td>Buen día todos! Lo primero mandar un abrazo gr...</td>\n",
              "      <td>P</td>\n",
              "      <td>AGREEMENT</td>\n",
              "      <td>otros</td>\n",
              "    </tr>\n",
              "    <tr>\n",
              "      <th>9</th>\n",
              "      <td>ID:142496796416016384</td>\n",
              "      <td>Desde el escaño. Todo listo para empezar #endi...</td>\n",
              "      <td>P</td>\n",
              "      <td>AGREEMENT</td>\n",
              "      <td>política</td>\n",
              "    </tr>\n",
              "  </tbody>\n",
              "</table>\n",
              "</div>\n",
              "      <button class=\"colab-df-convert\" onclick=\"convertToInteractive('df-db4e9489-1ecd-4a97-a30f-b3787efbd050')\"\n",
              "              title=\"Convert this dataframe to an interactive table.\"\n",
              "              style=\"display:none;\">\n",
              "        \n",
              "  <svg xmlns=\"http://www.w3.org/2000/svg\" height=\"24px\"viewBox=\"0 0 24 24\"\n",
              "       width=\"24px\">\n",
              "    <path d=\"M0 0h24v24H0V0z\" fill=\"none\"/>\n",
              "    <path d=\"M18.56 5.44l.94 2.06.94-2.06 2.06-.94-2.06-.94-.94-2.06-.94 2.06-2.06.94zm-11 1L8.5 8.5l.94-2.06 2.06-.94-2.06-.94L8.5 2.5l-.94 2.06-2.06.94zm10 10l.94 2.06.94-2.06 2.06-.94-2.06-.94-.94-2.06-.94 2.06-2.06.94z\"/><path d=\"M17.41 7.96l-1.37-1.37c-.4-.4-.92-.59-1.43-.59-.52 0-1.04.2-1.43.59L10.3 9.45l-7.72 7.72c-.78.78-.78 2.05 0 2.83L4 21.41c.39.39.9.59 1.41.59.51 0 1.02-.2 1.41-.59l7.78-7.78 2.81-2.81c.8-.78.8-2.07 0-2.86zM5.41 20L4 18.59l7.72-7.72 1.47 1.35L5.41 20z\"/>\n",
              "  </svg>\n",
              "      </button>\n",
              "      \n",
              "  <style>\n",
              "    .colab-df-container {\n",
              "      display:flex;\n",
              "      flex-wrap:wrap;\n",
              "      gap: 12px;\n",
              "    }\n",
              "\n",
              "    .colab-df-convert {\n",
              "      background-color: #E8F0FE;\n",
              "      border: none;\n",
              "      border-radius: 50%;\n",
              "      cursor: pointer;\n",
              "      display: none;\n",
              "      fill: #1967D2;\n",
              "      height: 32px;\n",
              "      padding: 0 0 0 0;\n",
              "      width: 32px;\n",
              "    }\n",
              "\n",
              "    .colab-df-convert:hover {\n",
              "      background-color: #E2EBFA;\n",
              "      box-shadow: 0px 1px 2px rgba(60, 64, 67, 0.3), 0px 1px 3px 1px rgba(60, 64, 67, 0.15);\n",
              "      fill: #174EA6;\n",
              "    }\n",
              "\n",
              "    [theme=dark] .colab-df-convert {\n",
              "      background-color: #3B4455;\n",
              "      fill: #D2E3FC;\n",
              "    }\n",
              "\n",
              "    [theme=dark] .colab-df-convert:hover {\n",
              "      background-color: #434B5C;\n",
              "      box-shadow: 0px 1px 3px 1px rgba(0, 0, 0, 0.15);\n",
              "      filter: drop-shadow(0px 1px 2px rgba(0, 0, 0, 0.3));\n",
              "      fill: #FFFFFF;\n",
              "    }\n",
              "  </style>\n",
              "\n",
              "      <script>\n",
              "        const buttonEl =\n",
              "          document.querySelector('#df-db4e9489-1ecd-4a97-a30f-b3787efbd050 button.colab-df-convert');\n",
              "        buttonEl.style.display =\n",
              "          google.colab.kernel.accessAllowed ? 'block' : 'none';\n",
              "\n",
              "        async function convertToInteractive(key) {\n",
              "          const element = document.querySelector('#df-db4e9489-1ecd-4a97-a30f-b3787efbd050');\n",
              "          const dataTable =\n",
              "            await google.colab.kernel.invokeFunction('convertToInteractive',\n",
              "                                                     [key], {});\n",
              "          if (!dataTable) return;\n",
              "\n",
              "          const docLinkHtml = 'Like what you see? Visit the ' +\n",
              "            '<a target=\"_blank\" href=https://colab.research.google.com/notebooks/data_table.ipynb>data table notebook</a>'\n",
              "            + ' to learn more about interactive tables.';\n",
              "          element.innerHTML = '';\n",
              "          dataTable['output_type'] = 'display_data';\n",
              "          await google.colab.output.renderOutput(dataTable, element);\n",
              "          const docLink = document.createElement('div');\n",
              "          docLink.innerHTML = docLinkHtml;\n",
              "          element.appendChild(docLink);\n",
              "        }\n",
              "      </script>\n",
              "    </div>\n",
              "  </div>\n",
              "  "
            ]
          },
          "metadata": {},
          "execution_count": 5
        }
      ]
    },
    {
      "cell_type": "code",
      "source": [
        "train_df.replace({'polarity_value': {'NONE': 'NEU'}}, inplace = True)"
      ],
      "metadata": {
        "id": "fSgm4bpRDv9n"
      },
      "execution_count": null,
      "outputs": []
    },
    {
      "cell_type": "code",
      "source": [
        "train_df.topic.value_counts()"
      ],
      "metadata": {
        "colab": {
          "base_uri": "https://localhost:8080/"
        },
        "id": "G9isXjxrD4hS",
        "outputId": "a9040a03-17ff-49e6-b7fa-a35f199db67b"
      },
      "execution_count": null,
      "outputs": [
        {
          "output_type": "execute_result",
          "data": {
            "text/plain": [
              "política           2715\n",
              "otros              1620\n",
              "entretenimiento    1209\n",
              "economía            525\n",
              "música              412\n",
              "fútbol              225\n",
              "cine                183\n",
              "tecnología          144\n",
              "deportes            101\n",
              "literatura           84\n",
              "Name: topic, dtype: int64"
            ]
          },
          "metadata": {},
          "execution_count": 7
        }
      ]
    },
    {
      "cell_type": "code",
      "source": [
        "train_df.polarity_value.value_counts()"
      ],
      "metadata": {
        "colab": {
          "base_uri": "https://localhost:8080/"
        },
        "id": "be0ryhSCD6VX",
        "outputId": "f885507d-1230-4c20-97a4-b11a5d0cff4d"
      },
      "execution_count": null,
      "outputs": [
        {
          "output_type": "execute_result",
          "data": {
            "text/plain": [
              "P      2884\n",
              "N      2182\n",
              "NEU    2152\n",
              "Name: polarity_value, dtype: int64"
            ]
          },
          "metadata": {},
          "execution_count": 8
        }
      ]
    },
    {
      "cell_type": "code",
      "source": [
        "#train_df = train_df.loc[(train_df.polarity_value == 'P') | (train_df.polarity_value == 'N') | (train_df.polarity_value == 'NEU')]"
      ],
      "metadata": {
        "id": "bWXApBjbD-hM"
      },
      "execution_count": null,
      "outputs": []
    },
    {
      "cell_type": "code",
      "source": [
        "train_df = train_df[['tweetText','polarity_value']]\n",
        "train_df.columns = ['content', 'sentiment']\n",
        "train_df"
      ],
      "metadata": {
        "id": "bnBIrNWNEUZ-",
        "colab": {
          "base_uri": "https://localhost:8080/"
        },
        "outputId": "a138ad02-906c-41ed-a354-2c10f4ca6c43"
      },
      "execution_count": null,
      "outputs": [
        {
          "output_type": "execute_result",
          "data": {
            "text/plain": [
              "                                                content sentiment\n",
              "0           Salgo de #VeoTV , que día más largoooooo...       NEU\n",
              "1     @PauladeLasHeras No te libraras de ayudar me/n...       NEU\n",
              "2                             @marodriguezb Gracias MAR         P\n",
              "3     Off pensando en el regalito Sinde, la que se v...         N\n",
              "4     Conozco a alguien q es adicto al drama! Ja ja ...         P\n",
              "...                                                 ...       ...\n",
              "7213  Muy indignante si ...nadie repara en ello hoy ...         N\n",
              "7214  Más pobres por discriminar a la mujer http://t...         N\n",
              "7215  Crean un banco de productos para mujeres con c...         P\n",
              "7216  Sobre la sorprendente huída hoy en el Senado d...         N\n",
              "7217  #CorreMarianoCorre está muy bien pero la versi...         P\n",
              "\n",
              "[7218 rows x 2 columns]"
            ],
            "text/html": [
              "\n",
              "  <div id=\"df-a70e05f9-06f7-4391-b884-18eb1fc7db8a\">\n",
              "    <div class=\"colab-df-container\">\n",
              "      <div>\n",
              "<style scoped>\n",
              "    .dataframe tbody tr th:only-of-type {\n",
              "        vertical-align: middle;\n",
              "    }\n",
              "\n",
              "    .dataframe tbody tr th {\n",
              "        vertical-align: top;\n",
              "    }\n",
              "\n",
              "    .dataframe thead th {\n",
              "        text-align: right;\n",
              "    }\n",
              "</style>\n",
              "<table border=\"1\" class=\"dataframe\">\n",
              "  <thead>\n",
              "    <tr style=\"text-align: right;\">\n",
              "      <th></th>\n",
              "      <th>content</th>\n",
              "      <th>sentiment</th>\n",
              "    </tr>\n",
              "  </thead>\n",
              "  <tbody>\n",
              "    <tr>\n",
              "      <th>0</th>\n",
              "      <td>Salgo de #VeoTV , que día más largoooooo...</td>\n",
              "      <td>NEU</td>\n",
              "    </tr>\n",
              "    <tr>\n",
              "      <th>1</th>\n",
              "      <td>@PauladeLasHeras No te libraras de ayudar me/n...</td>\n",
              "      <td>NEU</td>\n",
              "    </tr>\n",
              "    <tr>\n",
              "      <th>2</th>\n",
              "      <td>@marodriguezb Gracias MAR</td>\n",
              "      <td>P</td>\n",
              "    </tr>\n",
              "    <tr>\n",
              "      <th>3</th>\n",
              "      <td>Off pensando en el regalito Sinde, la que se v...</td>\n",
              "      <td>N</td>\n",
              "    </tr>\n",
              "    <tr>\n",
              "      <th>4</th>\n",
              "      <td>Conozco a alguien q es adicto al drama! Ja ja ...</td>\n",
              "      <td>P</td>\n",
              "    </tr>\n",
              "    <tr>\n",
              "      <th>...</th>\n",
              "      <td>...</td>\n",
              "      <td>...</td>\n",
              "    </tr>\n",
              "    <tr>\n",
              "      <th>7213</th>\n",
              "      <td>Muy indignante si ...nadie repara en ello hoy ...</td>\n",
              "      <td>N</td>\n",
              "    </tr>\n",
              "    <tr>\n",
              "      <th>7214</th>\n",
              "      <td>Más pobres por discriminar a la mujer http://t...</td>\n",
              "      <td>N</td>\n",
              "    </tr>\n",
              "    <tr>\n",
              "      <th>7215</th>\n",
              "      <td>Crean un banco de productos para mujeres con c...</td>\n",
              "      <td>P</td>\n",
              "    </tr>\n",
              "    <tr>\n",
              "      <th>7216</th>\n",
              "      <td>Sobre la sorprendente huída hoy en el Senado d...</td>\n",
              "      <td>N</td>\n",
              "    </tr>\n",
              "    <tr>\n",
              "      <th>7217</th>\n",
              "      <td>#CorreMarianoCorre está muy bien pero la versi...</td>\n",
              "      <td>P</td>\n",
              "    </tr>\n",
              "  </tbody>\n",
              "</table>\n",
              "<p>7218 rows × 2 columns</p>\n",
              "</div>\n",
              "      <button class=\"colab-df-convert\" onclick=\"convertToInteractive('df-a70e05f9-06f7-4391-b884-18eb1fc7db8a')\"\n",
              "              title=\"Convert this dataframe to an interactive table.\"\n",
              "              style=\"display:none;\">\n",
              "        \n",
              "  <svg xmlns=\"http://www.w3.org/2000/svg\" height=\"24px\"viewBox=\"0 0 24 24\"\n",
              "       width=\"24px\">\n",
              "    <path d=\"M0 0h24v24H0V0z\" fill=\"none\"/>\n",
              "    <path d=\"M18.56 5.44l.94 2.06.94-2.06 2.06-.94-2.06-.94-.94-2.06-.94 2.06-2.06.94zm-11 1L8.5 8.5l.94-2.06 2.06-.94-2.06-.94L8.5 2.5l-.94 2.06-2.06.94zm10 10l.94 2.06.94-2.06 2.06-.94-2.06-.94-.94-2.06-.94 2.06-2.06.94z\"/><path d=\"M17.41 7.96l-1.37-1.37c-.4-.4-.92-.59-1.43-.59-.52 0-1.04.2-1.43.59L10.3 9.45l-7.72 7.72c-.78.78-.78 2.05 0 2.83L4 21.41c.39.39.9.59 1.41.59.51 0 1.02-.2 1.41-.59l7.78-7.78 2.81-2.81c.8-.78.8-2.07 0-2.86zM5.41 20L4 18.59l7.72-7.72 1.47 1.35L5.41 20z\"/>\n",
              "  </svg>\n",
              "      </button>\n",
              "      \n",
              "  <style>\n",
              "    .colab-df-container {\n",
              "      display:flex;\n",
              "      flex-wrap:wrap;\n",
              "      gap: 12px;\n",
              "    }\n",
              "\n",
              "    .colab-df-convert {\n",
              "      background-color: #E8F0FE;\n",
              "      border: none;\n",
              "      border-radius: 50%;\n",
              "      cursor: pointer;\n",
              "      display: none;\n",
              "      fill: #1967D2;\n",
              "      height: 32px;\n",
              "      padding: 0 0 0 0;\n",
              "      width: 32px;\n",
              "    }\n",
              "\n",
              "    .colab-df-convert:hover {\n",
              "      background-color: #E2EBFA;\n",
              "      box-shadow: 0px 1px 2px rgba(60, 64, 67, 0.3), 0px 1px 3px 1px rgba(60, 64, 67, 0.15);\n",
              "      fill: #174EA6;\n",
              "    }\n",
              "\n",
              "    [theme=dark] .colab-df-convert {\n",
              "      background-color: #3B4455;\n",
              "      fill: #D2E3FC;\n",
              "    }\n",
              "\n",
              "    [theme=dark] .colab-df-convert:hover {\n",
              "      background-color: #434B5C;\n",
              "      box-shadow: 0px 1px 3px 1px rgba(0, 0, 0, 0.15);\n",
              "      filter: drop-shadow(0px 1px 2px rgba(0, 0, 0, 0.3));\n",
              "      fill: #FFFFFF;\n",
              "    }\n",
              "  </style>\n",
              "\n",
              "      <script>\n",
              "        const buttonEl =\n",
              "          document.querySelector('#df-a70e05f9-06f7-4391-b884-18eb1fc7db8a button.colab-df-convert');\n",
              "        buttonEl.style.display =\n",
              "          google.colab.kernel.accessAllowed ? 'block' : 'none';\n",
              "\n",
              "        async function convertToInteractive(key) {\n",
              "          const element = document.querySelector('#df-a70e05f9-06f7-4391-b884-18eb1fc7db8a');\n",
              "          const dataTable =\n",
              "            await google.colab.kernel.invokeFunction('convertToInteractive',\n",
              "                                                     [key], {});\n",
              "          if (!dataTable) return;\n",
              "\n",
              "          const docLinkHtml = 'Like what you see? Visit the ' +\n",
              "            '<a target=\"_blank\" href=https://colab.research.google.com/notebooks/data_table.ipynb>data table notebook</a>'\n",
              "            + ' to learn more about interactive tables.';\n",
              "          element.innerHTML = '';\n",
              "          dataTable['output_type'] = 'display_data';\n",
              "          await google.colab.output.renderOutput(dataTable, element);\n",
              "          const docLink = document.createElement('div');\n",
              "          docLink.innerHTML = docLinkHtml;\n",
              "          element.appendChild(docLink);\n",
              "        }\n",
              "      </script>\n",
              "    </div>\n",
              "  </div>\n",
              "  "
            ]
          },
          "metadata": {},
          "execution_count": 10
        }
      ]
    },
    {
      "cell_type": "code",
      "source": [
        "# Comprobamos duplicados\n",
        "train_df.content.duplicated().sum()"
      ],
      "metadata": {
        "colab": {
          "base_uri": "https://localhost:8080/"
        },
        "id": "zEgiX1O9F2l4",
        "outputId": "be68060a-48fa-4b6c-b6a8-2e8ab24b4bcb"
      },
      "execution_count": null,
      "outputs": [
        {
          "output_type": "execute_result",
          "data": {
            "text/plain": [
              "24"
            ]
          },
          "metadata": {},
          "execution_count": 11
        }
      ]
    },
    {
      "cell_type": "code",
      "source": [
        "# Eliminamos los duplicados\n",
        "train_df.drop_duplicates(subset = 'content', inplace = True)"
      ],
      "metadata": {
        "id": "JY0g4kvPGS-I"
      },
      "execution_count": null,
      "outputs": []
    },
    {
      "cell_type": "code",
      "source": [
        "# Comprobamos distribución de la etiqueta 'sentiment'\n",
        "sns.displot(train_df.sentiment)\n",
        "plt.title('Volumen de tweets por etiqueta');\n",
        "\n",
        "print(train_df.sentiment.value_counts())\n",
        "print('Tamaño del dataset:', train_df.shape)"
      ],
      "metadata": {
        "colab": {
          "base_uri": "https://localhost:8080/"
        },
        "id": "LNyaHtGCGmWl",
        "outputId": "42a74f70-64a3-413f-deb7-f9abe36ee8d9"
      },
      "execution_count": null,
      "outputs": [
        {
          "output_type": "stream",
          "name": "stdout",
          "text": [
            "P      2868\n",
            "N      2182\n",
            "NEU    2144\n",
            "Name: sentiment, dtype: int64\n",
            "Tamaño del dataset: (7194, 2)\n"
          ]
        },
        {
          "output_type": "display_data",
          "data": {
            "text/plain": [
              "<Figure size 360x360 with 1 Axes>"
            ],
            "image/png": "[encoded data removed]"
          },
          "metadata": {
            "needs_background": "light"
          }
        }
      ]
    },
    {
      "cell_type": "code",
      "source": [
        "# Comprobamos nulls\n",
        "print(train_df.isnull().sum())"
      ],
      "metadata": {
        "colab": {
          "base_uri": "https://localhost:8080/"
        },
        "id": "p1D20SXrG0Th",
        "outputId": "fb290653-d71f-4016-c57b-0df2a6ed028f"
      },
      "execution_count": null,
      "outputs": [
        {
          "output_type": "stream",
          "name": "stdout",
          "text": [
            "content      0\n",
            "sentiment    0\n",
            "dtype: int64\n"
          ]
        }
      ]
    },
    {
      "cell_type": "code",
      "source": [
        "# ELiminamos nulls\n",
        "train_df.dropna(inplace = True)\n",
        "train_df.reset_index(drop = True, inplace = True)"
      ],
      "metadata": {
        "id": "oHs20YOhG6DK"
      },
      "execution_count": null,
      "outputs": []
    },
    {
      "cell_type": "code",
      "source": [
        "train_df"
      ],
      "metadata": {
        "colab": {
          "base_uri": "https://localhost:8080/"
        },
        "id": "dqZ85onoHdbV",
        "outputId": "4eb65ab8-ebc9-4ace-fd30-7fb014847553"
      },
      "execution_count": null,
      "outputs": [
        {
          "output_type": "execute_result",
          "data": {
            "text/plain": [
              "                                                content sentiment\n",
              "0           Salgo de #VeoTV , que día más largoooooo...       NEU\n",
              "1     @PauladeLasHeras No te libraras de ayudar me/n...       NEU\n",
              "2                             @marodriguezb Gracias MAR         P\n",
              "3     Off pensando en el regalito Sinde, la que se v...         N\n",
              "4     Conozco a alguien q es adicto al drama! Ja ja ...         P\n",
              "...                                                 ...       ...\n",
              "7189  Muy indignante si ...nadie repara en ello hoy ...         N\n",
              "7190  Más pobres por discriminar a la mujer http://t...         N\n",
              "7191  Crean un banco de productos para mujeres con c...         P\n",
              "7192  Sobre la sorprendente huída hoy en el Senado d...         N\n",
              "7193  #CorreMarianoCorre está muy bien pero la versi...         P\n",
              "\n",
              "[7194 rows x 2 columns]"
            ],
            "text/html": [
              "\n",
              "  <div id=\"df-96be37dc-0958-45cc-9602-e11a325da399\">\n",
              "    <div class=\"colab-df-container\">\n",
              "      <div>\n",
              "<style scoped>\n",
              "    .dataframe tbody tr th:only-of-type {\n",
              "        vertical-align: middle;\n",
              "    }\n",
              "\n",
              "    .dataframe tbody tr th {\n",
              "        vertical-align: top;\n",
              "    }\n",
              "\n",
              "    .dataframe thead th {\n",
              "        text-align: right;\n",
              "    }\n",
              "</style>\n",
              "<table border=\"1\" class=\"dataframe\">\n",
              "  <thead>\n",
              "    <tr style=\"text-align: right;\">\n",
              "      <th></th>\n",
              "      <th>content</th>\n",
              "      <th>sentiment</th>\n",
              "    </tr>\n",
              "  </thead>\n",
              "  <tbody>\n",
              "    <tr>\n",
              "      <th>0</th>\n",
              "      <td>Salgo de #VeoTV , que día más largoooooo...</td>\n",
              "      <td>NEU</td>\n",
              "    </tr>\n",
              "    <tr>\n",
              "      <th>1</th>\n",
              "      <td>@PauladeLasHeras No te libraras de ayudar me/n...</td>\n",
              "      <td>NEU</td>\n",
              "    </tr>\n",
              "    <tr>\n",
              "      <th>2</th>\n",
              "      <td>@marodriguezb Gracias MAR</td>\n",
              "      <td>P</td>\n",
              "    </tr>\n",
              "    <tr>\n",
              "      <th>3</th>\n",
              "      <td>Off pensando en el regalito Sinde, la que se v...</td>\n",
              "      <td>N</td>\n",
              "    </tr>\n",
              "    <tr>\n",
              "      <th>4</th>\n",
              "      <td>Conozco a alguien q es adicto al drama! Ja ja ...</td>\n",
              "      <td>P</td>\n",
              "    </tr>\n",
              "    <tr>\n",
              "      <th>...</th>\n",
              "      <td>...</td>\n",
              "      <td>...</td>\n",
              "    </tr>\n",
              "    <tr>\n",
              "      <th>7189</th>\n",
              "      <td>Muy indignante si ...nadie repara en ello hoy ...</td>\n",
              "      <td>N</td>\n",
              "    </tr>\n",
              "    <tr>\n",
              "      <th>7190</th>\n",
              "      <td>Más pobres por discriminar a la mujer http://t...</td>\n",
              "      <td>N</td>\n",
              "    </tr>\n",
              "    <tr>\n",
              "      <th>7191</th>\n",
              "      <td>Crean un banco de productos para mujeres con c...</td>\n",
              "      <td>P</td>\n",
              "    </tr>\n",
              "    <tr>\n",
              "      <th>7192</th>\n",
              "      <td>Sobre la sorprendente huída hoy en el Senado d...</td>\n",
              "      <td>N</td>\n",
              "    </tr>\n",
              "    <tr>\n",
              "      <th>7193</th>\n",
              "      <td>#CorreMarianoCorre está muy bien pero la versi...</td>\n",
              "      <td>P</td>\n",
              "    </tr>\n",
              "  </tbody>\n",
              "</table>\n",
              "<p>7194 rows × 2 columns</p>\n",
              "</div>\n",
              "      <button class=\"colab-df-convert\" onclick=\"convertToInteractive('df-96be37dc-0958-45cc-9602-e11a325da399')\"\n",
              "              title=\"Convert this dataframe to an interactive table.\"\n",
              "              style=\"display:none;\">\n",
              "        \n",
              "  <svg xmlns=\"http://www.w3.org/2000/svg\" height=\"24px\"viewBox=\"0 0 24 24\"\n",
              "       width=\"24px\">\n",
              "    <path d=\"M0 0h24v24H0V0z\" fill=\"none\"/>\n",
              "    <path d=\"M18.56 5.44l.94 2.06.94-2.06 2.06-.94-2.06-.94-.94-2.06-.94 2.06-2.06.94zm-11 1L8.5 8.5l.94-2.06 2.06-.94-2.06-.94L8.5 2.5l-.94 2.06-2.06.94zm10 10l.94 2.06.94-2.06 2.06-.94-2.06-.94-.94-2.06-.94 2.06-2.06.94z\"/><path d=\"M17.41 7.96l-1.37-1.37c-.4-.4-.92-.59-1.43-.59-.52 0-1.04.2-1.43.59L10.3 9.45l-7.72 7.72c-.78.78-.78 2.05 0 2.83L4 21.41c.39.39.9.59 1.41.59.51 0 1.02-.2 1.41-.59l7.78-7.78 2.81-2.81c.8-.78.8-2.07 0-2.86zM5.41 20L4 18.59l7.72-7.72 1.47 1.35L5.41 20z\"/>\n",
              "  </svg>\n",
              "      </button>\n",
              "      \n",
              "  <style>\n",
              "    .colab-df-container {\n",
              "      display:flex;\n",
              "      flex-wrap:wrap;\n",
              "      gap: 12px;\n",
              "    }\n",
              "\n",
              "    .colab-df-convert {\n",
              "      background-color: #E8F0FE;\n",
              "      border: none;\n",
              "      border-radius: 50%;\n",
              "      cursor: pointer;\n",
              "      display: none;\n",
              "      fill: #1967D2;\n",
              "      height: 32px;\n",
              "      padding: 0 0 0 0;\n",
              "      width: 32px;\n",
              "    }\n",
              "\n",
              "    .colab-df-convert:hover {\n",
              "      background-color: #E2EBFA;\n",
              "      box-shadow: 0px 1px 2px rgba(60, 64, 67, 0.3), 0px 1px 3px 1px rgba(60, 64, 67, 0.15);\n",
              "      fill: #174EA6;\n",
              "    }\n",
              "\n",
              "    [theme=dark] .colab-df-convert {\n",
              "      background-color: #3B4455;\n",
              "      fill: #D2E3FC;\n",
              "    }\n",
              "\n",
              "    [theme=dark] .colab-df-convert:hover {\n",
              "      background-color: #434B5C;\n",
              "      box-shadow: 0px 1px 3px 1px rgba(0, 0, 0, 0.15);\n",
              "      filter: drop-shadow(0px 1px 2px rgba(0, 0, 0, 0.3));\n",
              "      fill: #FFFFFF;\n",
              "    }\n",
              "  </style>\n",
              "\n",
              "      <script>\n",
              "        const buttonEl =\n",
              "          document.querySelector('#df-96be37dc-0958-45cc-9602-e11a325da399 button.colab-df-convert');\n",
              "        buttonEl.style.display =\n",
              "          google.colab.kernel.accessAllowed ? 'block' : 'none';\n",
              "\n",
              "        async function convertToInteractive(key) {\n",
              "          const element = document.querySelector('#df-96be37dc-0958-45cc-9602-e11a325da399');\n",
              "          const dataTable =\n",
              "            await google.colab.kernel.invokeFunction('convertToInteractive',\n",
              "                                                     [key], {});\n",
              "          if (!dataTable) return;\n",
              "\n",
              "          const docLinkHtml = 'Like what you see? Visit the ' +\n",
              "            '<a target=\"_blank\" href=https://colab.research.google.com/notebooks/data_table.ipynb>data table notebook</a>'\n",
              "            + ' to learn more about interactive tables.';\n",
              "          element.innerHTML = '';\n",
              "          dataTable['output_type'] = 'display_data';\n",
              "          await google.colab.output.renderOutput(dataTable, element);\n",
              "          const docLink = document.createElement('div');\n",
              "          docLink.innerHTML = docLinkHtml;\n",
              "          element.appendChild(docLink);\n",
              "        }\n",
              "      </script>\n",
              "    </div>\n",
              "  </div>\n",
              "  "
            ]
          },
          "metadata": {},
          "execution_count": 16
        }
      ]
    },
    {
      "cell_type": "code",
      "source": [
        "def count_words(df):\n",
        "    count = 0\n",
        "    for word in df.split():\n",
        "        count += 1\n",
        "    return count\n",
        "\n",
        "sns.displot(train_df['content'].apply(count_words), bins = 15)\n",
        "plt.title('Distribución del número de palabras por tweet');"
      ],
      "metadata": {
        "colab": {
          "base_uri": "https://localhost:8080/"
        },
        "id": "OvKxlY0FHnNH",
        "outputId": "c8a8ae92-cc3b-473e-d3bc-b3881ecbcb97"
      },
      "execution_count": null,
      "outputs": [
        {
          "output_type": "display_data",
          "data": {
            "text/plain": [
              "<Figure size 360x360 with 1 Axes>"
            ],
            "image/png": "[encoded data removed]"
          },
          "metadata": {
            "needs_background": "light"
          }
        }
      ]
    },
    {
      "cell_type": "code",
      "source": [
        "sns.boxplot(train_df['content'].apply(count_words))\n",
        "plt.title('Distribución del número de palabras por tweet');"
      ],
      "metadata": {
        "colab": {
          "base_uri": "https://localhost:8080/"
        },
        "id": "PpWoMRK5Hvpa",
        "outputId": "af3545a9-0d24-4bbe-8147-2cc6605ea1a7"
      },
      "execution_count": null,
      "outputs": [
        {
          "output_type": "display_data",
          "data": {
            "text/plain": [
              "<Figure size 432x288 with 1 Axes>"
            ],
            "image/png": "[encoded data removed]"
          },
          "metadata": {
            "needs_background": "light"
          }
        }
      ]
    },
    {
      "cell_type": "markdown",
      "source": [
        "###1.2 Datos de elecciones Perú"
      ],
      "metadata": {
        "id": "VHbbhjLyBNOD"
      }
    },
    {
      "cell_type": "markdown",
      "source": [
        "####Inicializar y métodos"
      ],
      "metadata": {
        "id": "kKhEArr9D3Sq"
      }
    },
    {
      "cell_type": "code",
      "source": [
        "menciones = '@[\\w\\-]+'"
      ],
      "metadata": {
        "id": "pamikvVWe2S6"
      },
      "execution_count": null,
      "outputs": []
    },
    {
      "cell_type": "code",
      "source": [
        "#ARREGLO CON CUENTAS OFICIALES CANDIDATOS Y PARTIDOS TWITTER\n",
        "cuentasCandidatoPrimera = ['@Ollanta_HumalaT', '@vozdelatierra', '@julioguzmanperu', '@rafaelsantosn', '@George_Forsyth',\n",
        "           '@yonhy_lescano', '@HDeSotoPeru', '@DanielUrresti1', '@Vero_Mendoza_F', '@BeingoleaA', \n",
        "           '@KeikoFujimori', '@EquipoVega', '@rlopezaliaga1', '@Ciro_GalvezH', '@dsalaverryv',\n",
        "           '@PedroCastilloTe', '@aalacantarape', '@CesarAcunaP']\n",
        "cuentasPartidoPrimera = ['@pnacionalistap', '@FrenteAmplioPe', '@partidomorado', '@pps_peru', '@VNoficial2021', '@AccionPopular',\n",
        "            '@avanzapaisperu', '@podemos_peru', '@JuntosporPeru', '@ppc_peru', '@FuerzaPopular__', '@PeruUPP',\n",
        "            '@Renovacion_Peru', '@Partido_RUNA', '@SomosPeruOf', '@PERU_LIBRE1', '@democraciadpe', '@Peru_APP']\n",
        "\n",
        "cuentasCandidatoSegunda = ['@KeikoFujimori', '@PedroCastilloTe']\n",
        "cuentasPartidoSegunda = ['@FuerzaPopular__', '@PERU_LIBRE1']"
      ],
      "metadata": {
        "id": "8WCYX1I5ZWm3"
      },
      "execution_count": null,
      "outputs": []
    },
    {
      "cell_type": "code",
      "source": [
        "#FUNCION PARA DIVIDIR DF EN 2 ARCHIVOS: TUITS CON MENSION Y SIN MENSION\n",
        "\n",
        "def dividirDataMension(colTexto, ListaCuentas):\n",
        "  mentioned_tweets = [] #TUITS CON MENSIONES\n",
        "  no_mentioned_tweets = [] #TUITS SIN MENSIONES\n",
        "  for content in colTexto.items():\n",
        "    lista = re.findall(menciones, content[1])\n",
        "    mens = 0\n",
        "    for element in lista:\n",
        "      for cuenta in ListaCuentas:\n",
        "        if cuenta == element:\n",
        "          mens+=1\n",
        "    if mens == 1:\n",
        "      mentioned_tweets.append(content[1])\n",
        "    else:\n",
        "      no_mentioned_tweets.append(content[1])\n",
        "\n",
        "  return pd.DataFrame(mentioned_tweets), pd.DataFrame(no_mentioned_tweets)"
      ],
      "metadata": {
        "id": "w3JwdG2fEJr-"
      },
      "execution_count": null,
      "outputs": []
    },
    {
      "cell_type": "code",
      "source": [
        "#FUNCION PARA AGREGAR LA MENSION Y LIMPIAR TEXTO\n",
        "\n",
        "def addMentionClearText(DFconMencion, listaCuentas):\n",
        "  #AGREGA LA NUEVA COLUMNA MENCION\n",
        "  DFconMencion = DFconMencion.rename(columns= {0:'content'})\n",
        "  DFconMencion['mencion'] = \"\"\n",
        "\n",
        "  #CONVIERTE EL ARCHIVO CON MENSION EN DOS COLUMNAS: TEXTO Y MENSION\n",
        "  i=0\n",
        "  for content in DFconMencion[\"content\"]:\n",
        "    lista = re.findall(menciones, content)\n",
        "    for element in lista:\n",
        "      for cuenta in listaCuentas:\n",
        "        if cuenta == element:\n",
        "          DFconMencion.loc[i,'mencion'] = cuenta\n",
        "    i+=1\n",
        "\n",
        "  return DFconMencion"
      ],
      "metadata": {
        "id": "_PkDGV4rEPTr"
      },
      "execution_count": null,
      "outputs": []
    },
    {
      "cell_type": "markdown",
      "source": [
        "####Primera Vuelta"
      ],
      "metadata": {
        "id": "OVBKbvSbD8g0"
      }
    },
    {
      "cell_type": "code",
      "source": [
        "#Cargamos la data\n",
        "data = pd.read_csv('datosPrimeraCompleto.csv')\n",
        "data"
      ],
      "metadata": {
        "id": "XD9uq4dEBMlK",
        "colab": {
          "base_uri": "https://localhost:8080/"
        },
        "outputId": "068c7224-298b-46f9-8fc5-919133e4d3ff"
      },
      "execution_count": null,
      "outputs": [
        {
          "output_type": "execute_result",
          "data": {
            "text/plain": [
              "       Unnamed: 0  Unnamed: 0.1  Unnamed: 0.1.1                   Datetime  \\\n",
              "0               0             0               0  2021-03-28 23:58:20+00:00   \n",
              "1               1             1               1  2021-03-28 23:56:48+00:00   \n",
              "2               2             2               2  2021-03-28 23:54:52+00:00   \n",
              "3               3             3               3  2021-03-28 23:50:33+00:00   \n",
              "4               4             4               4  2021-03-28 23:47:18+00:00   \n",
              "...           ...           ...             ...                        ...   \n",
              "81209       81209         40829            4996  2021-03-02 15:57:40+00:00   \n",
              "81210       81210         40830            4997  2021-03-02 15:56:13+00:00   \n",
              "81211       81211         40831            4998  2021-03-02 15:55:55+00:00   \n",
              "81212       81212         40832            4999  2021-03-02 15:55:00+00:00   \n",
              "81213       81213         40833            5000  2021-03-02 15:52:46+00:00   \n",
              "\n",
              "                                                    Text        Username  \n",
              "0                   @Ollanta_HumalaT Ánimos y éxitos 🤗🤗🤗      ayma_sayre  \n",
              "1      @LuisRipas @Ollanta_HumalaT @Vero_Mendoza_F Cr...       checheboa  \n",
              "2                      @Ollanta_HumalaT Quién es tu amo?  Gianfranco_mna  \n",
              "3      @Ollanta_HumalaT Necesito una foto así para mi...   Richaardavila  \n",
              "4          @Ollanta_HumalaT Que debata tu perrito mejor.      Carmhuguet  \n",
              "...                                                  ...             ...  \n",
              "81209  @SIGFREDOAQP @Fuerzadeley @Peru_APP @Alejandro...      chatavelit  \n",
              "81210  @dabugattas16 @Peru_APP Al parecer se quieren ...    jose_parra53  \n",
              "81211  @dabugattas16 @Peru_APP Lee más, no caigas en ...        rmalaver  \n",
              "81212        @dabugattas16 @Peru_APP la cola se respeta.       jgcaverop  \n",
              "81213  @dabugattas16 @Peru_APP Qué tipo de gente para...   gery_cristian  \n",
              "\n",
              "[81214 rows x 6 columns]"
            ],
            "text/html": [
              "\n",
              "  <div id=\"df-1692c57b-7af6-416e-af1b-45cb02041ece\">\n",
              "    <div class=\"colab-df-container\">\n",
              "      <div>\n",
              "<style scoped>\n",
              "    .dataframe tbody tr th:only-of-type {\n",
              "        vertical-align: middle;\n",
              "    }\n",
              "\n",
              "    .dataframe tbody tr th {\n",
              "        vertical-align: top;\n",
              "    }\n",
              "\n",
              "    .dataframe thead th {\n",
              "        text-align: right;\n",
              "    }\n",
              "</style>\n",
              "<table border=\"1\" class=\"dataframe\">\n",
              "  <thead>\n",
              "    <tr style=\"text-align: right;\">\n",
              "      <th></th>\n",
              "      <th>Unnamed: 0</th>\n",
              "      <th>Unnamed: 0.1</th>\n",
              "      <th>Unnamed: 0.1.1</th>\n",
              "      <th>Datetime</th>\n",
              "      <th>Text</th>\n",
              "      <th>Username</th>\n",
              "    </tr>\n",
              "  </thead>\n",
              "  <tbody>\n",
              "    <tr>\n",
              "      <th>0</th>\n",
              "      <td>0</td>\n",
              "      <td>0</td>\n",
              "      <td>0</td>\n",
              "      <td>2021-03-28 23:58:20+00:00</td>\n",
              "      <td>@Ollanta_HumalaT Ánimos y éxitos 🤗🤗🤗</td>\n",
              "      <td>ayma_sayre</td>\n",
              "    </tr>\n",
              "    <tr>\n",
              "      <th>1</th>\n",
              "      <td>1</td>\n",
              "      <td>1</td>\n",
              "      <td>1</td>\n",
              "      <td>2021-03-28 23:56:48+00:00</td>\n",
              "      <td>@LuisRipas @Ollanta_HumalaT @Vero_Mendoza_F Cr...</td>\n",
              "      <td>checheboa</td>\n",
              "    </tr>\n",
              "    <tr>\n",
              "      <th>2</th>\n",
              "      <td>2</td>\n",
              "      <td>2</td>\n",
              "      <td>2</td>\n",
              "      <td>2021-03-28 23:54:52+00:00</td>\n",
              "      <td>@Ollanta_HumalaT Quién es tu amo?</td>\n",
              "      <td>Gianfranco_mna</td>\n",
              "    </tr>\n",
              "    <tr>\n",
              "      <th>3</th>\n",
              "      <td>3</td>\n",
              "      <td>3</td>\n",
              "      <td>3</td>\n",
              "      <td>2021-03-28 23:50:33+00:00</td>\n",
              "      <td>@Ollanta_HumalaT Necesito una foto así para mi...</td>\n",
              "      <td>Richaardavila</td>\n",
              "    </tr>\n",
              "    <tr>\n",
              "      <th>4</th>\n",
              "      <td>4</td>\n",
              "      <td>4</td>\n",
              "      <td>4</td>\n",
              "      <td>2021-03-28 23:47:18+00:00</td>\n",
              "      <td>@Ollanta_HumalaT Que debata tu perrito mejor.</td>\n",
              "      <td>Carmhuguet</td>\n",
              "    </tr>\n",
              "    <tr>\n",
              "      <th>...</th>\n",
              "      <td>...</td>\n",
              "      <td>...</td>\n",
              "      <td>...</td>\n",
              "      <td>...</td>\n",
              "      <td>...</td>\n",
              "      <td>...</td>\n",
              "    </tr>\n",
              "    <tr>\n",
              "      <th>81209</th>\n",
              "      <td>81209</td>\n",
              "      <td>40829</td>\n",
              "      <td>4996</td>\n",
              "      <td>2021-03-02 15:57:40+00:00</td>\n",
              "      <td>@SIGFREDOAQP @Fuerzadeley @Peru_APP @Alejandro...</td>\n",
              "      <td>chatavelit</td>\n",
              "    </tr>\n",
              "    <tr>\n",
              "      <th>81210</th>\n",
              "      <td>81210</td>\n",
              "      <td>40830</td>\n",
              "      <td>4997</td>\n",
              "      <td>2021-03-02 15:56:13+00:00</td>\n",
              "      <td>@dabugattas16 @Peru_APP Al parecer se quieren ...</td>\n",
              "      <td>jose_parra53</td>\n",
              "    </tr>\n",
              "    <tr>\n",
              "      <th>81211</th>\n",
              "      <td>81211</td>\n",
              "      <td>40831</td>\n",
              "      <td>4998</td>\n",
              "      <td>2021-03-02 15:55:55+00:00</td>\n",
              "      <td>@dabugattas16 @Peru_APP Lee más, no caigas en ...</td>\n",
              "      <td>rmalaver</td>\n",
              "    </tr>\n",
              "    <tr>\n",
              "      <th>81212</th>\n",
              "      <td>81212</td>\n",
              "      <td>40832</td>\n",
              "      <td>4999</td>\n",
              "      <td>2021-03-02 15:55:00+00:00</td>\n",
              "      <td>@dabugattas16 @Peru_APP la cola se respeta.</td>\n",
              "      <td>jgcaverop</td>\n",
              "    </tr>\n",
              "    <tr>\n",
              "      <th>81213</th>\n",
              "      <td>81213</td>\n",
              "      <td>40833</td>\n",
              "      <td>5000</td>\n",
              "      <td>2021-03-02 15:52:46+00:00</td>\n",
              "      <td>@dabugattas16 @Peru_APP Qué tipo de gente para...</td>\n",
              "      <td>gery_cristian</td>\n",
              "    </tr>\n",
              "  </tbody>\n",
              "</table>\n",
              "<p>81214 rows × 6 columns</p>\n",
              "</div>\n",
              "      <button class=\"colab-df-convert\" onclick=\"convertToInteractive('df-1692c57b-7af6-416e-af1b-45cb02041ece')\"\n",
              "              title=\"Convert this dataframe to an interactive table.\"\n",
              "              style=\"display:none;\">\n",
              "        \n",
              "  <svg xmlns=\"http://www.w3.org/2000/svg\" height=\"24px\"viewBox=\"0 0 24 24\"\n",
              "       width=\"24px\">\n",
              "    <path d=\"M0 0h24v24H0V0z\" fill=\"none\"/>\n",
              "    <path d=\"M18.56 5.44l.94 2.06.94-2.06 2.06-.94-2.06-.94-.94-2.06-.94 2.06-2.06.94zm-11 1L8.5 8.5l.94-2.06 2.06-.94-2.06-.94L8.5 2.5l-.94 2.06-2.06.94zm10 10l.94 2.06.94-2.06 2.06-.94-2.06-.94-.94-2.06-.94 2.06-2.06.94z\"/><path d=\"M17.41 7.96l-1.37-1.37c-.4-.4-.92-.59-1.43-.59-.52 0-1.04.2-1.43.59L10.3 9.45l-7.72 7.72c-.78.78-.78 2.05 0 2.83L4 21.41c.39.39.9.59 1.41.59.51 0 1.02-.2 1.41-.59l7.78-7.78 2.81-2.81c.8-.78.8-2.07 0-2.86zM5.41 20L4 18.59l7.72-7.72 1.47 1.35L5.41 20z\"/>\n",
              "  </svg>\n",
              "      </button>\n",
              "      \n",
              "  <style>\n",
              "    .colab-df-container {\n",
              "      display:flex;\n",
              "      flex-wrap:wrap;\n",
              "      gap: 12px;\n",
              "    }\n",
              "\n",
              "    .colab-df-convert {\n",
              "      background-color: #E8F0FE;\n",
              "      border: none;\n",
              "      border-radius: 50%;\n",
              "      cursor: pointer;\n",
              "      display: none;\n",
              "      fill: #1967D2;\n",
              "      height: 32px;\n",
              "      padding: 0 0 0 0;\n",
              "      width: 32px;\n",
              "    }\n",
              "\n",
              "    .colab-df-convert:hover {\n",
              "      background-color: #E2EBFA;\n",
              "      box-shadow: 0px 1px 2px rgba(60, 64, 67, 0.3), 0px 1px 3px 1px rgba(60, 64, 67, 0.15);\n",
              "      fill: #174EA6;\n",
              "    }\n",
              "\n",
              "    [theme=dark] .colab-df-convert {\n",
              "      background-color: #3B4455;\n",
              "      fill: #D2E3FC;\n",
              "    }\n",
              "\n",
              "    [theme=dark] .colab-df-convert:hover {\n",
              "      background-color: #434B5C;\n",
              "      box-shadow: 0px 1px 3px 1px rgba(0, 0, 0, 0.15);\n",
              "      filter: drop-shadow(0px 1px 2px rgba(0, 0, 0, 0.3));\n",
              "      fill: #FFFFFF;\n",
              "    }\n",
              "  </style>\n",
              "\n",
              "      <script>\n",
              "        const buttonEl =\n",
              "          document.querySelector('#df-1692c57b-7af6-416e-af1b-45cb02041ece button.colab-df-convert');\n",
              "        buttonEl.style.display =\n",
              "          google.colab.kernel.accessAllowed ? 'block' : 'none';\n",
              "\n",
              "        async function convertToInteractive(key) {\n",
              "          const element = document.querySelector('#df-1692c57b-7af6-416e-af1b-45cb02041ece');\n",
              "          const dataTable =\n",
              "            await google.colab.kernel.invokeFunction('convertToInteractive',\n",
              "                                                     [key], {});\n",
              "          if (!dataTable) return;\n",
              "\n",
              "          const docLinkHtml = 'Like what you see? Visit the ' +\n",
              "            '<a target=\"_blank\" href=https://colab.research.google.com/notebooks/data_table.ipynb>data table notebook</a>'\n",
              "            + ' to learn more about interactive tables.';\n",
              "          element.innerHTML = '';\n",
              "          dataTable['output_type'] = 'display_data';\n",
              "          await google.colab.output.renderOutput(dataTable, element);\n",
              "          const docLink = document.createElement('div');\n",
              "          docLink.innerHTML = docLinkHtml;\n",
              "          element.appendChild(docLink);\n",
              "        }\n",
              "      </script>\n",
              "    </div>\n",
              "  </div>\n",
              "  "
            ]
          },
          "metadata": {},
          "execution_count": 23
        }
      ]
    },
    {
      "cell_type": "code",
      "source": [
        "#ELIMINACION DUPLICADO DE MISMA PERSONA\n",
        "u_tweets = data.drop_duplicates('Username',keep='last')\n",
        "\n",
        "#UTILIZAR SOLO LA COLUMNA TEXT\n",
        "tuits = u_tweets.Text\n",
        "# ELiminamos nulls\n",
        "tuits.dropna(inplace = True)\n",
        "tuits.reset_index(drop = True, inplace = True)\n",
        "tuits"
      ],
      "metadata": {
        "colab": {
          "base_uri": "https://localhost:8080/"
        },
        "id": "uEoS39TCUoz0",
        "outputId": "f41ee896-cdb7-42da-ff12-6a7b723bd6ef"
      },
      "execution_count": null,
      "outputs": [
        {
          "output_type": "execute_result",
          "data": {
            "text/plain": [
              "0        @Ollanta_HumalaT Necesito una foto así para mi...\n",
              "1        @Ollanta_HumalaT Mi mamá votará por usted 😄 yo...\n",
              "2        @Ollanta_HumalaT Los futuros juicios que tiene...\n",
              "3        @Ollanta_HumalaT Y que paso con Nadine?? Ya no...\n",
              "4        @diariocorreo @Ollanta_HumalaT No te pesan los...\n",
              "                               ...                        \n",
              "20173    @SIGFREDOAQP @Fuerzadeley @Peru_APP @Alejandro...\n",
              "20174    @dabugattas16 @Peru_APP Al parecer se quieren ...\n",
              "20175    @dabugattas16 @Peru_APP Lee más, no caigas en ...\n",
              "20176          @dabugattas16 @Peru_APP la cola se respeta.\n",
              "20177    @dabugattas16 @Peru_APP Qué tipo de gente para...\n",
              "Name: Text, Length: 20178, dtype: object"
            ]
          },
          "metadata": {},
          "execution_count": 24
        }
      ]
    },
    {
      "cell_type": "code",
      "source": [
        "DFtcmPC,DFtsmPC = dividirDataMension(tuits, cuentasCandidatoPrimera)\n",
        "\n",
        "#DFtcmPC = data frame tuits con mension Primera Candidato\n",
        "#DFtsmPC = data frame tuits sin mension Primera Candidato"
      ],
      "metadata": {
        "id": "EpwAHbAtVkgH"
      },
      "execution_count": null,
      "outputs": []
    },
    {
      "cell_type": "code",
      "source": [
        "DFtcmPC = addMentionClearText(DFtcmPC, cuentasCandidatoPrimera)"
      ],
      "metadata": {
        "id": "YIJqKSwrixn9"
      },
      "execution_count": null,
      "outputs": []
    },
    {
      "cell_type": "code",
      "source": [
        "DFtcmPC"
      ],
      "metadata": {
        "colab": {
          "base_uri": "https://localhost:8080/"
        },
        "id": "83WoOOXkjdI_",
        "outputId": "f9bc3f2f-19fa-470b-ffe9-4713feaae7c3"
      },
      "execution_count": null,
      "outputs": [
        {
          "output_type": "execute_result",
          "data": {
            "text/plain": [
              "                                                 content           mencion\n",
              "0      @Ollanta_HumalaT Necesito una foto así para mi...  @Ollanta_HumalaT\n",
              "1      @Ollanta_HumalaT Mi mamá votará por usted 😄 yo...  @Ollanta_HumalaT\n",
              "2      @Ollanta_HumalaT Los futuros juicios que tiene...  @Ollanta_HumalaT\n",
              "3      @Ollanta_HumalaT Y que paso con Nadine?? Ya no...  @Ollanta_HumalaT\n",
              "4      @diariocorreo @Ollanta_HumalaT No te pesan los...  @Ollanta_HumalaT\n",
              "...                                                  ...               ...\n",
              "11652  @CesarAcunaP @Peru_APP ¿Ahí están los memes? T...      @CesarAcunaP\n",
              "11653  @CesarAcunaP @Peru_APP Es de memes? La bajo so...      @CesarAcunaP\n",
              "11654     @CesarAcunaP @Peru_APP Ni así me regalen megas      @CesarAcunaP\n",
              "11655  @CesarAcunaP @Peru_APP No se olviden de visita...      @CesarAcunaP\n",
              "11656  @Peru_APP @CesarAcunaP Hay que conocer su hist...      @CesarAcunaP\n",
              "\n",
              "[11657 rows x 2 columns]"
            ],
            "text/html": [
              "\n",
              "  <div id=\"df-4d8f2d4f-cbc7-4a50-9795-96fbfd9c1ab7\">\n",
              "    <div class=\"colab-df-container\">\n",
              "      <div>\n",
              "<style scoped>\n",
              "    .dataframe tbody tr th:only-of-type {\n",
              "        vertical-align: middle;\n",
              "    }\n",
              "\n",
              "    .dataframe tbody tr th {\n",
              "        vertical-align: top;\n",
              "    }\n",
              "\n",
              "    .dataframe thead th {\n",
              "        text-align: right;\n",
              "    }\n",
              "</style>\n",
              "<table border=\"1\" class=\"dataframe\">\n",
              "  <thead>\n",
              "    <tr style=\"text-align: right;\">\n",
              "      <th></th>\n",
              "      <th>content</th>\n",
              "      <th>mencion</th>\n",
              "    </tr>\n",
              "  </thead>\n",
              "  <tbody>\n",
              "    <tr>\n",
              "      <th>0</th>\n",
              "      <td>@Ollanta_HumalaT Necesito una foto así para mi...</td>\n",
              "      <td>@Ollanta_HumalaT</td>\n",
              "    </tr>\n",
              "    <tr>\n",
              "      <th>1</th>\n",
              "      <td>@Ollanta_HumalaT Mi mamá votará por usted 😄 yo...</td>\n",
              "      <td>@Ollanta_HumalaT</td>\n",
              "    </tr>\n",
              "    <tr>\n",
              "      <th>2</th>\n",
              "      <td>@Ollanta_HumalaT Los futuros juicios que tiene...</td>\n",
              "      <td>@Ollanta_HumalaT</td>\n",
              "    </tr>\n",
              "    <tr>\n",
              "      <th>3</th>\n",
              "      <td>@Ollanta_HumalaT Y que paso con Nadine?? Ya no...</td>\n",
              "      <td>@Ollanta_HumalaT</td>\n",
              "    </tr>\n",
              "    <tr>\n",
              "      <th>4</th>\n",
              "      <td>@diariocorreo @Ollanta_HumalaT No te pesan los...</td>\n",
              "      <td>@Ollanta_HumalaT</td>\n",
              "    </tr>\n",
              "    <tr>\n",
              "      <th>...</th>\n",
              "      <td>...</td>\n",
              "      <td>...</td>\n",
              "    </tr>\n",
              "    <tr>\n",
              "      <th>11652</th>\n",
              "      <td>@CesarAcunaP @Peru_APP ¿Ahí están los memes? T...</td>\n",
              "      <td>@CesarAcunaP</td>\n",
              "    </tr>\n",
              "    <tr>\n",
              "      <th>11653</th>\n",
              "      <td>@CesarAcunaP @Peru_APP Es de memes? La bajo so...</td>\n",
              "      <td>@CesarAcunaP</td>\n",
              "    </tr>\n",
              "    <tr>\n",
              "      <th>11654</th>\n",
              "      <td>@CesarAcunaP @Peru_APP Ni así me regalen megas</td>\n",
              "      <td>@CesarAcunaP</td>\n",
              "    </tr>\n",
              "    <tr>\n",
              "      <th>11655</th>\n",
              "      <td>@CesarAcunaP @Peru_APP No se olviden de visita...</td>\n",
              "      <td>@CesarAcunaP</td>\n",
              "    </tr>\n",
              "    <tr>\n",
              "      <th>11656</th>\n",
              "      <td>@Peru_APP @CesarAcunaP Hay que conocer su hist...</td>\n",
              "      <td>@CesarAcunaP</td>\n",
              "    </tr>\n",
              "  </tbody>\n",
              "</table>\n",
              "<p>11657 rows × 2 columns</p>\n",
              "</div>\n",
              "      <button class=\"colab-df-convert\" onclick=\"convertToInteractive('df-4d8f2d4f-cbc7-4a50-9795-96fbfd9c1ab7')\"\n",
              "              title=\"Convert this dataframe to an interactive table.\"\n",
              "              style=\"display:none;\">\n",
              "        \n",
              "  <svg xmlns=\"http://www.w3.org/2000/svg\" height=\"24px\"viewBox=\"0 0 24 24\"\n",
              "       width=\"24px\">\n",
              "    <path d=\"M0 0h24v24H0V0z\" fill=\"none\"/>\n",
              "    <path d=\"M18.56 5.44l.94 2.06.94-2.06 2.06-.94-2.06-.94-.94-2.06-.94 2.06-2.06.94zm-11 1L8.5 8.5l.94-2.06 2.06-.94-2.06-.94L8.5 2.5l-.94 2.06-2.06.94zm10 10l.94 2.06.94-2.06 2.06-.94-2.06-.94-.94-2.06-.94 2.06-2.06.94z\"/><path d=\"M17.41 7.96l-1.37-1.37c-.4-.4-.92-.59-1.43-.59-.52 0-1.04.2-1.43.59L10.3 9.45l-7.72 7.72c-.78.78-.78 2.05 0 2.83L4 21.41c.39.39.9.59 1.41.59.51 0 1.02-.2 1.41-.59l7.78-7.78 2.81-2.81c.8-.78.8-2.07 0-2.86zM5.41 20L4 18.59l7.72-7.72 1.47 1.35L5.41 20z\"/>\n",
              "  </svg>\n",
              "      </button>\n",
              "      \n",
              "  <style>\n",
              "    .colab-df-container {\n",
              "      display:flex;\n",
              "      flex-wrap:wrap;\n",
              "      gap: 12px;\n",
              "    }\n",
              "\n",
              "    .colab-df-convert {\n",
              "      background-color: #E8F0FE;\n",
              "      border: none;\n",
              "      border-radius: 50%;\n",
              "      cursor: pointer;\n",
              "      display: none;\n",
              "      fill: #1967D2;\n",
              "      height: 32px;\n",
              "      padding: 0 0 0 0;\n",
              "      width: 32px;\n",
              "    }\n",
              "\n",
              "    .colab-df-convert:hover {\n",
              "      background-color: #E2EBFA;\n",
              "      box-shadow: 0px 1px 2px rgba(60, 64, 67, 0.3), 0px 1px 3px 1px rgba(60, 64, 67, 0.15);\n",
              "      fill: #174EA6;\n",
              "    }\n",
              "\n",
              "    [theme=dark] .colab-df-convert {\n",
              "      background-color: #3B4455;\n",
              "      fill: #D2E3FC;\n",
              "    }\n",
              "\n",
              "    [theme=dark] .colab-df-convert:hover {\n",
              "      background-color: #434B5C;\n",
              "      box-shadow: 0px 1px 3px 1px rgba(0, 0, 0, 0.15);\n",
              "      filter: drop-shadow(0px 1px 2px rgba(0, 0, 0, 0.3));\n",
              "      fill: #FFFFFF;\n",
              "    }\n",
              "  </style>\n",
              "\n",
              "      <script>\n",
              "        const buttonEl =\n",
              "          document.querySelector('#df-4d8f2d4f-cbc7-4a50-9795-96fbfd9c1ab7 button.colab-df-convert');\n",
              "        buttonEl.style.display =\n",
              "          google.colab.kernel.accessAllowed ? 'block' : 'none';\n",
              "\n",
              "        async function convertToInteractive(key) {\n",
              "          const element = document.querySelector('#df-4d8f2d4f-cbc7-4a50-9795-96fbfd9c1ab7');\n",
              "          const dataTable =\n",
              "            await google.colab.kernel.invokeFunction('convertToInteractive',\n",
              "                                                     [key], {});\n",
              "          if (!dataTable) return;\n",
              "\n",
              "          const docLinkHtml = 'Like what you see? Visit the ' +\n",
              "            '<a target=\"_blank\" href=https://colab.research.google.com/notebooks/data_table.ipynb>data table notebook</a>'\n",
              "            + ' to learn more about interactive tables.';\n",
              "          element.innerHTML = '';\n",
              "          dataTable['output_type'] = 'display_data';\n",
              "          await google.colab.output.renderOutput(dataTable, element);\n",
              "          const docLink = document.createElement('div');\n",
              "          docLink.innerHTML = docLinkHtml;\n",
              "          element.appendChild(docLink);\n",
              "        }\n",
              "      </script>\n",
              "    </div>\n",
              "  </div>\n",
              "  "
            ]
          },
          "metadata": {},
          "execution_count": 27
        }
      ]
    },
    {
      "cell_type": "markdown",
      "source": [
        "####Segunda Vuelta"
      ],
      "metadata": {
        "id": "z-3F3YOyEXFn"
      }
    },
    {
      "cell_type": "code",
      "source": [
        "#Cargamos la data\n",
        "data = pd.read_csv('datosSegundaCompleto.csv')\n",
        "data"
      ],
      "metadata": {
        "id": "S_bxIPP7EZOn",
        "colab": {
          "base_uri": "https://localhost:8080/"
        },
        "outputId": "bb7e3cbc-5d61-4ec2-89a1-b5ad9f5e6e26"
      },
      "execution_count": null,
      "outputs": [
        {
          "output_type": "execute_result",
          "data": {
            "text/plain": [
              "       Unnamed: 0  Unnamed: 0.1  Unnamed: 0.1.1                   Datetime  \\\n",
              "0               0             0               0  2021-05-29 23:59:55+00:00   \n",
              "1               1             1               1  2021-05-29 23:59:40+00:00   \n",
              "2               2             2               2  2021-05-29 23:59:33+00:00   \n",
              "3               3             3               3  2021-05-29 23:59:28+00:00   \n",
              "4               4             4               4  2021-05-29 23:59:28+00:00   \n",
              "...           ...           ...             ...                        ...   \n",
              "15002       15002          5000            4996  2021-05-21 04:48:10+00:00   \n",
              "15003       15003          5001            4997  2021-05-21 04:41:34+00:00   \n",
              "15004       15004          5002            4998  2021-05-21 04:40:25+00:00   \n",
              "15005       15005          5003            4999  2021-05-21 04:38:18+00:00   \n",
              "15006       15006          5004            5000  2021-05-21 04:37:10+00:00   \n",
              "\n",
              "                                                    Text        Username  \n",
              "0      @chrisbustc @edisonflores135 @KeikoFujimori Es...   Philo05594171  \n",
              "1      @Politico_pe @fuerzapopular @KeikoFujimori htt...   avancemossoto  \n",
              "2      @KeikoFujimori @liliantintori @leopoldolopez Q...      pdiazperez  \n",
              "3      @harrycomodoro @chrisbustc @KeikoFujimori ASI  ES        ramm2011  \n",
              "4      @KeikoFujimori @liliantintori @leopoldolopez O...       micky_svr  \n",
              "...                                                  ...             ...  \n",
              "15002  @ilawiperu @CristhianRS @PERU_LIBRE1 Y los ter...      psvending1  \n",
              "15003  @PERU_LIBRE1 Qué bonitos militantes ah! Tambié...  Raquel71585851  \n",
              "15004              @PERU_LIBRE1 No se cayó, se desplomó!      chukivoley  \n",
              "15005  @mianvemo @PERU_LIBRE1 Yo tb, todos los profes...  Raquel71585851  \n",
              "15006  @GuilleBermejo01 En @exitosape radio oficial d...    GeographerDC  \n",
              "\n",
              "[15007 rows x 6 columns]"
            ],
            "text/html": [
              "\n",
              "  <div id=\"df-050f1b34-d636-4030-b728-c4349e85223c\">\n",
              "    <div class=\"colab-df-container\">\n",
              "      <div>\n",
              "<style scoped>\n",
              "    .dataframe tbody tr th:only-of-type {\n",
              "        vertical-align: middle;\n",
              "    }\n",
              "\n",
              "    .dataframe tbody tr th {\n",
              "        vertical-align: top;\n",
              "    }\n",
              "\n",
              "    .dataframe thead th {\n",
              "        text-align: right;\n",
              "    }\n",
              "</style>\n",
              "<table border=\"1\" class=\"dataframe\">\n",
              "  <thead>\n",
              "    <tr style=\"text-align: right;\">\n",
              "      <th></th>\n",
              "      <th>Unnamed: 0</th>\n",
              "      <th>Unnamed: 0.1</th>\n",
              "      <th>Unnamed: 0.1.1</th>\n",
              "      <th>Datetime</th>\n",
              "      <th>Text</th>\n",
              "      <th>Username</th>\n",
              "    </tr>\n",
              "  </thead>\n",
              "  <tbody>\n",
              "    <tr>\n",
              "      <th>0</th>\n",
              "      <td>0</td>\n",
              "      <td>0</td>\n",
              "      <td>0</td>\n",
              "      <td>2021-05-29 23:59:55+00:00</td>\n",
              "      <td>@chrisbustc @edisonflores135 @KeikoFujimori Es...</td>\n",
              "      <td>Philo05594171</td>\n",
              "    </tr>\n",
              "    <tr>\n",
              "      <th>1</th>\n",
              "      <td>1</td>\n",
              "      <td>1</td>\n",
              "      <td>1</td>\n",
              "      <td>2021-05-29 23:59:40+00:00</td>\n",
              "      <td>@Politico_pe @fuerzapopular @KeikoFujimori htt...</td>\n",
              "      <td>avancemossoto</td>\n",
              "    </tr>\n",
              "    <tr>\n",
              "      <th>2</th>\n",
              "      <td>2</td>\n",
              "      <td>2</td>\n",
              "      <td>2</td>\n",
              "      <td>2021-05-29 23:59:33+00:00</td>\n",
              "      <td>@KeikoFujimori @liliantintori @leopoldolopez Q...</td>\n",
              "      <td>pdiazperez</td>\n",
              "    </tr>\n",
              "    <tr>\n",
              "      <th>3</th>\n",
              "      <td>3</td>\n",
              "      <td>3</td>\n",
              "      <td>3</td>\n",
              "      <td>2021-05-29 23:59:28+00:00</td>\n",
              "      <td>@harrycomodoro @chrisbustc @KeikoFujimori ASI  ES</td>\n",
              "      <td>ramm2011</td>\n",
              "    </tr>\n",
              "    <tr>\n",
              "      <th>4</th>\n",
              "      <td>4</td>\n",
              "      <td>4</td>\n",
              "      <td>4</td>\n",
              "      <td>2021-05-29 23:59:28+00:00</td>\n",
              "      <td>@KeikoFujimori @liliantintori @leopoldolopez O...</td>\n",
              "      <td>micky_svr</td>\n",
              "    </tr>\n",
              "    <tr>\n",
              "      <th>...</th>\n",
              "      <td>...</td>\n",
              "      <td>...</td>\n",
              "      <td>...</td>\n",
              "      <td>...</td>\n",
              "      <td>...</td>\n",
              "      <td>...</td>\n",
              "    </tr>\n",
              "    <tr>\n",
              "      <th>15002</th>\n",
              "      <td>15002</td>\n",
              "      <td>5000</td>\n",
              "      <td>4996</td>\n",
              "      <td>2021-05-21 04:48:10+00:00</td>\n",
              "      <td>@ilawiperu @CristhianRS @PERU_LIBRE1 Y los ter...</td>\n",
              "      <td>psvending1</td>\n",
              "    </tr>\n",
              "    <tr>\n",
              "      <th>15003</th>\n",
              "      <td>15003</td>\n",
              "      <td>5001</td>\n",
              "      <td>4997</td>\n",
              "      <td>2021-05-21 04:41:34+00:00</td>\n",
              "      <td>@PERU_LIBRE1 Qué bonitos militantes ah! Tambié...</td>\n",
              "      <td>Raquel71585851</td>\n",
              "    </tr>\n",
              "    <tr>\n",
              "      <th>15004</th>\n",
              "      <td>15004</td>\n",
              "      <td>5002</td>\n",
              "      <td>4998</td>\n",
              "      <td>2021-05-21 04:40:25+00:00</td>\n",
              "      <td>@PERU_LIBRE1 No se cayó, se desplomó!</td>\n",
              "      <td>chukivoley</td>\n",
              "    </tr>\n",
              "    <tr>\n",
              "      <th>15005</th>\n",
              "      <td>15005</td>\n",
              "      <td>5003</td>\n",
              "      <td>4999</td>\n",
              "      <td>2021-05-21 04:38:18+00:00</td>\n",
              "      <td>@mianvemo @PERU_LIBRE1 Yo tb, todos los profes...</td>\n",
              "      <td>Raquel71585851</td>\n",
              "    </tr>\n",
              "    <tr>\n",
              "      <th>15006</th>\n",
              "      <td>15006</td>\n",
              "      <td>5004</td>\n",
              "      <td>5000</td>\n",
              "      <td>2021-05-21 04:37:10+00:00</td>\n",
              "      <td>@GuilleBermejo01 En @exitosape radio oficial d...</td>\n",
              "      <td>GeographerDC</td>\n",
              "    </tr>\n",
              "  </tbody>\n",
              "</table>\n",
              "<p>15007 rows × 6 columns</p>\n",
              "</div>\n",
              "      <button class=\"colab-df-convert\" onclick=\"convertToInteractive('df-050f1b34-d636-4030-b728-c4349e85223c')\"\n",
              "              title=\"Convert this dataframe to an interactive table.\"\n",
              "              style=\"display:none;\">\n",
              "        \n",
              "  <svg xmlns=\"http://www.w3.org/2000/svg\" height=\"24px\"viewBox=\"0 0 24 24\"\n",
              "       width=\"24px\">\n",
              "    <path d=\"M0 0h24v24H0V0z\" fill=\"none\"/>\n",
              "    <path d=\"M18.56 5.44l.94 2.06.94-2.06 2.06-.94-2.06-.94-.94-2.06-.94 2.06-2.06.94zm-11 1L8.5 8.5l.94-2.06 2.06-.94-2.06-.94L8.5 2.5l-.94 2.06-2.06.94zm10 10l.94 2.06.94-2.06 2.06-.94-2.06-.94-.94-2.06-.94 2.06-2.06.94z\"/><path d=\"M17.41 7.96l-1.37-1.37c-.4-.4-.92-.59-1.43-.59-.52 0-1.04.2-1.43.59L10.3 9.45l-7.72 7.72c-.78.78-.78 2.05 0 2.83L4 21.41c.39.39.9.59 1.41.59.51 0 1.02-.2 1.41-.59l7.78-7.78 2.81-2.81c.8-.78.8-2.07 0-2.86zM5.41 20L4 18.59l7.72-7.72 1.47 1.35L5.41 20z\"/>\n",
              "  </svg>\n",
              "      </button>\n",
              "      \n",
              "  <style>\n",
              "    .colab-df-container {\n",
              "      display:flex;\n",
              "      flex-wrap:wrap;\n",
              "      gap: 12px;\n",
              "    }\n",
              "\n",
              "    .colab-df-convert {\n",
              "      background-color: #E8F0FE;\n",
              "      border: none;\n",
              "      border-radius: 50%;\n",
              "      cursor: pointer;\n",
              "      display: none;\n",
              "      fill: #1967D2;\n",
              "      height: 32px;\n",
              "      padding: 0 0 0 0;\n",
              "      width: 32px;\n",
              "    }\n",
              "\n",
              "    .colab-df-convert:hover {\n",
              "      background-color: #E2EBFA;\n",
              "      box-shadow: 0px 1px 2px rgba(60, 64, 67, 0.3), 0px 1px 3px 1px rgba(60, 64, 67, 0.15);\n",
              "      fill: #174EA6;\n",
              "    }\n",
              "\n",
              "    [theme=dark] .colab-df-convert {\n",
              "      background-color: #3B4455;\n",
              "      fill: #D2E3FC;\n",
              "    }\n",
              "\n",
              "    [theme=dark] .colab-df-convert:hover {\n",
              "      background-color: #434B5C;\n",
              "      box-shadow: 0px 1px 3px 1px rgba(0, 0, 0, 0.15);\n",
              "      filter: drop-shadow(0px 1px 2px rgba(0, 0, 0, 0.3));\n",
              "      fill: #FFFFFF;\n",
              "    }\n",
              "  </style>\n",
              "\n",
              "      <script>\n",
              "        const buttonEl =\n",
              "          document.querySelector('#df-050f1b34-d636-4030-b728-c4349e85223c button.colab-df-convert');\n",
              "        buttonEl.style.display =\n",
              "          google.colab.kernel.accessAllowed ? 'block' : 'none';\n",
              "\n",
              "        async function convertToInteractive(key) {\n",
              "          const element = document.querySelector('#df-050f1b34-d636-4030-b728-c4349e85223c');\n",
              "          const dataTable =\n",
              "            await google.colab.kernel.invokeFunction('convertToInteractive',\n",
              "                                                     [key], {});\n",
              "          if (!dataTable) return;\n",
              "\n",
              "          const docLinkHtml = 'Like what you see? Visit the ' +\n",
              "            '<a target=\"_blank\" href=https://colab.research.google.com/notebooks/data_table.ipynb>data table notebook</a>'\n",
              "            + ' to learn more about interactive tables.';\n",
              "          element.innerHTML = '';\n",
              "          dataTable['output_type'] = 'display_data';\n",
              "          await google.colab.output.renderOutput(dataTable, element);\n",
              "          const docLink = document.createElement('div');\n",
              "          docLink.innerHTML = docLinkHtml;\n",
              "          element.appendChild(docLink);\n",
              "        }\n",
              "      </script>\n",
              "    </div>\n",
              "  </div>\n",
              "  "
            ]
          },
          "metadata": {},
          "execution_count": 29
        }
      ]
    },
    {
      "cell_type": "code",
      "source": [
        "#ELIMINACION DUPLICADO DE MISMA PERSONA\n",
        "u_tweets = data.drop_duplicates('Username',keep='last')\n",
        "\n",
        "#UTILIZAR SOLO LA COLUMNA TEXT\n",
        "tuits = u_tweets.Text\n",
        "# ELiminamos nulls\n",
        "tuits.dropna(inplace = True)\n",
        "tuits.reset_index(drop = True, inplace = True)\n",
        "tuits"
      ],
      "metadata": {
        "id": "yz-fGjnCEgWU",
        "colab": {
          "base_uri": "https://localhost:8080/"
        },
        "outputId": "9d2a6d6f-bffd-4458-b8e3-6bc73fbab2c6"
      },
      "execution_count": null,
      "outputs": [
        {
          "output_type": "execute_result",
          "data": {
            "text/plain": [
              "0       @chrisbustc @edisonflores135 @KeikoFujimori Es...\n",
              "1       @KeikoFujimori @liliantintori @leopoldolopez Q...\n",
              "2       @KeikoFujimori @liliantintori @leopoldolopez O...\n",
              "3       @fsanchezmolocho @rpadillafernan @AlertaNews24...\n",
              "4       @benjami24108516 @canalN_ @KeikoFujimori Herma...\n",
              "                              ...                        \n",
              "7658    @contracultural Las plazas q llena @PedroCasti...\n",
              "7659    @ilawiperu @CristhianRS @PERU_LIBRE1 Y los ter...\n",
              "7660                @PERU_LIBRE1 No se cayó, se desplomó!\n",
              "7661    @mianvemo @PERU_LIBRE1 Yo tb, todos los profes...\n",
              "7662    @GuilleBermejo01 En @exitosape radio oficial d...\n",
              "Name: Text, Length: 7663, dtype: object"
            ]
          },
          "metadata": {},
          "execution_count": 30
        }
      ]
    },
    {
      "cell_type": "code",
      "source": [
        "#dividimos los datos con mension\n",
        "DFtcmSC,DFtsmSC = dividirDataMension(tuits, cuentasCandidatoSegunda)\n",
        "\n",
        "#DFtcmSC = data frame tuits con mension Segunda Candidatos\n",
        "#DFtsmP = data frame tuits sin mension Segunda"
      ],
      "metadata": {
        "id": "5rU1STDFEja7"
      },
      "execution_count": null,
      "outputs": []
    },
    {
      "cell_type": "code",
      "source": [
        "#Agregamos columna de mensión al candidato\n",
        "DFtcmSC = addMentionClearText(DFtcmSC, cuentasCandidatoSegunda)\n",
        "DFtcmSC"
      ],
      "metadata": {
        "colab": {
          "base_uri": "https://localhost:8080/"
        },
        "id": "4038LRpNErYC",
        "outputId": "204243fd-8492-4341-fff9-ac874f21e539"
      },
      "execution_count": null,
      "outputs": [
        {
          "output_type": "execute_result",
          "data": {
            "text/plain": [
              "                                                content           mencion\n",
              "0     @chrisbustc @edisonflores135 @KeikoFujimori Es...    @KeikoFujimori\n",
              "1     @KeikoFujimori @liliantintori @leopoldolopez Q...    @KeikoFujimori\n",
              "2     @KeikoFujimori @liliantintori @leopoldolopez O...    @KeikoFujimori\n",
              "3     @fsanchezmolocho @rpadillafernan @AlertaNews24...    @KeikoFujimori\n",
              "4     @benjami24108516 @canalN_ @KeikoFujimori Herma...    @KeikoFujimori\n",
              "...                                                 ...               ...\n",
              "4723  @Raygada_LuisE @VLADIMIR_CERRON @RPPNoticias @...    @KeikoFujimori\n",
              "4724  @VLADIMIR_CERR0N @Raygada_LuisE @VLADIMIR_CERR...    @KeikoFujimori\n",
              "4725  @leydelacalle @PedroCastilloTe @PERU_LIBRE1 Cl...  @PedroCastilloTe\n",
              "4726  @Raygada_LuisE @VLADIMIR_CERRON @RPPNoticias @...    @KeikoFujimori\n",
              "4727  @contracultural Las plazas q llena @PedroCasti...  @PedroCastilloTe\n",
              "\n",
              "[4728 rows x 2 columns]"
            ],
            "text/html": [
              "\n",
              "  <div id=\"df-efe47f30-2045-4102-9f22-6b0a38b54ece\">\n",
              "    <div class=\"colab-df-container\">\n",
              "      <div>\n",
              "<style scoped>\n",
              "    .dataframe tbody tr th:only-of-type {\n",
              "        vertical-align: middle;\n",
              "    }\n",
              "\n",
              "    .dataframe tbody tr th {\n",
              "        vertical-align: top;\n",
              "    }\n",
              "\n",
              "    .dataframe thead th {\n",
              "        text-align: right;\n",
              "    }\n",
              "</style>\n",
              "<table border=\"1\" class=\"dataframe\">\n",
              "  <thead>\n",
              "    <tr style=\"text-align: right;\">\n",
              "      <th></th>\n",
              "      <th>content</th>\n",
              "      <th>mencion</th>\n",
              "    </tr>\n",
              "  </thead>\n",
              "  <tbody>\n",
              "    <tr>\n",
              "      <th>0</th>\n",
              "      <td>@chrisbustc @edisonflores135 @KeikoFujimori Es...</td>\n",
              "      <td>@KeikoFujimori</td>\n",
              "    </tr>\n",
              "    <tr>\n",
              "      <th>1</th>\n",
              "      <td>@KeikoFujimori @liliantintori @leopoldolopez Q...</td>\n",
              "      <td>@KeikoFujimori</td>\n",
              "    </tr>\n",
              "    <tr>\n",
              "      <th>2</th>\n",
              "      <td>@KeikoFujimori @liliantintori @leopoldolopez O...</td>\n",
              "      <td>@KeikoFujimori</td>\n",
              "    </tr>\n",
              "    <tr>\n",
              "      <th>3</th>\n",
              "      <td>@fsanchezmolocho @rpadillafernan @AlertaNews24...</td>\n",
              "      <td>@KeikoFujimori</td>\n",
              "    </tr>\n",
              "    <tr>\n",
              "      <th>4</th>\n",
              "      <td>@benjami24108516 @canalN_ @KeikoFujimori Herma...</td>\n",
              "      <td>@KeikoFujimori</td>\n",
              "    </tr>\n",
              "    <tr>\n",
              "      <th>...</th>\n",
              "      <td>...</td>\n",
              "      <td>...</td>\n",
              "    </tr>\n",
              "    <tr>\n",
              "      <th>4723</th>\n",
              "      <td>@Raygada_LuisE @VLADIMIR_CERRON @RPPNoticias @...</td>\n",
              "      <td>@KeikoFujimori</td>\n",
              "    </tr>\n",
              "    <tr>\n",
              "      <th>4724</th>\n",
              "      <td>@VLADIMIR_CERR0N @Raygada_LuisE @VLADIMIR_CERR...</td>\n",
              "      <td>@KeikoFujimori</td>\n",
              "    </tr>\n",
              "    <tr>\n",
              "      <th>4725</th>\n",
              "      <td>@leydelacalle @PedroCastilloTe @PERU_LIBRE1 Cl...</td>\n",
              "      <td>@PedroCastilloTe</td>\n",
              "    </tr>\n",
              "    <tr>\n",
              "      <th>4726</th>\n",
              "      <td>@Raygada_LuisE @VLADIMIR_CERRON @RPPNoticias @...</td>\n",
              "      <td>@KeikoFujimori</td>\n",
              "    </tr>\n",
              "    <tr>\n",
              "      <th>4727</th>\n",
              "      <td>@contracultural Las plazas q llena @PedroCasti...</td>\n",
              "      <td>@PedroCastilloTe</td>\n",
              "    </tr>\n",
              "  </tbody>\n",
              "</table>\n",
              "<p>4728 rows × 2 columns</p>\n",
              "</div>\n",
              "      <button class=\"colab-df-convert\" onclick=\"convertToInteractive('df-efe47f30-2045-4102-9f22-6b0a38b54ece')\"\n",
              "              title=\"Convert this dataframe to an interactive table.\"\n",
              "              style=\"display:none;\">\n",
              "        \n",
              "  <svg xmlns=\"http://www.w3.org/2000/svg\" height=\"24px\"viewBox=\"0 0 24 24\"\n",
              "       width=\"24px\">\n",
              "    <path d=\"M0 0h24v24H0V0z\" fill=\"none\"/>\n",
              "    <path d=\"M18.56 5.44l.94 2.06.94-2.06 2.06-.94-2.06-.94-.94-2.06-.94 2.06-2.06.94zm-11 1L8.5 8.5l.94-2.06 2.06-.94-2.06-.94L8.5 2.5l-.94 2.06-2.06.94zm10 10l.94 2.06.94-2.06 2.06-.94-2.06-.94-.94-2.06-.94 2.06-2.06.94z\"/><path d=\"M17.41 7.96l-1.37-1.37c-.4-.4-.92-.59-1.43-.59-.52 0-1.04.2-1.43.59L10.3 9.45l-7.72 7.72c-.78.78-.78 2.05 0 2.83L4 21.41c.39.39.9.59 1.41.59.51 0 1.02-.2 1.41-.59l7.78-7.78 2.81-2.81c.8-.78.8-2.07 0-2.86zM5.41 20L4 18.59l7.72-7.72 1.47 1.35L5.41 20z\"/>\n",
              "  </svg>\n",
              "      </button>\n",
              "      \n",
              "  <style>\n",
              "    .colab-df-container {\n",
              "      display:flex;\n",
              "      flex-wrap:wrap;\n",
              "      gap: 12px;\n",
              "    }\n",
              "\n",
              "    .colab-df-convert {\n",
              "      background-color: #E8F0FE;\n",
              "      border: none;\n",
              "      border-radius: 50%;\n",
              "      cursor: pointer;\n",
              "      display: none;\n",
              "      fill: #1967D2;\n",
              "      height: 32px;\n",
              "      padding: 0 0 0 0;\n",
              "      width: 32px;\n",
              "    }\n",
              "\n",
              "    .colab-df-convert:hover {\n",
              "      background-color: #E2EBFA;\n",
              "      box-shadow: 0px 1px 2px rgba(60, 64, 67, 0.3), 0px 1px 3px 1px rgba(60, 64, 67, 0.15);\n",
              "      fill: #174EA6;\n",
              "    }\n",
              "\n",
              "    [theme=dark] .colab-df-convert {\n",
              "      background-color: #3B4455;\n",
              "      fill: #D2E3FC;\n",
              "    }\n",
              "\n",
              "    [theme=dark] .colab-df-convert:hover {\n",
              "      background-color: #434B5C;\n",
              "      box-shadow: 0px 1px 3px 1px rgba(0, 0, 0, 0.15);\n",
              "      filter: drop-shadow(0px 1px 2px rgba(0, 0, 0, 0.3));\n",
              "      fill: #FFFFFF;\n",
              "    }\n",
              "  </style>\n",
              "\n",
              "      <script>\n",
              "        const buttonEl =\n",
              "          document.querySelector('#df-efe47f30-2045-4102-9f22-6b0a38b54ece button.colab-df-convert');\n",
              "        buttonEl.style.display =\n",
              "          google.colab.kernel.accessAllowed ? 'block' : 'none';\n",
              "\n",
              "        async function convertToInteractive(key) {\n",
              "          const element = document.querySelector('#df-efe47f30-2045-4102-9f22-6b0a38b54ece');\n",
              "          const dataTable =\n",
              "            await google.colab.kernel.invokeFunction('convertToInteractive',\n",
              "                                                     [key], {});\n",
              "          if (!dataTable) return;\n",
              "\n",
              "          const docLinkHtml = 'Like what you see? Visit the ' +\n",
              "            '<a target=\"_blank\" href=https://colab.research.google.com/notebooks/data_table.ipynb>data table notebook</a>'\n",
              "            + ' to learn more about interactive tables.';\n",
              "          element.innerHTML = '';\n",
              "          dataTable['output_type'] = 'display_data';\n",
              "          await google.colab.output.renderOutput(dataTable, element);\n",
              "          const docLink = document.createElement('div');\n",
              "          docLink.innerHTML = docLinkHtml;\n",
              "          element.appendChild(docLink);\n",
              "        }\n",
              "      </script>\n",
              "    </div>\n",
              "  </div>\n",
              "  "
            ]
          },
          "metadata": {},
          "execution_count": 32
        }
      ]
    },
    {
      "cell_type": "markdown",
      "source": [
        "##2. Preprocesamiento"
      ],
      "metadata": {
        "id": "6_QM2UIqsBUl"
      }
    },
    {
      "cell_type": "markdown",
      "source": [
        "###2.1 Preprocessing: methods"
      ],
      "metadata": {
        "id": "55ka1NrqvZyD"
      }
    },
    {
      "cell_type": "code",
      "source": [
        "# Eliminamos signos de puntuación y sustituimos por espacios en blanco\n",
        "\n",
        "def remove_punctuation_space(df):\n",
        "    PUNCTUATION = re.compile(\"\"\"(\\-)|(\\,)|(\\..)|(\\...)|(\\....)|(\\.....)|(\\......)|(\\.......)\"\"\")\n",
        "    \n",
        "    return \" \".join([PUNCTUATION.sub(\" \", word.lower()) for word in df.split()])"
      ],
      "metadata": {
        "id": "mErCmcnUTnMQ"
      },
      "execution_count": null,
      "outputs": []
    },
    {
      "cell_type": "code",
      "source": [
        "# Eliminamos signos de puntuación sin reemplazo\n",
        "\n",
        "def remove_punctuation(df):\n",
        "    PUNCTUATION = re.compile(\"\"\"(\\.)|(\\;)|(\\:)|(\\!)|(\\?)|(\\¡)|(\\¿)| \\\n",
        "    (\\\")|(\\()|(\\))|(\\[)|(\\])|(\\d+)|(\\/)|(\\“)|(\\”)|(\\')|(\\-)|(\\\")|(\\*)\"\"\")\n",
        "    \n",
        "    return \" \".join([PUNCTUATION.sub(\"\", word.lower()) for word in df.split()])"
      ],
      "metadata": {
        "id": "A5dIWoIOToE3"
      },
      "execution_count": null,
      "outputs": []
    },
    {
      "cell_type": "code",
      "source": [
        "# Corregimos abreviaciones\n",
        "def fix_abbr(x):\n",
        "    if type(x) == list:\n",
        "        words = x\n",
        "    elif type(x) == str:\n",
        "        words = x.split()\n",
        "    else:\n",
        "        raise TypeError('El formato no es válido, debe ser lista o str')\n",
        "\n",
        "    abbrevs = {'d': 'de',\n",
        "               'x': 'por',\n",
        "               'xa': 'para',\n",
        "               'as': 'has',\n",
        "               'q': 'que',\n",
        "               'k': 'que',\n",
        "               'dl': 'del',\n",
        "               'xq': 'porqué',\n",
        "               'dr': 'doctor',\n",
        "               'dra': 'doctora',\n",
        "               'sr': 'señor',\n",
        "               'sra': 'señora',\n",
        "               'm': 'me'}\n",
        "    return \" \".join([abbrevs[word] if word in abbrevs.keys() else word for word in words])"
      ],
      "metadata": {
        "id": "2wNPHWo8TrqI"
      },
      "execution_count": null,
      "outputs": []
    },
    {
      "cell_type": "code",
      "source": [
        "# Eliminamos links\n",
        "def remove_links(df):\n",
        "    return \" \".join([' ' if ('http') in word else word for word in df.split()])"
      ],
      "metadata": {
        "id": "oKTswjKPTu3W"
      },
      "execution_count": null,
      "outputs": []
    },
    {
      "cell_type": "code",
      "source": [
        "# Eliminamos vocales repetidas\n",
        "    \n",
        "def remove_repeated_vocals(df):\n",
        "    \n",
        "    list_new_word = []\n",
        "\n",
        "    for word in df.split(): #separamos en palabras\n",
        "        new_word = []\n",
        "        pos = 0\n",
        "        \n",
        "        for letra in word: #separamos cada palabra en letras\n",
        "            #print(word, letra, pos, '-', new_word)\n",
        "            if pos>0:\n",
        "                if letra in ('a', 'e', 'i', 'o', 'u') and letra == new_word[pos-1]:\n",
        "                    None\n",
        "                else:\n",
        "                    new_word.append(letra)\n",
        "                    pos +=1\n",
        "            else:\n",
        "                new_word.append(letra)\n",
        "            \n",
        "                pos += 1\n",
        "        else:\n",
        "            list_new_word.append(\"\".join(new_word))\n",
        "                \n",
        "    return \" \".join(list_new_word)"
      ],
      "metadata": {
        "id": "80QbJiENT6JX"
      },
      "execution_count": null,
      "outputs": []
    },
    {
      "cell_type": "code",
      "source": [
        "# Normalizamos risas 'jajaja', 'jejeje', 'jojojo'\n",
        "    \n",
        "def normalize_laughts(df):\n",
        "    \n",
        "    list_new_words = []\n",
        "    for word in df.split(): #separamos en palabras\n",
        "        count = 0\n",
        "        vocals_dicc = {'a': 0, 'e': 0, 'i': 0, 'o':0, 'u':0}\n",
        "        \n",
        "        for letra in word:\n",
        "            #print(word)\n",
        "            if letra == 'j':\n",
        "                count+=1\n",
        "            if letra in vocals_dicc.keys():\n",
        "                vocals_dicc[letra] += 1\n",
        "        else:\n",
        "            if count>3:\n",
        "                dicc_risa = {'a': 'jaja', 'e': 'jeje', 'i': 'jiji', 'o': 'jojo', 'u': 'juju'}\n",
        "                risa_type = max(vocals_dicc, key= lambda x: vocals_dicc[x]) #Indica si es a,e,i,o,u\n",
        "                list_new_words.append(dicc_risa[risa_type])\n",
        "            else:\n",
        "                list_new_words.append(word)\n",
        "    \n",
        "    return \" \".join(list_new_words)"
      ],
      "metadata": {
        "id": "4-k9PWB7T7S7"
      },
      "execution_count": null,
      "outputs": []
    },
    {
      "cell_type": "code",
      "source": [
        "# Eliminamos hashtags\n",
        "def remove_hashtags(df):\n",
        "    return \" \".join([' ' if word.startswith('#') else word for word in df.split()])"
      ],
      "metadata": {
        "id": "AZRdGNb_T_AI"
      },
      "execution_count": null,
      "outputs": []
    },
    {
      "cell_type": "code",
      "source": [
        "# Eliminamos menciones\n",
        "def remove_mentions(df):\n",
        "    return \" \".join([' ' if word.startswith('“@') or word.startswith('@') else word for word in df.split()])"
      ],
      "metadata": {
        "id": "zCLjwU0IUKRe"
      },
      "execution_count": null,
      "outputs": []
    },
    {
      "cell_type": "code",
      "source": [
        "# Función para identificar los 'emojis' tradicionales\n",
        "\n",
        "def transform_icons(df):\n",
        "    word_list = []\n",
        "    pos_emojis = [':)', ':D', ':))', ':)))', 'xD', 'xd', 'XD']\n",
        "    neg_emojis = [':(', \":'(\", '>:(', ':,(', \":((\"]\n",
        "    for word in df.split():\n",
        "        if word in neg_emojis:\n",
        "            word = '{emoji_neg}'\n",
        "            word_list.append(word)\n",
        "        elif word in pos_emojis:\n",
        "            word = '{emoji_pos}'\n",
        "            word_list.append(word)\n",
        "        elif ':O' in word:\n",
        "            word = '{emoji_neu}'\n",
        "            word_list.append(word)\n",
        "        else:\n",
        "            word_list.append(word)\n",
        "    return \" \".join(word_list)"
      ],
      "metadata": {
        "id": "FFCzTZF4R1_8"
      },
      "execution_count": null,
      "outputs": []
    },
    {
      "cell_type": "code",
      "source": [
        "# Separamos emojis que vengan juntos\n",
        "def sep_emojis(df):\n",
        "    words_list = []\n",
        "    for token in df.split():\n",
        "        new_word = []\n",
        "        for letra in token:\n",
        "          #emoji.UNICODE_EMOJI['es']\n",
        "            if emoji.distinct_emoji_list(letra):\n",
        "                words_list.append(letra)\n",
        "            else:\n",
        "                new_word.append(letra)\n",
        "        else:\n",
        "            words_list.append(\"\".join(new_word))\n",
        "\n",
        "    return \" \".join(word for word in words_list if word != '')"
      ],
      "metadata": {
        "id": "wsJLqvUER6I6"
      },
      "execution_count": null,
      "outputs": []
    },
    {
      "cell_type": "code",
      "source": [
        "# Creamos diccionario de emojis\n",
        "import csv\n",
        "\n",
        "def _build_dict_from_csv(csv_path):\n",
        "    \"\"\" Fork basado en emosent-py de Fintel Labs Inc. \"\"\"\n",
        "\n",
        "    emoji_sentiment_rankings = {}\n",
        "\n",
        "    with open(csv_path, newline='', encoding='utf-8') as csv_file:\n",
        "        csv_reader = csv.reader(csv_file)\n",
        "        _header_row = next(csv_reader)\n",
        "        for row in csv_reader:\n",
        "            emoji = row[0]\n",
        "            unicode_codepoint = row[1]\n",
        "            occurrences = int(row[2])\n",
        "            negative = float(row[4])\n",
        "            neutral = float(row[5])\n",
        "            positive = float(row[6])\n",
        "\n",
        "            emoji_sentiment_rankings[unicode_codepoint] = {\n",
        "                'emoji': emoji,\n",
        "                'occurrences': occurrences,\n",
        "                'sentiment': [negative, neutral, positive]\n",
        "            }\n",
        "\n",
        "    return emoji_sentiment_rankings\n",
        "\n",
        "EMOJI_SENTIMENT_DICT = _build_dict_from_csv('Emoji_Sentiment_Data_v1.0.csv')"
      ],
      "metadata": {
        "id": "IQjNayeRR_e2"
      },
      "execution_count": null,
      "outputs": []
    },
    {
      "cell_type": "code",
      "source": [
        "# Definimos función para identificar sentimiento del emoji\n",
        "from emosent import get_emoji_sentiment_rank\n",
        "import emoji\n",
        "\n",
        "# Devuelve true/false si es emoji\n",
        "def char_is_emoji(character):\n",
        "    #return character in emoji.UNICODE_EMOJI['es']\n",
        "    return emoji.distinct_emoji_list(character)\n",
        "\n",
        "# DEPRECATED - Devuelve si un emoji es neg/pos/neutro o no identificado\n",
        "def sentiment_emoji(emoji):\n",
        "    try:\n",
        "        sentiment = get_emoji_sentiment_rank(emoji)['sentiment_score']\n",
        "        if sentiment < -0.3:\n",
        "            return '{emoji_neg}'\n",
        "        elif sentiment < 0.3:\n",
        "            return '{emoji_neu}'\n",
        "        elif sentiment >= 0.3:\n",
        "            return '{emoji_pos}'\n",
        "    except:\n",
        "        return '{emoji_na}'\n",
        "    \n",
        "# Devuelve si un emoji es neg/pos/neutro o no identificado\n",
        "def get_emoji_rank(emoji):\n",
        "    \n",
        "    emoji = f'0x{ord(emoji[0]):X}'.lower()\n",
        "    \n",
        "    if emoji in EMOJI_SENTIMENT_DICT.keys():\n",
        "        if EMOJI_SENTIMENT_DICT[emoji]['occurrences'] > 80:\n",
        "            if np.argmax(EMOJI_SENTIMENT_DICT[emoji]['sentiment']) == 0:\n",
        "                return '{emoji_neg}'\n",
        "            elif np.argmax(EMOJI_SENTIMENT_DICT[emoji]['sentiment']) == 1:\n",
        "                return '{emoji_neu}'\n",
        "            else:\n",
        "                return '{emoji_pos}'\n",
        "        else:\n",
        "            return '{emoji_neu}'\n",
        "    else:\n",
        "        return '{emoji_neu}'\n",
        "\n",
        "def transform_emoji(df):\n",
        "    return \" \".join([get_emoji_rank(word) if char_is_emoji(word) else word for word in df.split()])"
      ],
      "metadata": {
        "id": "AFbh1zk-SIlr"
      },
      "execution_count": null,
      "outputs": []
    },
    {
      "cell_type": "code",
      "source": [
        "# Eliminamos stopwords\n",
        "import nltk\n",
        "from nltk.corpus import stopwords\n",
        "\n",
        "nltk.download('stopwords')\n",
        "spanish_stopwords = stopwords.words('spanish')\n",
        "non_stopwords = ['no', 'ni', 'poco', 'mucho', 'nada', 'muchos', 'muy', 'nosotros',\n",
        "                 'nosotras', 'vosotros', 'vosotras', 'ellos', 'ellas', 'ella', 'él', 'tu', 'tú', 'yo',\n",
        "                 'pero', 'hasta', 'contra', 'por']\n",
        "spanish_stopwords = [word for word in stopwords.words('spanish') if word not in non_stopwords]\n",
        "\n",
        "def remove_stopwords(df):\n",
        "    return \" \".join([word for word in df.split() if word not in spanish_stopwords])"
      ],
      "metadata": {
        "id": "9UfFbdAxUTD8",
        "colab": {
          "base_uri": "https://localhost:8080/"
        },
        "outputId": "c1421a2f-fce8-412c-fe5c-8342acbb6adb"
      },
      "execution_count": null,
      "outputs": [
        {
          "output_type": "stream",
          "name": "stderr",
          "text": [
            "[nltk_data] Downloading package stopwords to /root/nltk_data...\n",
            "[nltk_data]   Unzipping corpora/stopwords.zip.\n"
          ]
        }
      ]
    },
    {
      "cell_type": "code",
      "source": [
        "# Función para lematizar\n",
        "\n",
        "# Creamos el objeto\n",
        "import spacy\n",
        "from spacy.lang.es.examples import sentences \n",
        "#from spacy import es_core_news_md\n",
        "#nlp = spacy.load('es_core_news_md')\n",
        "\n",
        "import es_core_news_md\n",
        "spacy.prefer_gpu() # or spacy.require_gpu()\n",
        "nlp = es_core_news_md.load()\n",
        "\n",
        "# Definimos función\n",
        "def lemmatizer(df):\n",
        "    word_list = []\n",
        "    doc = nlp(df)\n",
        "    for tok in doc:\n",
        "        if str(tok) == 'menc':\n",
        "              word_list.append('{menc}')\n",
        "        elif str(tok) == 'hash':\n",
        "              word_list.append('{hash}')\n",
        "        elif str(tok) == 'link':\n",
        "              word_list.append('{link}')\n",
        "        elif str(tok) == 'emoji_pos':\n",
        "              word_list.append('{emoji_pos}')\n",
        "        elif str(tok) == 'emoji_neu':\n",
        "              word_list.append('{emoji_neu}')\n",
        "        elif str(tok) == 'emoji_neg':\n",
        "              word_list.append('{emoji_neg}')\n",
        "        elif str(tok) == 'eur':\n",
        "              word_list.append('{eur}')\n",
        "        else:\n",
        "            word_list.append(tok.lemma_.lower())\n",
        "\n",
        "    return \" \".join([word for word in word_list if (word != '{') and (word!='}')])  "
      ],
      "metadata": {
        "id": "H8nRpl2UUkfL"
      },
      "execution_count": null,
      "outputs": []
    },
    {
      "cell_type": "code",
      "source": [
        "spell = SpellChecker(language='es', distance=1)\n",
        "\n",
        "def correcting_words(df):\n",
        "    misspelled = spell.unknown(df.split())\n",
        "    #return \" \".join([spell.correction(word) if word in misspelled else word for word in df.split()])\n",
        "    return str([spell.correction(word) if word in misspelled else word for word in df.split()])"
      ],
      "metadata": {
        "id": "FIawXzR-U_su"
      },
      "execution_count": null,
      "outputs": []
    },
    {
      "cell_type": "code",
      "source": [
        "def remove_money(df):\n",
        "    wlist = [' ' if ('€' in word) | ('soles' in word) | ('dolares' in word) | ('$' in word) else word for word in df.split()]\n",
        "    return \" \".join(wlist)"
      ],
      "metadata": {
        "id": "68_CHcj-VgOJ"
      },
      "execution_count": null,
      "outputs": []
    },
    {
      "cell_type": "markdown",
      "source": [
        "###2.2 Preprocessing: Train dataset"
      ],
      "metadata": {
        "id": "8gkLkH_QlHoY"
      }
    },
    {
      "cell_type": "code",
      "source": [
        "# Put it all together\n",
        "\n",
        "def transform_tweets(df, mode='lemma'):\n",
        "    \n",
        "    df = remove_links(df)\n",
        "    df = remove_punctuation_space(df)\n",
        "    df = remove_mentions(df)    \n",
        "    df = remove_hashtags(df)\n",
        "    df = remove_money(df)\n",
        "    df = transform_icons(df)\n",
        "    df = sep_emojis(df)\n",
        "    df = transform_emoji(df)\n",
        "    df = normalize_laughts(df)\n",
        "    df = remove_punctuation(df)\n",
        "    df = remove_repeated_vocals(df)\n",
        "    #df = correcting_words(df)\n",
        "    df = fix_abbr(df)\n",
        "    df = remove_stopwords(df)\n",
        "    if mode=='lemma':\n",
        "        df = lemmatizer(df)\n",
        "    elif mode=='stem':\n",
        "        df = stem(df)\n",
        "    else:\n",
        "        raise TypeError('Invalid mode. Must be \"lemma\" or \"stem\"') \n",
        "                        \n",
        "    return df"
      ],
      "metadata": {
        "id": "BTvMzPXoV_zl"
      },
      "execution_count": null,
      "outputs": []
    },
    {
      "cell_type": "code",
      "source": [
        "%%time\n",
        "# Aplicamos a datos de entrenamiento\n",
        "train_df.content = train_df.content.apply(transform_tweets, mode='lemma')"
      ],
      "metadata": {
        "id": "5-3FWCpAkHHJ",
        "colab": {
          "base_uri": "https://localhost:8080/"
        },
        "outputId": "d4af08db-8538-4923-ada1-6876c729f52d"
      },
      "execution_count": null,
      "outputs": [
        {
          "output_type": "stream",
          "name": "stdout",
          "text": [
            "CPU times: user 1min 13s, sys: 364 ms, total: 1min 14s\n",
            "Wall time: 1min 14s\n"
          ]
        }
      ]
    },
    {
      "cell_type": "code",
      "source": [
        "train_df"
      ],
      "metadata": {
        "colab": {
          "base_uri": "https://localhost:8080/"
        },
        "id": "ys-b7UTBRFuM",
        "outputId": "5250cd12-6620-4225-acb1-1508e0f5ecae"
      },
      "execution_count": null,
      "outputs": [
        {
          "output_type": "execute_result",
          "data": {
            "text/plain": [
              "                                                content sentiment\n",
              "0                                       salgo día largo       NEU\n",
              "1                   no librara ayudar menos beso gracia       NEU\n",
              "2                                            gracia mar         P\n",
              "3     off pensar regalito sinde ir sgae ir corrupto ...         N\n",
              "4           conocer alguien adicto drama ja ja ja sonar         P\n",
              "...                                                 ...       ...\n",
              "7189  mucho indignante si adie repar él hoy aqui gra...         N\n",
              "7190                        pobre por discriminar mujer         N\n",
              "7191           crear banco producto mujeres cáncer mama         P\n",
              "7192                sorprendente huída hoy senado rajoy         N\n",
              "7193        mucho bien pero versión gallego tampoco mal         P\n",
              "\n",
              "[7194 rows x 2 columns]"
            ],
            "text/html": [
              "\n",
              "  <div id=\"df-24d2272b-f5ed-4bec-9caa-d2124c36c88f\">\n",
              "    <div class=\"colab-df-container\">\n",
              "      <div>\n",
              "<style scoped>\n",
              "    .dataframe tbody tr th:only-of-type {\n",
              "        vertical-align: middle;\n",
              "    }\n",
              "\n",
              "    .dataframe tbody tr th {\n",
              "        vertical-align: top;\n",
              "    }\n",
              "\n",
              "    .dataframe thead th {\n",
              "        text-align: right;\n",
              "    }\n",
              "</style>\n",
              "<table border=\"1\" class=\"dataframe\">\n",
              "  <thead>\n",
              "    <tr style=\"text-align: right;\">\n",
              "      <th></th>\n",
              "      <th>content</th>\n",
              "      <th>sentiment</th>\n",
              "    </tr>\n",
              "  </thead>\n",
              "  <tbody>\n",
              "    <tr>\n",
              "      <th>0</th>\n",
              "      <td>salgo día largo</td>\n",
              "      <td>NEU</td>\n",
              "    </tr>\n",
              "    <tr>\n",
              "      <th>1</th>\n",
              "      <td>no librara ayudar menos beso gracia</td>\n",
              "      <td>NEU</td>\n",
              "    </tr>\n",
              "    <tr>\n",
              "      <th>2</th>\n",
              "      <td>gracia mar</td>\n",
              "      <td>P</td>\n",
              "    </tr>\n",
              "    <tr>\n",
              "      <th>3</th>\n",
              "      <td>off pensar regalito sinde ir sgae ir corrupto ...</td>\n",
              "      <td>N</td>\n",
              "    </tr>\n",
              "    <tr>\n",
              "      <th>4</th>\n",
              "      <td>conocer alguien adicto drama ja ja ja sonar</td>\n",
              "      <td>P</td>\n",
              "    </tr>\n",
              "    <tr>\n",
              "      <th>...</th>\n",
              "      <td>...</td>\n",
              "      <td>...</td>\n",
              "    </tr>\n",
              "    <tr>\n",
              "      <th>7189</th>\n",
              "      <td>mucho indignante si adie repar él hoy aqui gra...</td>\n",
              "      <td>N</td>\n",
              "    </tr>\n",
              "    <tr>\n",
              "      <th>7190</th>\n",
              "      <td>pobre por discriminar mujer</td>\n",
              "      <td>N</td>\n",
              "    </tr>\n",
              "    <tr>\n",
              "      <th>7191</th>\n",
              "      <td>crear banco producto mujeres cáncer mama</td>\n",
              "      <td>P</td>\n",
              "    </tr>\n",
              "    <tr>\n",
              "      <th>7192</th>\n",
              "      <td>sorprendente huída hoy senado rajoy</td>\n",
              "      <td>N</td>\n",
              "    </tr>\n",
              "    <tr>\n",
              "      <th>7193</th>\n",
              "      <td>mucho bien pero versión gallego tampoco mal</td>\n",
              "      <td>P</td>\n",
              "    </tr>\n",
              "  </tbody>\n",
              "</table>\n",
              "<p>7194 rows × 2 columns</p>\n",
              "</div>\n",
              "      <button class=\"colab-df-convert\" onclick=\"convertToInteractive('df-24d2272b-f5ed-4bec-9caa-d2124c36c88f')\"\n",
              "              title=\"Convert this dataframe to an interactive table.\"\n",
              "              style=\"display:none;\">\n",
              "        \n",
              "  <svg xmlns=\"http://www.w3.org/2000/svg\" height=\"24px\"viewBox=\"0 0 24 24\"\n",
              "       width=\"24px\">\n",
              "    <path d=\"M0 0h24v24H0V0z\" fill=\"none\"/>\n",
              "    <path d=\"M18.56 5.44l.94 2.06.94-2.06 2.06-.94-2.06-.94-.94-2.06-.94 2.06-2.06.94zm-11 1L8.5 8.5l.94-2.06 2.06-.94-2.06-.94L8.5 2.5l-.94 2.06-2.06.94zm10 10l.94 2.06.94-2.06 2.06-.94-2.06-.94-.94-2.06-.94 2.06-2.06.94z\"/><path d=\"M17.41 7.96l-1.37-1.37c-.4-.4-.92-.59-1.43-.59-.52 0-1.04.2-1.43.59L10.3 9.45l-7.72 7.72c-.78.78-.78 2.05 0 2.83L4 21.41c.39.39.9.59 1.41.59.51 0 1.02-.2 1.41-.59l7.78-7.78 2.81-2.81c.8-.78.8-2.07 0-2.86zM5.41 20L4 18.59l7.72-7.72 1.47 1.35L5.41 20z\"/>\n",
              "  </svg>\n",
              "      </button>\n",
              "      \n",
              "  <style>\n",
              "    .colab-df-container {\n",
              "      display:flex;\n",
              "      flex-wrap:wrap;\n",
              "      gap: 12px;\n",
              "    }\n",
              "\n",
              "    .colab-df-convert {\n",
              "      background-color: #E8F0FE;\n",
              "      border: none;\n",
              "      border-radius: 50%;\n",
              "      cursor: pointer;\n",
              "      display: none;\n",
              "      fill: #1967D2;\n",
              "      height: 32px;\n",
              "      padding: 0 0 0 0;\n",
              "      width: 32px;\n",
              "    }\n",
              "\n",
              "    .colab-df-convert:hover {\n",
              "      background-color: #E2EBFA;\n",
              "      box-shadow: 0px 1px 2px rgba(60, 64, 67, 0.3), 0px 1px 3px 1px rgba(60, 64, 67, 0.15);\n",
              "      fill: #174EA6;\n",
              "    }\n",
              "\n",
              "    [theme=dark] .colab-df-convert {\n",
              "      background-color: #3B4455;\n",
              "      fill: #D2E3FC;\n",
              "    }\n",
              "\n",
              "    [theme=dark] .colab-df-convert:hover {\n",
              "      background-color: #434B5C;\n",
              "      box-shadow: 0px 1px 3px 1px rgba(0, 0, 0, 0.15);\n",
              "      filter: drop-shadow(0px 1px 2px rgba(0, 0, 0, 0.3));\n",
              "      fill: #FFFFFF;\n",
              "    }\n",
              "  </style>\n",
              "\n",
              "      <script>\n",
              "        const buttonEl =\n",
              "          document.querySelector('#df-24d2272b-f5ed-4bec-9caa-d2124c36c88f button.colab-df-convert');\n",
              "        buttonEl.style.display =\n",
              "          google.colab.kernel.accessAllowed ? 'block' : 'none';\n",
              "\n",
              "        async function convertToInteractive(key) {\n",
              "          const element = document.querySelector('#df-24d2272b-f5ed-4bec-9caa-d2124c36c88f');\n",
              "          const dataTable =\n",
              "            await google.colab.kernel.invokeFunction('convertToInteractive',\n",
              "                                                     [key], {});\n",
              "          if (!dataTable) return;\n",
              "\n",
              "          const docLinkHtml = 'Like what you see? Visit the ' +\n",
              "            '<a target=\"_blank\" href=https://colab.research.google.com/notebooks/data_table.ipynb>data table notebook</a>'\n",
              "            + ' to learn more about interactive tables.';\n",
              "          element.innerHTML = '';\n",
              "          dataTable['output_type'] = 'display_data';\n",
              "          await google.colab.output.renderOutput(dataTable, element);\n",
              "          const docLink = document.createElement('div');\n",
              "          docLink.innerHTML = docLinkHtml;\n",
              "          element.appendChild(docLink);\n",
              "        }\n",
              "      </script>\n",
              "    </div>\n",
              "  </div>\n",
              "  "
            ]
          },
          "metadata": {},
          "execution_count": 51
        }
      ]
    },
    {
      "cell_type": "markdown",
      "source": [
        "###2.3 Preprocessing: Election dataset"
      ],
      "metadata": {
        "id": "klTDUm6xlXXD"
      }
    },
    {
      "cell_type": "markdown",
      "source": [
        "####Primera Vuelta"
      ],
      "metadata": {
        "id": "_8CkSowwFvqw"
      }
    },
    {
      "cell_type": "code",
      "source": [
        "%%time\n",
        "# Aplicamos a datos de elecciones\n",
        "DFtcmPC.content = DFtcmPC.content.apply(transform_tweets, mode='lemma')"
      ],
      "metadata": {
        "colab": {
          "base_uri": "https://localhost:8080/"
        },
        "id": "f2LuBXjx2k7i",
        "outputId": "8f7d6ec6-418c-43d5-fc66-643af85bd5c8"
      },
      "execution_count": null,
      "outputs": [
        {
          "output_type": "stream",
          "name": "stdout",
          "text": [
            "CPU times: user 1min 56s, sys: 470 ms, total: 1min 57s\n",
            "Wall time: 1min 57s\n"
          ]
        }
      ]
    },
    {
      "cell_type": "code",
      "source": [
        "DFtcmPC"
      ],
      "metadata": {
        "colab": {
          "base_uri": "https://localhost:8080/"
        },
        "id": "XYTAL7ZU3Bqc",
        "outputId": "8b61f822-7ff5-4c1a-db42-e6ae27c2e18e"
      },
      "execution_count": null,
      "outputs": [
        {
          "output_type": "execute_result",
          "data": {
            "text/plain": [
              "                                                 content           mencion\n",
              "0                           necesitar foto así instagram  @Ollanta_HumalaT\n",
              "1      mamá votar por usted {emoji_pos} yo aún no def...  @Ollanta_HumalaT\n",
              "2                                futuro juicio pendiente  @Ollanta_HumalaT\n",
              "3                               paso nadine no acompañar  @Ollanta_HumalaT\n",
              "4                                        no pesar cuerno  @Ollanta_HumalaT\n",
              "...                                                  ...               ...\n",
              "11652                                      ahí mem tu ah      @CesarAcunaP\n",
              "11653       mem bajo solo si mem {emoji_neu} {emoji_neu}      @CesarAcunaP\n",
              "11654                               ni así regalir megas      @CesarAcunaP\n",
              "11655  no olvidar visitar sección humorístico memes m...      @CesarAcunaP\n",
              "11656                  conocer historia topo fujimorismo      @CesarAcunaP\n",
              "\n",
              "[11657 rows x 2 columns]"
            ],
            "text/html": [
              "\n",
              "  <div id=\"df-a9e95abf-06fd-403b-be26-d7eae10da6a8\">\n",
              "    <div class=\"colab-df-container\">\n",
              "      <div>\n",
              "<style scoped>\n",
              "    .dataframe tbody tr th:only-of-type {\n",
              "        vertical-align: middle;\n",
              "    }\n",
              "\n",
              "    .dataframe tbody tr th {\n",
              "        vertical-align: top;\n",
              "    }\n",
              "\n",
              "    .dataframe thead th {\n",
              "        text-align: right;\n",
              "    }\n",
              "</style>\n",
              "<table border=\"1\" class=\"dataframe\">\n",
              "  <thead>\n",
              "    <tr style=\"text-align: right;\">\n",
              "      <th></th>\n",
              "      <th>content</th>\n",
              "      <th>mencion</th>\n",
              "    </tr>\n",
              "  </thead>\n",
              "  <tbody>\n",
              "    <tr>\n",
              "      <th>0</th>\n",
              "      <td>necesitar foto así instagram</td>\n",
              "      <td>@Ollanta_HumalaT</td>\n",
              "    </tr>\n",
              "    <tr>\n",
              "      <th>1</th>\n",
              "      <td>mamá votar por usted {emoji_pos} yo aún no def...</td>\n",
              "      <td>@Ollanta_HumalaT</td>\n",
              "    </tr>\n",
              "    <tr>\n",
              "      <th>2</th>\n",
              "      <td>futuro juicio pendiente</td>\n",
              "      <td>@Ollanta_HumalaT</td>\n",
              "    </tr>\n",
              "    <tr>\n",
              "      <th>3</th>\n",
              "      <td>paso nadine no acompañar</td>\n",
              "      <td>@Ollanta_HumalaT</td>\n",
              "    </tr>\n",
              "    <tr>\n",
              "      <th>4</th>\n",
              "      <td>no pesar cuerno</td>\n",
              "      <td>@Ollanta_HumalaT</td>\n",
              "    </tr>\n",
              "    <tr>\n",
              "      <th>...</th>\n",
              "      <td>...</td>\n",
              "      <td>...</td>\n",
              "    </tr>\n",
              "    <tr>\n",
              "      <th>11652</th>\n",
              "      <td>ahí mem tu ah</td>\n",
              "      <td>@CesarAcunaP</td>\n",
              "    </tr>\n",
              "    <tr>\n",
              "      <th>11653</th>\n",
              "      <td>mem bajo solo si mem {emoji_neu} {emoji_neu}</td>\n",
              "      <td>@CesarAcunaP</td>\n",
              "    </tr>\n",
              "    <tr>\n",
              "      <th>11654</th>\n",
              "      <td>ni así regalir megas</td>\n",
              "      <td>@CesarAcunaP</td>\n",
              "    </tr>\n",
              "    <tr>\n",
              "      <th>11655</th>\n",
              "      <td>no olvidar visitar sección humorístico memes m...</td>\n",
              "      <td>@CesarAcunaP</td>\n",
              "    </tr>\n",
              "    <tr>\n",
              "      <th>11656</th>\n",
              "      <td>conocer historia topo fujimorismo</td>\n",
              "      <td>@CesarAcunaP</td>\n",
              "    </tr>\n",
              "  </tbody>\n",
              "</table>\n",
              "<p>11657 rows × 2 columns</p>\n",
              "</div>\n",
              "      <button class=\"colab-df-convert\" onclick=\"convertToInteractive('df-a9e95abf-06fd-403b-be26-d7eae10da6a8')\"\n",
              "              title=\"Convert this dataframe to an interactive table.\"\n",
              "              style=\"display:none;\">\n",
              "        \n",
              "  <svg xmlns=\"http://www.w3.org/2000/svg\" height=\"24px\"viewBox=\"0 0 24 24\"\n",
              "       width=\"24px\">\n",
              "    <path d=\"M0 0h24v24H0V0z\" fill=\"none\"/>\n",
              "    <path d=\"M18.56 5.44l.94 2.06.94-2.06 2.06-.94-2.06-.94-.94-2.06-.94 2.06-2.06.94zm-11 1L8.5 8.5l.94-2.06 2.06-.94-2.06-.94L8.5 2.5l-.94 2.06-2.06.94zm10 10l.94 2.06.94-2.06 2.06-.94-2.06-.94-.94-2.06-.94 2.06-2.06.94z\"/><path d=\"M17.41 7.96l-1.37-1.37c-.4-.4-.92-.59-1.43-.59-.52 0-1.04.2-1.43.59L10.3 9.45l-7.72 7.72c-.78.78-.78 2.05 0 2.83L4 21.41c.39.39.9.59 1.41.59.51 0 1.02-.2 1.41-.59l7.78-7.78 2.81-2.81c.8-.78.8-2.07 0-2.86zM5.41 20L4 18.59l7.72-7.72 1.47 1.35L5.41 20z\"/>\n",
              "  </svg>\n",
              "      </button>\n",
              "      \n",
              "  <style>\n",
              "    .colab-df-container {\n",
              "      display:flex;\n",
              "      flex-wrap:wrap;\n",
              "      gap: 12px;\n",
              "    }\n",
              "\n",
              "    .colab-df-convert {\n",
              "      background-color: #E8F0FE;\n",
              "      border: none;\n",
              "      border-radius: 50%;\n",
              "      cursor: pointer;\n",
              "      display: none;\n",
              "      fill: #1967D2;\n",
              "      height: 32px;\n",
              "      padding: 0 0 0 0;\n",
              "      width: 32px;\n",
              "    }\n",
              "\n",
              "    .colab-df-convert:hover {\n",
              "      background-color: #E2EBFA;\n",
              "      box-shadow: 0px 1px 2px rgba(60, 64, 67, 0.3), 0px 1px 3px 1px rgba(60, 64, 67, 0.15);\n",
              "      fill: #174EA6;\n",
              "    }\n",
              "\n",
              "    [theme=dark] .colab-df-convert {\n",
              "      background-color: #3B4455;\n",
              "      fill: #D2E3FC;\n",
              "    }\n",
              "\n",
              "    [theme=dark] .colab-df-convert:hover {\n",
              "      background-color: #434B5C;\n",
              "      box-shadow: 0px 1px 3px 1px rgba(0, 0, 0, 0.15);\n",
              "      filter: drop-shadow(0px 1px 2px rgba(0, 0, 0, 0.3));\n",
              "      fill: #FFFFFF;\n",
              "    }\n",
              "  </style>\n",
              "\n",
              "      <script>\n",
              "        const buttonEl =\n",
              "          document.querySelector('#df-a9e95abf-06fd-403b-be26-d7eae10da6a8 button.colab-df-convert');\n",
              "        buttonEl.style.display =\n",
              "          google.colab.kernel.accessAllowed ? 'block' : 'none';\n",
              "\n",
              "        async function convertToInteractive(key) {\n",
              "          const element = document.querySelector('#df-a9e95abf-06fd-403b-be26-d7eae10da6a8');\n",
              "          const dataTable =\n",
              "            await google.colab.kernel.invokeFunction('convertToInteractive',\n",
              "                                                     [key], {});\n",
              "          if (!dataTable) return;\n",
              "\n",
              "          const docLinkHtml = 'Like what you see? Visit the ' +\n",
              "            '<a target=\"_blank\" href=https://colab.research.google.com/notebooks/data_table.ipynb>data table notebook</a>'\n",
              "            + ' to learn more about interactive tables.';\n",
              "          element.innerHTML = '';\n",
              "          dataTable['output_type'] = 'display_data';\n",
              "          await google.colab.output.renderOutput(dataTable, element);\n",
              "          const docLink = document.createElement('div');\n",
              "          docLink.innerHTML = docLinkHtml;\n",
              "          element.appendChild(docLink);\n",
              "        }\n",
              "      </script>\n",
              "    </div>\n",
              "  </div>\n",
              "  "
            ]
          },
          "metadata": {},
          "execution_count": 53
        }
      ]
    },
    {
      "cell_type": "markdown",
      "source": [
        "####Segunda Vuelta"
      ],
      "metadata": {
        "id": "qC73__zFFzzB"
      }
    },
    {
      "cell_type": "code",
      "source": [
        "%%time\n",
        "# Aplicamos a datos de elecciones\n",
        "DFtcmSC.content = DFtcmSC.content.apply(transform_tweets, mode='lemma')"
      ],
      "metadata": {
        "colab": {
          "base_uri": "https://localhost:8080/"
        },
        "id": "-McvL13AF3cI",
        "outputId": "55656d4e-c312-4a0c-c614-19ec223df0ec"
      },
      "execution_count": null,
      "outputs": [
        {
          "output_type": "stream",
          "name": "stdout",
          "text": [
            "CPU times: user 47.4 s, sys: 241 ms, total: 47.6 s\n",
            "Wall time: 48.2 s\n"
          ]
        }
      ]
    },
    {
      "cell_type": "code",
      "source": [
        "DFtcmSC"
      ],
      "metadata": {
        "colab": {
          "base_uri": "https://localhost:8080/"
        },
        "id": "T_vhoecBF5dv",
        "outputId": "3772ffeb-11ea-4e8b-dd53-a19221831e81"
      },
      "execution_count": null,
      "outputs": [
        {
          "output_type": "execute_result",
          "data": {
            "text/plain": [
              "                                                content           mencion\n",
              "0     desubicado hoy cre capitalista despues tragar ...    @KeikoFujimori\n",
              "1                                             tal ostra    @KeikoFujimori\n",
              "2     oir cara duro no ninguno extranjero deber mete...    @KeikoFujimori\n",
              "3     comunista {emoji_neu} {emoji_neu} {emoji_neu} ...    @KeikoFujimori\n",
              "4                   hermano comera mierda guardar twitt    @KeikoFujimori\n",
              "...                                                 ...               ...\n",
              "4723                                         no esconda    @KeikoFujimori\n",
              "4724                            {emoji_pos} {emoji_pos}    @KeikoFujimori\n",
              "4725  claro ahora no agredir reportero willax no tir...  @PedroCastilloTe\n",
              "4726  lamentable decir mucho posible gobierno tú mac...    @KeikoFujimori\n",
              "4727  plaza lleno vs keiko caravana mototaxista entu...  @PedroCastilloTe\n",
              "\n",
              "[4728 rows x 2 columns]"
            ],
            "text/html": [
              "\n",
              "  <div id=\"df-a2d455c2-f6dc-47a8-bae1-06fd9c9c40ba\">\n",
              "    <div class=\"colab-df-container\">\n",
              "      <div>\n",
              "<style scoped>\n",
              "    .dataframe tbody tr th:only-of-type {\n",
              "        vertical-align: middle;\n",
              "    }\n",
              "\n",
              "    .dataframe tbody tr th {\n",
              "        vertical-align: top;\n",
              "    }\n",
              "\n",
              "    .dataframe thead th {\n",
              "        text-align: right;\n",
              "    }\n",
              "</style>\n",
              "<table border=\"1\" class=\"dataframe\">\n",
              "  <thead>\n",
              "    <tr style=\"text-align: right;\">\n",
              "      <th></th>\n",
              "      <th>content</th>\n",
              "      <th>mencion</th>\n",
              "    </tr>\n",
              "  </thead>\n",
              "  <tbody>\n",
              "    <tr>\n",
              "      <th>0</th>\n",
              "      <td>desubicado hoy cre capitalista despues tragar ...</td>\n",
              "      <td>@KeikoFujimori</td>\n",
              "    </tr>\n",
              "    <tr>\n",
              "      <th>1</th>\n",
              "      <td>tal ostra</td>\n",
              "      <td>@KeikoFujimori</td>\n",
              "    </tr>\n",
              "    <tr>\n",
              "      <th>2</th>\n",
              "      <td>oir cara duro no ninguno extranjero deber mete...</td>\n",
              "      <td>@KeikoFujimori</td>\n",
              "    </tr>\n",
              "    <tr>\n",
              "      <th>3</th>\n",
              "      <td>comunista {emoji_neu} {emoji_neu} {emoji_neu} ...</td>\n",
              "      <td>@KeikoFujimori</td>\n",
              "    </tr>\n",
              "    <tr>\n",
              "      <th>4</th>\n",
              "      <td>hermano comera mierda guardar twitt</td>\n",
              "      <td>@KeikoFujimori</td>\n",
              "    </tr>\n",
              "    <tr>\n",
              "      <th>...</th>\n",
              "      <td>...</td>\n",
              "      <td>...</td>\n",
              "    </tr>\n",
              "    <tr>\n",
              "      <th>4723</th>\n",
              "      <td>no esconda</td>\n",
              "      <td>@KeikoFujimori</td>\n",
              "    </tr>\n",
              "    <tr>\n",
              "      <th>4724</th>\n",
              "      <td>{emoji_pos} {emoji_pos}</td>\n",
              "      <td>@KeikoFujimori</td>\n",
              "    </tr>\n",
              "    <tr>\n",
              "      <th>4725</th>\n",
              "      <td>claro ahora no agredir reportero willax no tir...</td>\n",
              "      <td>@PedroCastilloTe</td>\n",
              "    </tr>\n",
              "    <tr>\n",
              "      <th>4726</th>\n",
              "      <td>lamentable decir mucho posible gobierno tú mac...</td>\n",
              "      <td>@KeikoFujimori</td>\n",
              "    </tr>\n",
              "    <tr>\n",
              "      <th>4727</th>\n",
              "      <td>plaza lleno vs keiko caravana mototaxista entu...</td>\n",
              "      <td>@PedroCastilloTe</td>\n",
              "    </tr>\n",
              "  </tbody>\n",
              "</table>\n",
              "<p>4728 rows × 2 columns</p>\n",
              "</div>\n",
              "      <button class=\"colab-df-convert\" onclick=\"convertToInteractive('df-a2d455c2-f6dc-47a8-bae1-06fd9c9c40ba')\"\n",
              "              title=\"Convert this dataframe to an interactive table.\"\n",
              "              style=\"display:none;\">\n",
              "        \n",
              "  <svg xmlns=\"http://www.w3.org/2000/svg\" height=\"24px\"viewBox=\"0 0 24 24\"\n",
              "       width=\"24px\">\n",
              "    <path d=\"M0 0h24v24H0V0z\" fill=\"none\"/>\n",
              "    <path d=\"M18.56 5.44l.94 2.06.94-2.06 2.06-.94-2.06-.94-.94-2.06-.94 2.06-2.06.94zm-11 1L8.5 8.5l.94-2.06 2.06-.94-2.06-.94L8.5 2.5l-.94 2.06-2.06.94zm10 10l.94 2.06.94-2.06 2.06-.94-2.06-.94-.94-2.06-.94 2.06-2.06.94z\"/><path d=\"M17.41 7.96l-1.37-1.37c-.4-.4-.92-.59-1.43-.59-.52 0-1.04.2-1.43.59L10.3 9.45l-7.72 7.72c-.78.78-.78 2.05 0 2.83L4 21.41c.39.39.9.59 1.41.59.51 0 1.02-.2 1.41-.59l7.78-7.78 2.81-2.81c.8-.78.8-2.07 0-2.86zM5.41 20L4 18.59l7.72-7.72 1.47 1.35L5.41 20z\"/>\n",
              "  </svg>\n",
              "      </button>\n",
              "      \n",
              "  <style>\n",
              "    .colab-df-container {\n",
              "      display:flex;\n",
              "      flex-wrap:wrap;\n",
              "      gap: 12px;\n",
              "    }\n",
              "\n",
              "    .colab-df-convert {\n",
              "      background-color: #E8F0FE;\n",
              "      border: none;\n",
              "      border-radius: 50%;\n",
              "      cursor: pointer;\n",
              "      display: none;\n",
              "      fill: #1967D2;\n",
              "      height: 32px;\n",
              "      padding: 0 0 0 0;\n",
              "      width: 32px;\n",
              "    }\n",
              "\n",
              "    .colab-df-convert:hover {\n",
              "      background-color: #E2EBFA;\n",
              "      box-shadow: 0px 1px 2px rgba(60, 64, 67, 0.3), 0px 1px 3px 1px rgba(60, 64, 67, 0.15);\n",
              "      fill: #174EA6;\n",
              "    }\n",
              "\n",
              "    [theme=dark] .colab-df-convert {\n",
              "      background-color: #3B4455;\n",
              "      fill: #D2E3FC;\n",
              "    }\n",
              "\n",
              "    [theme=dark] .colab-df-convert:hover {\n",
              "      background-color: #434B5C;\n",
              "      box-shadow: 0px 1px 3px 1px rgba(0, 0, 0, 0.15);\n",
              "      filter: drop-shadow(0px 1px 2px rgba(0, 0, 0, 0.3));\n",
              "      fill: #FFFFFF;\n",
              "    }\n",
              "  </style>\n",
              "\n",
              "      <script>\n",
              "        const buttonEl =\n",
              "          document.querySelector('#df-a2d455c2-f6dc-47a8-bae1-06fd9c9c40ba button.colab-df-convert');\n",
              "        buttonEl.style.display =\n",
              "          google.colab.kernel.accessAllowed ? 'block' : 'none';\n",
              "\n",
              "        async function convertToInteractive(key) {\n",
              "          const element = document.querySelector('#df-a2d455c2-f6dc-47a8-bae1-06fd9c9c40ba');\n",
              "          const dataTable =\n",
              "            await google.colab.kernel.invokeFunction('convertToInteractive',\n",
              "                                                     [key], {});\n",
              "          if (!dataTable) return;\n",
              "\n",
              "          const docLinkHtml = 'Like what you see? Visit the ' +\n",
              "            '<a target=\"_blank\" href=https://colab.research.google.com/notebooks/data_table.ipynb>data table notebook</a>'\n",
              "            + ' to learn more about interactive tables.';\n",
              "          element.innerHTML = '';\n",
              "          dataTable['output_type'] = 'display_data';\n",
              "          await google.colab.output.renderOutput(dataTable, element);\n",
              "          const docLink = document.createElement('div');\n",
              "          docLink.innerHTML = docLinkHtml;\n",
              "          element.appendChild(docLink);\n",
              "        }\n",
              "      </script>\n",
              "    </div>\n",
              "  </div>\n",
              "  "
            ]
          },
          "metadata": {},
          "execution_count": 55
        }
      ]
    },
    {
      "cell_type": "markdown",
      "source": [
        "##3. Entrenamiento del modelo"
      ],
      "metadata": {
        "id": "9t3wTM0GsGpC"
      }
    },
    {
      "cell_type": "markdown",
      "source": [
        "Mediante una prueba externa, se analizó el dataset mediante multiples modelos, por lo cual resultó como ganador las Redes Neuronales Recurrentes utilizando capas Bidireccionales"
      ],
      "metadata": {
        "id": "BWIOSR5FRc6g"
      }
    },
    {
      "cell_type": "code",
      "source": [
        "# Número de palabras del modelo\n",
        "tokens = set()\n",
        "for tweet in train_df.content:\n",
        "    for word in tweet.split():\n",
        "        tokens.add(word)\n",
        "dim = len(tokens)        \n",
        "print('Número total de palabras:', dim)"
      ],
      "metadata": {
        "colab": {
          "base_uri": "https://localhost:8080/"
        },
        "id": "U6MCo2QIVMjf",
        "outputId": "37fdb0a8-af2e-47e3-cd8a-382fbe82a4f6"
      },
      "execution_count": null,
      "outputs": [
        {
          "output_type": "stream",
          "name": "stdout",
          "text": [
            "Número total de palabras: 12717\n"
          ]
        }
      ]
    },
    {
      "cell_type": "code",
      "source": [
        "INPUT_LENGTH = 25\n",
        "EMBED_DIM = 128\n",
        "#MAX_WORDS = dim\n",
        "MAX_LEN = 200\n",
        "\n",
        "# Creamos tokenizador\n",
        "tokenizer = keras.preprocessing.text.Tokenizer(num_words = dim)\n",
        "tokenizer.fit_on_texts(train_df.content)\n",
        "sequences = tokenizer.texts_to_sequences(train_df.content)\n",
        "X = keras.preprocessing.sequence.pad_sequences(\n",
        "    sequences,\n",
        "    maxlen = INPUT_LENGTH\n",
        ")\n",
        "y = pd.get_dummies(train_df.sentiment).values"
      ],
      "metadata": {
        "id": "1WAxo7w3VxFu"
      },
      "execution_count": null,
      "outputs": []
    },
    {
      "cell_type": "code",
      "source": [
        "print('Shape X:', X.shape)\n",
        "print('Shape y:', y.shape)"
      ],
      "metadata": {
        "colab": {
          "base_uri": "https://localhost:8080/"
        },
        "id": "cJpGn9txWBKM",
        "outputId": "c06f42e6-506a-4a33-8171-ddbc5e7d3421"
      },
      "execution_count": null,
      "outputs": [
        {
          "output_type": "stream",
          "name": "stdout",
          "text": [
            "Shape X: (7194, 25)\n",
            "Shape y: (7194, 3)\n"
          ]
        }
      ]
    },
    {
      "cell_type": "code",
      "source": [
        "DROPOUT_VAL = 0.6\n",
        "\n",
        "layers = [\n",
        "    keras.layers.Embedding(dim, 40, input_length = INPUT_LENGTH),\n",
        "    keras.layers.Bidirectional(keras.layers.LSTM(20, dropout = DROPOUT_VAL)),\n",
        "    keras.layers.Dense(3, activation = 'softmax')\n",
        "]\n",
        "\n",
        "model3 = keras.models.Sequential(layers)\n",
        "\n",
        "# Compilamos modelo\n",
        "model3.compile(optimizer = 'rmsprop',\n",
        "                        loss = 'categorical_crossentropy',\n",
        "                        metrics = ['accuracy'])\n",
        "\n",
        "# Creamos faststopping\n",
        "callback = keras.callbacks.EarlyStopping(monitor = 'val_loss',\n",
        "                                         mode = 'min',\n",
        "                                         verbose = 0,\n",
        "                                         patience = 3)\n",
        "# Creamos checkpoint\n",
        "checkpoint_3 = keras.callbacks.ModelCheckpoint('best_model3.hdf5',\n",
        "                                     monitor = 'val_accuracy',\n",
        "                                     verbose = 1,\n",
        "                                     save_best_only = True,\n",
        "                                     mode = 'auto',\n",
        "                                     save_weigths_only = False)\n"
      ],
      "metadata": {
        "id": "vfplvzdlsMoi"
      },
      "execution_count": null,
      "outputs": []
    },
    {
      "cell_type": "code",
      "source": [
        "# Separamos train/test\n",
        "from sklearn.model_selection import train_test_split\n",
        "X_train, X_test, y_train, y_test = train_test_split(X, y,\n",
        "                                                    random_state = 42,\n",
        "                                                    test_size = 0.15)"
      ],
      "metadata": {
        "id": "Amzy0UMPWjmH"
      },
      "execution_count": null,
      "outputs": []
    },
    {
      "cell_type": "code",
      "source": [
        "EPOCHS = 20"
      ],
      "metadata": {
        "id": "vFdLCNctW7Ra"
      },
      "execution_count": null,
      "outputs": []
    },
    {
      "cell_type": "code",
      "source": [
        "# Entrenamos\n",
        "history_3 = model3.fit(X_train,\n",
        "                       y_train,\n",
        "                       epochs = EPOCHS,\n",
        "                       validation_data = (X_test, y_test),\n",
        "                       batch_size = 16,\n",
        "                       callbacks = [callback, checkpoint_3])"
      ],
      "metadata": {
        "id": "rJhWKxLrSGtw",
        "colab": {
          "base_uri": "https://localhost:8080/"
        },
        "outputId": "652af477-022b-470a-8489-4b31b678ec05"
      },
      "execution_count": null,
      "outputs": [
        {
          "output_type": "stream",
          "name": "stdout",
          "text": [
            "Epoch 1/20\n",
            "382/383 [============================>.] - ETA: 0s - loss: 1.0504 - accuracy: 0.4488\n",
            "Epoch 1: val_accuracy improved from -inf to 0.49537, saving model to best_model3.hdf5\n",
            "383/383 [==============================] - 14s 23ms/step - loss: 1.0503 - accuracy: 0.4488 - val_loss: 1.0115 - val_accuracy: 0.4954\n",
            "Epoch 2/20\n",
            "383/383 [==============================] - ETA: 0s - loss: 0.9245 - accuracy: 0.5608\n",
            "Epoch 2: val_accuracy improved from 0.49537 to 0.54815, saving model to best_model3.hdf5\n",
            "383/383 [==============================] - 8s 20ms/step - loss: 0.9245 - accuracy: 0.5608 - val_loss: 0.9264 - val_accuracy: 0.5481\n",
            "Epoch 3/20\n",
            "382/383 [============================>.] - ETA: 0s - loss: 0.7960 - accuracy: 0.6446\n",
            "Epoch 3: val_accuracy improved from 0.54815 to 0.59352, saving model to best_model3.hdf5\n",
            "383/383 [==============================] - 8s 21ms/step - loss: 0.7960 - accuracy: 0.6446 - val_loss: 0.8945 - val_accuracy: 0.5935\n",
            "Epoch 4/20\n",
            "381/383 [============================>.] - ETA: 0s - loss: 0.7000 - accuracy: 0.7005\n",
            "Epoch 4: val_accuracy improved from 0.59352 to 0.62685, saving model to best_model3.hdf5\n",
            "383/383 [==============================] - 8s 20ms/step - loss: 0.6999 - accuracy: 0.7005 - val_loss: 0.8678 - val_accuracy: 0.6269\n",
            "Epoch 5/20\n",
            "383/383 [==============================] - ETA: 0s - loss: 0.6339 - accuracy: 0.7386\n",
            "Epoch 5: val_accuracy did not improve from 0.62685\n",
            "383/383 [==============================] - 8s 20ms/step - loss: 0.6339 - accuracy: 0.7386 - val_loss: 0.9415 - val_accuracy: 0.6093\n",
            "Epoch 6/20\n",
            "382/383 [============================>.] - ETA: 0s - loss: 0.5662 - accuracy: 0.7780\n",
            "Epoch 6: val_accuracy did not improve from 0.62685\n",
            "383/383 [==============================] - 8s 20ms/step - loss: 0.5662 - accuracy: 0.7779 - val_loss: 0.9357 - val_accuracy: 0.6130\n",
            "Epoch 7/20\n",
            "381/383 [============================>.] - ETA: 0s - loss: 0.5300 - accuracy: 0.7933\n",
            "Epoch 7: val_accuracy did not improve from 0.62685\n",
            "383/383 [==============================] - 8s 20ms/step - loss: 0.5308 - accuracy: 0.7929 - val_loss: 0.9874 - val_accuracy: 0.6111\n"
          ]
        }
      ]
    },
    {
      "cell_type": "code",
      "source": [
        " #Evaluamos\n",
        "accuracy_dl_bi = model3.evaluate(X_test, y_test)\n",
        "accuracy_dl_bi"
      ],
      "metadata": {
        "id": "2lj8_5e_SLK8",
        "colab": {
          "base_uri": "https://localhost:8080/"
        },
        "outputId": "eafa8801-8b19-4345-98b0-37761d84eba3"
      },
      "execution_count": null,
      "outputs": [
        {
          "output_type": "stream",
          "name": "stdout",
          "text": [
            "34/34 [==============================] - 0s 6ms/step - loss: 0.9874 - accuracy: 0.6111\n"
          ]
        },
        {
          "output_type": "execute_result",
          "data": {
            "text/plain": [
              "[0.9873778223991394, 0.6111111044883728]"
            ]
          },
          "metadata": {},
          "execution_count": 63
        }
      ]
    },
    {
      "cell_type": "code",
      "source": [
        "# Sacamos classification report\n",
        "y_pred_3 = model3.predict(X_test)\n",
        "print(classification_report(np.argmax(y_test, axis=1), np.argmax(y_pred_3, axis=1)))"
      ],
      "metadata": {
        "id": "GWX1c8P4SLm1",
        "colab": {
          "base_uri": "https://localhost:8080/"
        },
        "outputId": "42008d54-ca9d-403f-94c8-815836abcfad"
      },
      "execution_count": null,
      "outputs": [
        {
          "output_type": "stream",
          "name": "stdout",
          "text": [
            "34/34 [==============================] - 1s 5ms/step\n",
            "              precision    recall  f1-score   support\n",
            "\n",
            "           0       0.66      0.53      0.59       334\n",
            "           1       0.59      0.49      0.54       337\n",
            "           2       0.60      0.77      0.68       409\n",
            "\n",
            "    accuracy                           0.61      1080\n",
            "   macro avg       0.62      0.60      0.60      1080\n",
            "weighted avg       0.61      0.61      0.61      1080\n",
            "\n"
          ]
        }
      ]
    },
    {
      "cell_type": "code",
      "source": [
        "train_df"
      ],
      "metadata": {
        "id": "zsUnNL5a7My5",
        "colab": {
          "base_uri": "https://localhost:8080/"
        },
        "outputId": "7a540181-5513-4ce5-ec01-9fcb26f188c9"
      },
      "execution_count": null,
      "outputs": [
        {
          "output_type": "execute_result",
          "data": {
            "text/plain": [
              "                                                content sentiment\n",
              "0                                       salgo día largo       NEU\n",
              "1                   no librara ayudar menos beso gracia       NEU\n",
              "2                                            gracia mar         P\n",
              "3     off pensar regalito sinde ir sgae ir corrupto ...         N\n",
              "4           conocer alguien adicto drama ja ja ja sonar         P\n",
              "...                                                 ...       ...\n",
              "7189  mucho indignante si adie repar él hoy aqui gra...         N\n",
              "7190                        pobre por discriminar mujer         N\n",
              "7191           crear banco producto mujeres cáncer mama         P\n",
              "7192                sorprendente huída hoy senado rajoy         N\n",
              "7193        mucho bien pero versión gallego tampoco mal         P\n",
              "\n",
              "[7194 rows x 2 columns]"
            ],
            "text/html": [
              "\n",
              "  <div id=\"df-d7561ba2-26a7-4384-8cee-95271ba62f0e\">\n",
              "    <div class=\"colab-df-container\">\n",
              "      <div>\n",
              "<style scoped>\n",
              "    .dataframe tbody tr th:only-of-type {\n",
              "        vertical-align: middle;\n",
              "    }\n",
              "\n",
              "    .dataframe tbody tr th {\n",
              "        vertical-align: top;\n",
              "    }\n",
              "\n",
              "    .dataframe thead th {\n",
              "        text-align: right;\n",
              "    }\n",
              "</style>\n",
              "<table border=\"1\" class=\"dataframe\">\n",
              "  <thead>\n",
              "    <tr style=\"text-align: right;\">\n",
              "      <th></th>\n",
              "      <th>content</th>\n",
              "      <th>sentiment</th>\n",
              "    </tr>\n",
              "  </thead>\n",
              "  <tbody>\n",
              "    <tr>\n",
              "      <th>0</th>\n",
              "      <td>salgo día largo</td>\n",
              "      <td>NEU</td>\n",
              "    </tr>\n",
              "    <tr>\n",
              "      <th>1</th>\n",
              "      <td>no librara ayudar menos beso gracia</td>\n",
              "      <td>NEU</td>\n",
              "    </tr>\n",
              "    <tr>\n",
              "      <th>2</th>\n",
              "      <td>gracia mar</td>\n",
              "      <td>P</td>\n",
              "    </tr>\n",
              "    <tr>\n",
              "      <th>3</th>\n",
              "      <td>off pensar regalito sinde ir sgae ir corrupto ...</td>\n",
              "      <td>N</td>\n",
              "    </tr>\n",
              "    <tr>\n",
              "      <th>4</th>\n",
              "      <td>conocer alguien adicto drama ja ja ja sonar</td>\n",
              "      <td>P</td>\n",
              "    </tr>\n",
              "    <tr>\n",
              "      <th>...</th>\n",
              "      <td>...</td>\n",
              "      <td>...</td>\n",
              "    </tr>\n",
              "    <tr>\n",
              "      <th>7189</th>\n",
              "      <td>mucho indignante si adie repar él hoy aqui gra...</td>\n",
              "      <td>N</td>\n",
              "    </tr>\n",
              "    <tr>\n",
              "      <th>7190</th>\n",
              "      <td>pobre por discriminar mujer</td>\n",
              "      <td>N</td>\n",
              "    </tr>\n",
              "    <tr>\n",
              "      <th>7191</th>\n",
              "      <td>crear banco producto mujeres cáncer mama</td>\n",
              "      <td>P</td>\n",
              "    </tr>\n",
              "    <tr>\n",
              "      <th>7192</th>\n",
              "      <td>sorprendente huída hoy senado rajoy</td>\n",
              "      <td>N</td>\n",
              "    </tr>\n",
              "    <tr>\n",
              "      <th>7193</th>\n",
              "      <td>mucho bien pero versión gallego tampoco mal</td>\n",
              "      <td>P</td>\n",
              "    </tr>\n",
              "  </tbody>\n",
              "</table>\n",
              "<p>7194 rows × 2 columns</p>\n",
              "</div>\n",
              "      <button class=\"colab-df-convert\" onclick=\"convertToInteractive('df-d7561ba2-26a7-4384-8cee-95271ba62f0e')\"\n",
              "              title=\"Convert this dataframe to an interactive table.\"\n",
              "              style=\"display:none;\">\n",
              "        \n",
              "  <svg xmlns=\"http://www.w3.org/2000/svg\" height=\"24px\"viewBox=\"0 0 24 24\"\n",
              "       width=\"24px\">\n",
              "    <path d=\"M0 0h24v24H0V0z\" fill=\"none\"/>\n",
              "    <path d=\"M18.56 5.44l.94 2.06.94-2.06 2.06-.94-2.06-.94-.94-2.06-.94 2.06-2.06.94zm-11 1L8.5 8.5l.94-2.06 2.06-.94-2.06-.94L8.5 2.5l-.94 2.06-2.06.94zm10 10l.94 2.06.94-2.06 2.06-.94-2.06-.94-.94-2.06-.94 2.06-2.06.94z\"/><path d=\"M17.41 7.96l-1.37-1.37c-.4-.4-.92-.59-1.43-.59-.52 0-1.04.2-1.43.59L10.3 9.45l-7.72 7.72c-.78.78-.78 2.05 0 2.83L4 21.41c.39.39.9.59 1.41.59.51 0 1.02-.2 1.41-.59l7.78-7.78 2.81-2.81c.8-.78.8-2.07 0-2.86zM5.41 20L4 18.59l7.72-7.72 1.47 1.35L5.41 20z\"/>\n",
              "  </svg>\n",
              "      </button>\n",
              "      \n",
              "  <style>\n",
              "    .colab-df-container {\n",
              "      display:flex;\n",
              "      flex-wrap:wrap;\n",
              "      gap: 12px;\n",
              "    }\n",
              "\n",
              "    .colab-df-convert {\n",
              "      background-color: #E8F0FE;\n",
              "      border: none;\n",
              "      border-radius: 50%;\n",
              "      cursor: pointer;\n",
              "      display: none;\n",
              "      fill: #1967D2;\n",
              "      height: 32px;\n",
              "      padding: 0 0 0 0;\n",
              "      width: 32px;\n",
              "    }\n",
              "\n",
              "    .colab-df-convert:hover {\n",
              "      background-color: #E2EBFA;\n",
              "      box-shadow: 0px 1px 2px rgba(60, 64, 67, 0.3), 0px 1px 3px 1px rgba(60, 64, 67, 0.15);\n",
              "      fill: #174EA6;\n",
              "    }\n",
              "\n",
              "    [theme=dark] .colab-df-convert {\n",
              "      background-color: #3B4455;\n",
              "      fill: #D2E3FC;\n",
              "    }\n",
              "\n",
              "    [theme=dark] .colab-df-convert:hover {\n",
              "      background-color: #434B5C;\n",
              "      box-shadow: 0px 1px 3px 1px rgba(0, 0, 0, 0.15);\n",
              "      filter: drop-shadow(0px 1px 2px rgba(0, 0, 0, 0.3));\n",
              "      fill: #FFFFFF;\n",
              "    }\n",
              "  </style>\n",
              "\n",
              "      <script>\n",
              "        const buttonEl =\n",
              "          document.querySelector('#df-d7561ba2-26a7-4384-8cee-95271ba62f0e button.colab-df-convert');\n",
              "        buttonEl.style.display =\n",
              "          google.colab.kernel.accessAllowed ? 'block' : 'none';\n",
              "\n",
              "        async function convertToInteractive(key) {\n",
              "          const element = document.querySelector('#df-d7561ba2-26a7-4384-8cee-95271ba62f0e');\n",
              "          const dataTable =\n",
              "            await google.colab.kernel.invokeFunction('convertToInteractive',\n",
              "                                                     [key], {});\n",
              "          if (!dataTable) return;\n",
              "\n",
              "          const docLinkHtml = 'Like what you see? Visit the ' +\n",
              "            '<a target=\"_blank\" href=https://colab.research.google.com/notebooks/data_table.ipynb>data table notebook</a>'\n",
              "            + ' to learn more about interactive tables.';\n",
              "          element.innerHTML = '';\n",
              "          dataTable['output_type'] = 'display_data';\n",
              "          await google.colab.output.renderOutput(dataTable, element);\n",
              "          const docLink = document.createElement('div');\n",
              "          docLink.innerHTML = docLinkHtml;\n",
              "          element.appendChild(docLink);\n",
              "        }\n",
              "      </script>\n",
              "    </div>\n",
              "  </div>\n",
              "  "
            ]
          },
          "metadata": {},
          "execution_count": 65
        }
      ]
    },
    {
      "cell_type": "code",
      "source": [
        "from sklearn.metrics import confusion_matrix\n",
        "\n",
        "def display_cm(y_test, y_pred):    \n",
        "    sns.heatmap(confusion_matrix(np.argmax(y_test, axis=1), np.argmax(y_pred, axis=1), normalize = 'true'),\n",
        "                annot = True, cmap = 'Blues', fmt='g', cbar=False)\n",
        "    plt.title('Real vs pred')\n",
        "    plt.xlabel('Predicted values')\n",
        "    plt.ylabel('Real values');\n",
        "    \n",
        "    plt.show()"
      ],
      "metadata": {
        "id": "GPzy1mAJXdDv"
      },
      "execution_count": null,
      "outputs": []
    },
    {
      "cell_type": "code",
      "source": [
        "display_cm(y_test, y_pred_3)"
      ],
      "metadata": {
        "id": "MdY2usfHSRX2",
        "colab": {
          "base_uri": "https://localhost:8080/"
        },
        "outputId": "e5a2f7e4-5cdc-4c2b-c6fb-0b48e13eb8e1"
      },
      "execution_count": null,
      "outputs": [
        {
          "output_type": "display_data",
          "data": {
            "text/plain": [
              "<Figure size 432x288 with 1 Axes>"
            ],
            "image/png": "[encoded data removed]"
          },
          "metadata": {
            "needs_background": "light"
          }
        }
      ]
    },
    {
      "cell_type": "code",
      "source": [
        "accuracy_dl_bi[1]"
      ],
      "metadata": {
        "colab": {
          "base_uri": "https://localhost:8080/"
        },
        "id": "BsgnEAH5YS9Q",
        "outputId": "7c8df354-669c-4387-d7e8-f92888017685"
      },
      "execution_count": null,
      "outputs": [
        {
          "output_type": "execute_result",
          "data": {
            "text/plain": [
              "0.6111111044883728"
            ]
          },
          "metadata": {},
          "execution_count": 68
        }
      ]
    },
    {
      "cell_type": "markdown",
      "source": [
        "##4. Ejecutar el modelo con datos electorales"
      ],
      "metadata": {
        "id": "9nI7ehEzsL0K"
      }
    },
    {
      "cell_type": "markdown",
      "source": [
        "###4.1 Metodos para predicción"
      ],
      "metadata": {
        "id": "YHSyp9eV4BmR"
      }
    },
    {
      "cell_type": "markdown",
      "source": [
        "####Predecir en texto plano"
      ],
      "metadata": {
        "id": "84_SUvv9JBPw"
      }
    },
    {
      "cell_type": "code",
      "source": [
        "# Función para establecer el threshold en 0.5\n",
        "def get_label_predict(probas, i=0.5):\n",
        "    if np.argmax(probas)==0:\n",
        "        return 0\n",
        "    elif np.argmax(probas)==2:\n",
        "        return 4\n",
        "    elif np.argmax(probas)==1 and probas[1]<i:\n",
        "        if probas[2] > probas[0]:\n",
        "            return 3\n",
        "        else:\n",
        "            return 1\n",
        "    else:\n",
        "        return 2"
      ],
      "metadata": {
        "id": "LImrDnjR0tLd"
      },
      "execution_count": null,
      "outputs": []
    },
    {
      "cell_type": "code",
      "source": [
        "#Tokenizar Texto\n",
        "def text_tokenizer(text):\n",
        "  list = []\n",
        "  list.append(text)\n",
        "  text = pd.DataFrame(list)\n",
        "  #print(text)\n",
        "  sequences = tokenizer.texts_to_sequences(text.iloc[0])\n",
        "  \n",
        "  text_tokenized = keras.preprocessing.sequence.pad_sequences(sequences,maxlen = INPUT_LENGTH)\n",
        "  return text_tokenized"
      ],
      "metadata": {
        "id": "VFCq37lVu487"
      },
      "execution_count": null,
      "outputs": []
    },
    {
      "cell_type": "code",
      "source": [
        "#Predecir en texto plano\n",
        "def predict_text(text):\n",
        "  sentiment = ['Negativo', 'Neutro-negativo', 'Neutro', 'Neutro-positivo','Positivo']\n",
        "  x = text_tokenizer(text)  \n",
        "  print(model3.predict(x))\n",
        "  print('Tweet sentiment:', sentiment[get_label_predict(model3.predict(x)[0])])"
      ],
      "metadata": {
        "id": "AKMVyV8fG3Qc"
      },
      "execution_count": null,
      "outputs": []
    },
    {
      "cell_type": "code",
      "source": [
        "predict_text('ganaremos con el apoyo del pueblo')"
      ],
      "metadata": {
        "colab": {
          "base_uri": "https://localhost:8080/"
        },
        "id": "tdBZxPQNHhNq",
        "outputId": "e54093f2-e16b-4c0f-966e-344c663f0021"
      },
      "execution_count": null,
      "outputs": [
        {
          "output_type": "stream",
          "name": "stdout",
          "text": [
            "1/1 [==============================] - 0s 27ms/step\n",
            "[[0.12148973 0.1927679  0.6857424 ]]\n",
            "1/1 [==============================] - 0s 20ms/step\n",
            "Tweet sentiment: Positivo\n"
          ]
        }
      ]
    },
    {
      "cell_type": "code",
      "source": [
        "predict_text('elecciones del peru')"
      ],
      "metadata": {
        "colab": {
          "base_uri": "https://localhost:8080/"
        },
        "id": "wz0zeWJGGsn3",
        "outputId": "3d93cf9b-06a7-462c-a9a5-1f345c041e68"
      },
      "execution_count": null,
      "outputs": [
        {
          "output_type": "stream",
          "name": "stdout",
          "text": [
            "1/1 [==============================] - 0s 20ms/step\n",
            "[[0.06389683 0.6763129  0.25979024]]\n",
            "1/1 [==============================] - 0s 17ms/step\n",
            "Tweet sentiment: Neutro\n"
          ]
        }
      ]
    },
    {
      "cell_type": "markdown",
      "source": [
        "####Predecir en DF"
      ],
      "metadata": {
        "id": "4eM2DZq_I7rz"
      }
    },
    {
      "cell_type": "code",
      "source": [
        "palabra = ['una mala gestion en el pasado','con fe ganamos las elecciones','estamos listos para todo']"
      ],
      "metadata": {
        "id": "TbR3szmbuNGc"
      },
      "execution_count": null,
      "outputs": []
    },
    {
      "cell_type": "code",
      "source": [
        "new = pd.DataFrame(palabra)\n",
        "new.columns = ['content']\n",
        "new"
      ],
      "metadata": {
        "colab": {
          "base_uri": "https://localhost:8080/"
        },
        "id": "d8DQn_WyJr-x",
        "outputId": "51e17e2b-8d67-41c4-da84-cdafadec9804"
      },
      "execution_count": null,
      "outputs": [
        {
          "output_type": "execute_result",
          "data": {
            "text/plain": [
              "                         content\n",
              "0  una mala gestion en el pasado\n",
              "1  con fe ganamos las elecciones\n",
              "2       estamos listos para todo"
            ],
            "text/html": [
              "\n",
              "  <div id=\"df-0ca05abd-d63a-40ab-9f34-f77d2772bc1e\">\n",
              "    <div class=\"colab-df-container\">\n",
              "      <div>\n",
              "<style scoped>\n",
              "    .dataframe tbody tr th:only-of-type {\n",
              "        vertical-align: middle;\n",
              "    }\n",
              "\n",
              "    .dataframe tbody tr th {\n",
              "        vertical-align: top;\n",
              "    }\n",
              "\n",
              "    .dataframe thead th {\n",
              "        text-align: right;\n",
              "    }\n",
              "</style>\n",
              "<table border=\"1\" class=\"dataframe\">\n",
              "  <thead>\n",
              "    <tr style=\"text-align: right;\">\n",
              "      <th></th>\n",
              "      <th>content</th>\n",
              "    </tr>\n",
              "  </thead>\n",
              "  <tbody>\n",
              "    <tr>\n",
              "      <th>0</th>\n",
              "      <td>una mala gestion en el pasado</td>\n",
              "    </tr>\n",
              "    <tr>\n",
              "      <th>1</th>\n",
              "      <td>con fe ganamos las elecciones</td>\n",
              "    </tr>\n",
              "    <tr>\n",
              "      <th>2</th>\n",
              "      <td>estamos listos para todo</td>\n",
              "    </tr>\n",
              "  </tbody>\n",
              "</table>\n",
              "</div>\n",
              "      <button class=\"colab-df-convert\" onclick=\"convertToInteractive('df-0ca05abd-d63a-40ab-9f34-f77d2772bc1e')\"\n",
              "              title=\"Convert this dataframe to an interactive table.\"\n",
              "              style=\"display:none;\">\n",
              "        \n",
              "  <svg xmlns=\"http://www.w3.org/2000/svg\" height=\"24px\"viewBox=\"0 0 24 24\"\n",
              "       width=\"24px\">\n",
              "    <path d=\"M0 0h24v24H0V0z\" fill=\"none\"/>\n",
              "    <path d=\"M18.56 5.44l.94 2.06.94-2.06 2.06-.94-2.06-.94-.94-2.06-.94 2.06-2.06.94zm-11 1L8.5 8.5l.94-2.06 2.06-.94-2.06-.94L8.5 2.5l-.94 2.06-2.06.94zm10 10l.94 2.06.94-2.06 2.06-.94-2.06-.94-.94-2.06-.94 2.06-2.06.94z\"/><path d=\"M17.41 7.96l-1.37-1.37c-.4-.4-.92-.59-1.43-.59-.52 0-1.04.2-1.43.59L10.3 9.45l-7.72 7.72c-.78.78-.78 2.05 0 2.83L4 21.41c.39.39.9.59 1.41.59.51 0 1.02-.2 1.41-.59l7.78-7.78 2.81-2.81c.8-.78.8-2.07 0-2.86zM5.41 20L4 18.59l7.72-7.72 1.47 1.35L5.41 20z\"/>\n",
              "  </svg>\n",
              "      </button>\n",
              "      \n",
              "  <style>\n",
              "    .colab-df-container {\n",
              "      display:flex;\n",
              "      flex-wrap:wrap;\n",
              "      gap: 12px;\n",
              "    }\n",
              "\n",
              "    .colab-df-convert {\n",
              "      background-color: #E8F0FE;\n",
              "      border: none;\n",
              "      border-radius: 50%;\n",
              "      cursor: pointer;\n",
              "      display: none;\n",
              "      fill: #1967D2;\n",
              "      height: 32px;\n",
              "      padding: 0 0 0 0;\n",
              "      width: 32px;\n",
              "    }\n",
              "\n",
              "    .colab-df-convert:hover {\n",
              "      background-color: #E2EBFA;\n",
              "      box-shadow: 0px 1px 2px rgba(60, 64, 67, 0.3), 0px 1px 3px 1px rgba(60, 64, 67, 0.15);\n",
              "      fill: #174EA6;\n",
              "    }\n",
              "\n",
              "    [theme=dark] .colab-df-convert {\n",
              "      background-color: #3B4455;\n",
              "      fill: #D2E3FC;\n",
              "    }\n",
              "\n",
              "    [theme=dark] .colab-df-convert:hover {\n",
              "      background-color: #434B5C;\n",
              "      box-shadow: 0px 1px 3px 1px rgba(0, 0, 0, 0.15);\n",
              "      filter: drop-shadow(0px 1px 2px rgba(0, 0, 0, 0.3));\n",
              "      fill: #FFFFFF;\n",
              "    }\n",
              "  </style>\n",
              "\n",
              "      <script>\n",
              "        const buttonEl =\n",
              "          document.querySelector('#df-0ca05abd-d63a-40ab-9f34-f77d2772bc1e button.colab-df-convert');\n",
              "        buttonEl.style.display =\n",
              "          google.colab.kernel.accessAllowed ? 'block' : 'none';\n",
              "\n",
              "        async function convertToInteractive(key) {\n",
              "          const element = document.querySelector('#df-0ca05abd-d63a-40ab-9f34-f77d2772bc1e');\n",
              "          const dataTable =\n",
              "            await google.colab.kernel.invokeFunction('convertToInteractive',\n",
              "                                                     [key], {});\n",
              "          if (!dataTable) return;\n",
              "\n",
              "          const docLinkHtml = 'Like what you see? Visit the ' +\n",
              "            '<a target=\"_blank\" href=https://colab.research.google.com/notebooks/data_table.ipynb>data table notebook</a>'\n",
              "            + ' to learn more about interactive tables.';\n",
              "          element.innerHTML = '';\n",
              "          dataTable['output_type'] = 'display_data';\n",
              "          await google.colab.output.renderOutput(dataTable, element);\n",
              "          const docLink = document.createElement('div');\n",
              "          docLink.innerHTML = docLinkHtml;\n",
              "          element.appendChild(docLink);\n",
              "        }\n",
              "      </script>\n",
              "    </div>\n",
              "  </div>\n",
              "  "
            ]
          },
          "metadata": {},
          "execution_count": 74
        }
      ]
    },
    {
      "cell_type": "code",
      "source": [
        "#Tokenizar Data Frame\n",
        "def df_tokenizer(df):\n",
        "  sequences = tokenizer.texts_to_sequences(df.content)\n",
        "  df_tokenized = keras.preprocessing.sequence.pad_sequences(sequences,maxlen = INPUT_LENGTH)\n",
        "  return df_tokenized"
      ],
      "metadata": {
        "id": "xmfKrwlfJxgX"
      },
      "execution_count": null,
      "outputs": []
    },
    {
      "cell_type": "code",
      "source": [
        "#Predecir Data Frame\n",
        "def predict_df(df):\n",
        "  sentiment = ['NEG', 'NEG', 'NEU', 'POS','POS']\n",
        "  x = df_tokenizer(df) \n",
        "  sent_text = [] \n",
        "  sent_prob = model3.predict(x)\n",
        "  for a in sent_prob:\n",
        "    #print(a)\n",
        "    sent_text.append(sentiment[get_label_predict(a)])\n",
        "  df['sentiment_pred'] = sent_text\n",
        "  return df"
      ],
      "metadata": {
        "id": "JtdJQFQmKgAG"
      },
      "execution_count": null,
      "outputs": []
    },
    {
      "cell_type": "code",
      "source": [
        "x_new = predict_df(new)\n",
        "x_new"
      ],
      "metadata": {
        "colab": {
          "base_uri": "https://localhost:8080/"
        },
        "id": "UbL3Q5VSLm5O",
        "outputId": "5c52ba18-9613-4127-b929-2452395a3f32"
      },
      "execution_count": null,
      "outputs": [
        {
          "output_type": "stream",
          "name": "stdout",
          "text": [
            "1/1 [==============================] - 0s 21ms/step\n"
          ]
        },
        {
          "output_type": "execute_result",
          "data": {
            "text/plain": [
              "                         content sentiment_pred\n",
              "0  una mala gestion en el pasado            NEG\n",
              "1  con fe ganamos las elecciones            NEU\n",
              "2       estamos listos para todo            POS"
            ],
            "text/html": [
              "\n",
              "  <div id=\"df-0774fc31-8022-4cb3-8ea3-85ee4f3aae29\">\n",
              "    <div class=\"colab-df-container\">\n",
              "      <div>\n",
              "<style scoped>\n",
              "    .dataframe tbody tr th:only-of-type {\n",
              "        vertical-align: middle;\n",
              "    }\n",
              "\n",
              "    .dataframe tbody tr th {\n",
              "        vertical-align: top;\n",
              "    }\n",
              "\n",
              "    .dataframe thead th {\n",
              "        text-align: right;\n",
              "    }\n",
              "</style>\n",
              "<table border=\"1\" class=\"dataframe\">\n",
              "  <thead>\n",
              "    <tr style=\"text-align: right;\">\n",
              "      <th></th>\n",
              "      <th>content</th>\n",
              "      <th>sentiment_pred</th>\n",
              "    </tr>\n",
              "  </thead>\n",
              "  <tbody>\n",
              "    <tr>\n",
              "      <th>0</th>\n",
              "      <td>una mala gestion en el pasado</td>\n",
              "      <td>NEG</td>\n",
              "    </tr>\n",
              "    <tr>\n",
              "      <th>1</th>\n",
              "      <td>con fe ganamos las elecciones</td>\n",
              "      <td>NEU</td>\n",
              "    </tr>\n",
              "    <tr>\n",
              "      <th>2</th>\n",
              "      <td>estamos listos para todo</td>\n",
              "      <td>POS</td>\n",
              "    </tr>\n",
              "  </tbody>\n",
              "</table>\n",
              "</div>\n",
              "      <button class=\"colab-df-convert\" onclick=\"convertToInteractive('df-0774fc31-8022-4cb3-8ea3-85ee4f3aae29')\"\n",
              "              title=\"Convert this dataframe to an interactive table.\"\n",
              "              style=\"display:none;\">\n",
              "        \n",
              "  <svg xmlns=\"http://www.w3.org/2000/svg\" height=\"24px\"viewBox=\"0 0 24 24\"\n",
              "       width=\"24px\">\n",
              "    <path d=\"M0 0h24v24H0V0z\" fill=\"none\"/>\n",
              "    <path d=\"M18.56 5.44l.94 2.06.94-2.06 2.06-.94-2.06-.94-.94-2.06-.94 2.06-2.06.94zm-11 1L8.5 8.5l.94-2.06 2.06-.94-2.06-.94L8.5 2.5l-.94 2.06-2.06.94zm10 10l.94 2.06.94-2.06 2.06-.94-2.06-.94-.94-2.06-.94 2.06-2.06.94z\"/><path d=\"M17.41 7.96l-1.37-1.37c-.4-.4-.92-.59-1.43-.59-.52 0-1.04.2-1.43.59L10.3 9.45l-7.72 7.72c-.78.78-.78 2.05 0 2.83L4 21.41c.39.39.9.59 1.41.59.51 0 1.02-.2 1.41-.59l7.78-7.78 2.81-2.81c.8-.78.8-2.07 0-2.86zM5.41 20L4 18.59l7.72-7.72 1.47 1.35L5.41 20z\"/>\n",
              "  </svg>\n",
              "      </button>\n",
              "      \n",
              "  <style>\n",
              "    .colab-df-container {\n",
              "      display:flex;\n",
              "      flex-wrap:wrap;\n",
              "      gap: 12px;\n",
              "    }\n",
              "\n",
              "    .colab-df-convert {\n",
              "      background-color: #E8F0FE;\n",
              "      border: none;\n",
              "      border-radius: 50%;\n",
              "      cursor: pointer;\n",
              "      display: none;\n",
              "      fill: #1967D2;\n",
              "      height: 32px;\n",
              "      padding: 0 0 0 0;\n",
              "      width: 32px;\n",
              "    }\n",
              "\n",
              "    .colab-df-convert:hover {\n",
              "      background-color: #E2EBFA;\n",
              "      box-shadow: 0px 1px 2px rgba(60, 64, 67, 0.3), 0px 1px 3px 1px rgba(60, 64, 67, 0.15);\n",
              "      fill: #174EA6;\n",
              "    }\n",
              "\n",
              "    [theme=dark] .colab-df-convert {\n",
              "      background-color: #3B4455;\n",
              "      fill: #D2E3FC;\n",
              "    }\n",
              "\n",
              "    [theme=dark] .colab-df-convert:hover {\n",
              "      background-color: #434B5C;\n",
              "      box-shadow: 0px 1px 3px 1px rgba(0, 0, 0, 0.15);\n",
              "      filter: drop-shadow(0px 1px 2px rgba(0, 0, 0, 0.3));\n",
              "      fill: #FFFFFF;\n",
              "    }\n",
              "  </style>\n",
              "\n",
              "      <script>\n",
              "        const buttonEl =\n",
              "          document.querySelector('#df-0774fc31-8022-4cb3-8ea3-85ee4f3aae29 button.colab-df-convert');\n",
              "        buttonEl.style.display =\n",
              "          google.colab.kernel.accessAllowed ? 'block' : 'none';\n",
              "\n",
              "        async function convertToInteractive(key) {\n",
              "          const element = document.querySelector('#df-0774fc31-8022-4cb3-8ea3-85ee4f3aae29');\n",
              "          const dataTable =\n",
              "            await google.colab.kernel.invokeFunction('convertToInteractive',\n",
              "                                                     [key], {});\n",
              "          if (!dataTable) return;\n",
              "\n",
              "          const docLinkHtml = 'Like what you see? Visit the ' +\n",
              "            '<a target=\"_blank\" href=https://colab.research.google.com/notebooks/data_table.ipynb>data table notebook</a>'\n",
              "            + ' to learn more about interactive tables.';\n",
              "          element.innerHTML = '';\n",
              "          dataTable['output_type'] = 'display_data';\n",
              "          await google.colab.output.renderOutput(dataTable, element);\n",
              "          const docLink = document.createElement('div');\n",
              "          docLink.innerHTML = docLinkHtml;\n",
              "          element.appendChild(docLink);\n",
              "        }\n",
              "      </script>\n",
              "    </div>\n",
              "  </div>\n",
              "  "
            ]
          },
          "metadata": {},
          "execution_count": 77
        }
      ]
    },
    {
      "cell_type": "markdown",
      "source": [
        "###4.2 Predecir df Elecciones"
      ],
      "metadata": {
        "id": "RdHb1Wq04W03"
      }
    },
    {
      "cell_type": "markdown",
      "source": [
        "####Primera Vuelta"
      ],
      "metadata": {
        "id": "rz1B4FxKDJEk"
      }
    },
    {
      "cell_type": "code",
      "source": [
        "df_elecciones_pred_pv = predict_df(DFtcmPC)"
      ],
      "metadata": {
        "colab": {
          "base_uri": "https://localhost:8080/"
        },
        "id": "kZ_PWUtX4bqH",
        "outputId": "5383487e-587e-41cc-a15b-1304a1fcb209"
      },
      "execution_count": null,
      "outputs": [
        {
          "output_type": "stream",
          "name": "stdout",
          "text": [
            "365/365 [==============================] - 2s 4ms/step\n"
          ]
        }
      ]
    },
    {
      "cell_type": "code",
      "source": [
        "df_elecciones_pred_pv"
      ],
      "metadata": {
        "colab": {
          "base_uri": "https://localhost:8080/",
          "height": 424
        },
        "id": "AnaIj-8k5A4W",
        "outputId": "58a9ddc4-19b3-45c9-d523-700d00547a8e"
      },
      "execution_count": null,
      "outputs": [
        {
          "output_type": "execute_result",
          "data": {
            "text/plain": [
              "                                                 content           mencion  \\\n",
              "0                           necesitar foto así instagram  @Ollanta_HumalaT   \n",
              "1      mamá votar por usted {emoji_pos} yo aún no def...  @Ollanta_HumalaT   \n",
              "2                                futuro juicio pendiente  @Ollanta_HumalaT   \n",
              "3                               paso nadine no acompañar  @Ollanta_HumalaT   \n",
              "4                                        no pesar cuerno  @Ollanta_HumalaT   \n",
              "...                                                  ...               ...   \n",
              "11652                                      ahí mem tu ah      @CesarAcunaP   \n",
              "11653       mem bajo solo si mem {emoji_neu} {emoji_neu}      @CesarAcunaP   \n",
              "11654                               ni así regalir megas      @CesarAcunaP   \n",
              "11655  no olvidar visitar sección humorístico memes m...      @CesarAcunaP   \n",
              "11656                  conocer historia topo fujimorismo      @CesarAcunaP   \n",
              "\n",
              "      sentiment_pred  \n",
              "0                NEG  \n",
              "1                POS  \n",
              "2                NEU  \n",
              "3                POS  \n",
              "4                NEG  \n",
              "...              ...  \n",
              "11652            NEU  \n",
              "11653            NEU  \n",
              "11654            NEG  \n",
              "11655            POS  \n",
              "11656            POS  \n",
              "\n",
              "[11657 rows x 3 columns]"
            ],
            "text/html": [
              "\n",
              "  <div id=\"df-aa090a6e-f197-4830-9824-9086eb5be0ad\">\n",
              "    <div class=\"colab-df-container\">\n",
              "      <div>\n",
              "<style scoped>\n",
              "    .dataframe tbody tr th:only-of-type {\n",
              "        vertical-align: middle;\n",
              "    }\n",
              "\n",
              "    .dataframe tbody tr th {\n",
              "        vertical-align: top;\n",
              "    }\n",
              "\n",
              "    .dataframe thead th {\n",
              "        text-align: right;\n",
              "    }\n",
              "</style>\n",
              "<table border=\"1\" class=\"dataframe\">\n",
              "  <thead>\n",
              "    <tr style=\"text-align: right;\">\n",
              "      <th></th>\n",
              "      <th>content</th>\n",
              "      <th>mencion</th>\n",
              "      <th>sentiment_pred</th>\n",
              "    </tr>\n",
              "  </thead>\n",
              "  <tbody>\n",
              "    <tr>\n",
              "      <th>0</th>\n",
              "      <td>necesitar foto así instagram</td>\n",
              "      <td>@Ollanta_HumalaT</td>\n",
              "      <td>NEG</td>\n",
              "    </tr>\n",
              "    <tr>\n",
              "      <th>1</th>\n",
              "      <td>mamá votar por usted {emoji_pos} yo aún no def...</td>\n",
              "      <td>@Ollanta_HumalaT</td>\n",
              "      <td>POS</td>\n",
              "    </tr>\n",
              "    <tr>\n",
              "      <th>2</th>\n",
              "      <td>futuro juicio pendiente</td>\n",
              "      <td>@Ollanta_HumalaT</td>\n",
              "      <td>NEU</td>\n",
              "    </tr>\n",
              "    <tr>\n",
              "      <th>3</th>\n",
              "      <td>paso nadine no acompañar</td>\n",
              "      <td>@Ollanta_HumalaT</td>\n",
              "      <td>POS</td>\n",
              "    </tr>\n",
              "    <tr>\n",
              "      <th>4</th>\n",
              "      <td>no pesar cuerno</td>\n",
              "      <td>@Ollanta_HumalaT</td>\n",
              "      <td>NEG</td>\n",
              "    </tr>\n",
              "    <tr>\n",
              "      <th>...</th>\n",
              "      <td>...</td>\n",
              "      <td>...</td>\n",
              "      <td>...</td>\n",
              "    </tr>\n",
              "    <tr>\n",
              "      <th>11652</th>\n",
              "      <td>ahí mem tu ah</td>\n",
              "      <td>@CesarAcunaP</td>\n",
              "      <td>NEU</td>\n",
              "    </tr>\n",
              "    <tr>\n",
              "      <th>11653</th>\n",
              "      <td>mem bajo solo si mem {emoji_neu} {emoji_neu}</td>\n",
              "      <td>@CesarAcunaP</td>\n",
              "      <td>NEU</td>\n",
              "    </tr>\n",
              "    <tr>\n",
              "      <th>11654</th>\n",
              "      <td>ni así regalir megas</td>\n",
              "      <td>@CesarAcunaP</td>\n",
              "      <td>NEG</td>\n",
              "    </tr>\n",
              "    <tr>\n",
              "      <th>11655</th>\n",
              "      <td>no olvidar visitar sección humorístico memes m...</td>\n",
              "      <td>@CesarAcunaP</td>\n",
              "      <td>POS</td>\n",
              "    </tr>\n",
              "    <tr>\n",
              "      <th>11656</th>\n",
              "      <td>conocer historia topo fujimorismo</td>\n",
              "      <td>@CesarAcunaP</td>\n",
              "      <td>POS</td>\n",
              "    </tr>\n",
              "  </tbody>\n",
              "</table>\n",
              "<p>11657 rows × 3 columns</p>\n",
              "</div>\n",
              "      <button class=\"colab-df-convert\" onclick=\"convertToInteractive('df-aa090a6e-f197-4830-9824-9086eb5be0ad')\"\n",
              "              title=\"Convert this dataframe to an interactive table.\"\n",
              "              style=\"display:none;\">\n",
              "        \n",
              "  <svg xmlns=\"http://www.w3.org/2000/svg\" height=\"24px\"viewBox=\"0 0 24 24\"\n",
              "       width=\"24px\">\n",
              "    <path d=\"M0 0h24v24H0V0z\" fill=\"none\"/>\n",
              "    <path d=\"M18.56 5.44l.94 2.06.94-2.06 2.06-.94-2.06-.94-.94-2.06-.94 2.06-2.06.94zm-11 1L8.5 8.5l.94-2.06 2.06-.94-2.06-.94L8.5 2.5l-.94 2.06-2.06.94zm10 10l.94 2.06.94-2.06 2.06-.94-2.06-.94-.94-2.06-.94 2.06-2.06.94z\"/><path d=\"M17.41 7.96l-1.37-1.37c-.4-.4-.92-.59-1.43-.59-.52 0-1.04.2-1.43.59L10.3 9.45l-7.72 7.72c-.78.78-.78 2.05 0 2.83L4 21.41c.39.39.9.59 1.41.59.51 0 1.02-.2 1.41-.59l7.78-7.78 2.81-2.81c.8-.78.8-2.07 0-2.86zM5.41 20L4 18.59l7.72-7.72 1.47 1.35L5.41 20z\"/>\n",
              "  </svg>\n",
              "      </button>\n",
              "      \n",
              "  <style>\n",
              "    .colab-df-container {\n",
              "      display:flex;\n",
              "      flex-wrap:wrap;\n",
              "      gap: 12px;\n",
              "    }\n",
              "\n",
              "    .colab-df-convert {\n",
              "      background-color: #E8F0FE;\n",
              "      border: none;\n",
              "      border-radius: 50%;\n",
              "      cursor: pointer;\n",
              "      display: none;\n",
              "      fill: #1967D2;\n",
              "      height: 32px;\n",
              "      padding: 0 0 0 0;\n",
              "      width: 32px;\n",
              "    }\n",
              "\n",
              "    .colab-df-convert:hover {\n",
              "      background-color: #E2EBFA;\n",
              "      box-shadow: 0px 1px 2px rgba(60, 64, 67, 0.3), 0px 1px 3px 1px rgba(60, 64, 67, 0.15);\n",
              "      fill: #174EA6;\n",
              "    }\n",
              "\n",
              "    [theme=dark] .colab-df-convert {\n",
              "      background-color: #3B4455;\n",
              "      fill: #D2E3FC;\n",
              "    }\n",
              "\n",
              "    [theme=dark] .colab-df-convert:hover {\n",
              "      background-color: #434B5C;\n",
              "      box-shadow: 0px 1px 3px 1px rgba(0, 0, 0, 0.15);\n",
              "      filter: drop-shadow(0px 1px 2px rgba(0, 0, 0, 0.3));\n",
              "      fill: #FFFFFF;\n",
              "    }\n",
              "  </style>\n",
              "\n",
              "      <script>\n",
              "        const buttonEl =\n",
              "          document.querySelector('#df-aa090a6e-f197-4830-9824-9086eb5be0ad button.colab-df-convert');\n",
              "        buttonEl.style.display =\n",
              "          google.colab.kernel.accessAllowed ? 'block' : 'none';\n",
              "\n",
              "        async function convertToInteractive(key) {\n",
              "          const element = document.querySelector('#df-aa090a6e-f197-4830-9824-9086eb5be0ad');\n",
              "          const dataTable =\n",
              "            await google.colab.kernel.invokeFunction('convertToInteractive',\n",
              "                                                     [key], {});\n",
              "          if (!dataTable) return;\n",
              "\n",
              "          const docLinkHtml = 'Like what you see? Visit the ' +\n",
              "            '<a target=\"_blank\" href=https://colab.research.google.com/notebooks/data_table.ipynb>data table notebook</a>'\n",
              "            + ' to learn more about interactive tables.';\n",
              "          element.innerHTML = '';\n",
              "          dataTable['output_type'] = 'display_data';\n",
              "          await google.colab.output.renderOutput(dataTable, element);\n",
              "          const docLink = document.createElement('div');\n",
              "          docLink.innerHTML = docLinkHtml;\n",
              "          element.appendChild(docLink);\n",
              "        }\n",
              "      </script>\n",
              "    </div>\n",
              "  </div>\n",
              "  "
            ]
          },
          "metadata": {},
          "execution_count": 79
        }
      ]
    },
    {
      "cell_type": "markdown",
      "source": [
        "####Segunda Vuelta"
      ],
      "metadata": {
        "id": "qujUYXvtDLfD"
      }
    },
    {
      "cell_type": "code",
      "source": [
        "df_elecciones_pred_sv = predict_df(DFtcmSC)"
      ],
      "metadata": {
        "colab": {
          "base_uri": "https://localhost:8080/"
        },
        "id": "PBGRVs4WDOEo",
        "outputId": "b713155f-abad-498f-8c80-6791f7de1013"
      },
      "execution_count": null,
      "outputs": [
        {
          "output_type": "stream",
          "name": "stdout",
          "text": [
            "148/148 [==============================] - 1s 4ms/step\n"
          ]
        }
      ]
    },
    {
      "cell_type": "code",
      "source": [
        "df_elecciones_pred_sv"
      ],
      "metadata": {
        "colab": {
          "base_uri": "https://localhost:8080/",
          "height": 424
        },
        "id": "gej67j75DSsx",
        "outputId": "3a5b28bb-e46b-4116-b92f-e19b45d27d63"
      },
      "execution_count": null,
      "outputs": [
        {
          "output_type": "execute_result",
          "data": {
            "text/plain": [
              "                                                content           mencion  \\\n",
              "0     desubicado hoy cre capitalista despues tragar ...    @KeikoFujimori   \n",
              "1                                             tal ostra    @KeikoFujimori   \n",
              "2     oir cara duro no ninguno extranjero deber mete...    @KeikoFujimori   \n",
              "3     comunista {emoji_neu} {emoji_neu} {emoji_neu} ...    @KeikoFujimori   \n",
              "4                   hermano comera mierda guardar twitt    @KeikoFujimori   \n",
              "...                                                 ...               ...   \n",
              "4723                                         no esconda    @KeikoFujimori   \n",
              "4724                            {emoji_pos} {emoji_pos}    @KeikoFujimori   \n",
              "4725  claro ahora no agredir reportero willax no tir...  @PedroCastilloTe   \n",
              "4726  lamentable decir mucho posible gobierno tú mac...    @KeikoFujimori   \n",
              "4727  plaza lleno vs keiko caravana mototaxista entu...  @PedroCastilloTe   \n",
              "\n",
              "     sentiment_pred  \n",
              "0               NEG  \n",
              "1               NEU  \n",
              "2               NEG  \n",
              "3               POS  \n",
              "4               NEG  \n",
              "...             ...  \n",
              "4723            NEU  \n",
              "4724            POS  \n",
              "4725            NEG  \n",
              "4726            NEG  \n",
              "4727            NEG  \n",
              "\n",
              "[4728 rows x 3 columns]"
            ],
            "text/html": [
              "\n",
              "  <div id=\"df-bb5473b1-fd28-43e2-a733-1bee7f0eeeeb\">\n",
              "    <div class=\"colab-df-container\">\n",
              "      <div>\n",
              "<style scoped>\n",
              "    .dataframe tbody tr th:only-of-type {\n",
              "        vertical-align: middle;\n",
              "    }\n",
              "\n",
              "    .dataframe tbody tr th {\n",
              "        vertical-align: top;\n",
              "    }\n",
              "\n",
              "    .dataframe thead th {\n",
              "        text-align: right;\n",
              "    }\n",
              "</style>\n",
              "<table border=\"1\" class=\"dataframe\">\n",
              "  <thead>\n",
              "    <tr style=\"text-align: right;\">\n",
              "      <th></th>\n",
              "      <th>content</th>\n",
              "      <th>mencion</th>\n",
              "      <th>sentiment_pred</th>\n",
              "    </tr>\n",
              "  </thead>\n",
              "  <tbody>\n",
              "    <tr>\n",
              "      <th>0</th>\n",
              "      <td>desubicado hoy cre capitalista despues tragar ...</td>\n",
              "      <td>@KeikoFujimori</td>\n",
              "      <td>NEG</td>\n",
              "    </tr>\n",
              "    <tr>\n",
              "      <th>1</th>\n",
              "      <td>tal ostra</td>\n",
              "      <td>@KeikoFujimori</td>\n",
              "      <td>NEU</td>\n",
              "    </tr>\n",
              "    <tr>\n",
              "      <th>2</th>\n",
              "      <td>oir cara duro no ninguno extranjero deber mete...</td>\n",
              "      <td>@KeikoFujimori</td>\n",
              "      <td>NEG</td>\n",
              "    </tr>\n",
              "    <tr>\n",
              "      <th>3</th>\n",
              "      <td>comunista {emoji_neu} {emoji_neu} {emoji_neu} ...</td>\n",
              "      <td>@KeikoFujimori</td>\n",
              "      <td>POS</td>\n",
              "    </tr>\n",
              "    <tr>\n",
              "      <th>4</th>\n",
              "      <td>hermano comera mierda guardar twitt</td>\n",
              "      <td>@KeikoFujimori</td>\n",
              "      <td>NEG</td>\n",
              "    </tr>\n",
              "    <tr>\n",
              "      <th>...</th>\n",
              "      <td>...</td>\n",
              "      <td>...</td>\n",
              "      <td>...</td>\n",
              "    </tr>\n",
              "    <tr>\n",
              "      <th>4723</th>\n",
              "      <td>no esconda</td>\n",
              "      <td>@KeikoFujimori</td>\n",
              "      <td>NEU</td>\n",
              "    </tr>\n",
              "    <tr>\n",
              "      <th>4724</th>\n",
              "      <td>{emoji_pos} {emoji_pos}</td>\n",
              "      <td>@KeikoFujimori</td>\n",
              "      <td>POS</td>\n",
              "    </tr>\n",
              "    <tr>\n",
              "      <th>4725</th>\n",
              "      <td>claro ahora no agredir reportero willax no tir...</td>\n",
              "      <td>@PedroCastilloTe</td>\n",
              "      <td>NEG</td>\n",
              "    </tr>\n",
              "    <tr>\n",
              "      <th>4726</th>\n",
              "      <td>lamentable decir mucho posible gobierno tú mac...</td>\n",
              "      <td>@KeikoFujimori</td>\n",
              "      <td>NEG</td>\n",
              "    </tr>\n",
              "    <tr>\n",
              "      <th>4727</th>\n",
              "      <td>plaza lleno vs keiko caravana mototaxista entu...</td>\n",
              "      <td>@PedroCastilloTe</td>\n",
              "      <td>NEG</td>\n",
              "    </tr>\n",
              "  </tbody>\n",
              "</table>\n",
              "<p>4728 rows × 3 columns</p>\n",
              "</div>\n",
              "      <button class=\"colab-df-convert\" onclick=\"convertToInteractive('df-bb5473b1-fd28-43e2-a733-1bee7f0eeeeb')\"\n",
              "              title=\"Convert this dataframe to an interactive table.\"\n",
              "              style=\"display:none;\">\n",
              "        \n",
              "  <svg xmlns=\"http://www.w3.org/2000/svg\" height=\"24px\"viewBox=\"0 0 24 24\"\n",
              "       width=\"24px\">\n",
              "    <path d=\"M0 0h24v24H0V0z\" fill=\"none\"/>\n",
              "    <path d=\"M18.56 5.44l.94 2.06.94-2.06 2.06-.94-2.06-.94-.94-2.06-.94 2.06-2.06.94zm-11 1L8.5 8.5l.94-2.06 2.06-.94-2.06-.94L8.5 2.5l-.94 2.06-2.06.94zm10 10l.94 2.06.94-2.06 2.06-.94-2.06-.94-.94-2.06-.94 2.06-2.06.94z\"/><path d=\"M17.41 7.96l-1.37-1.37c-.4-.4-.92-.59-1.43-.59-.52 0-1.04.2-1.43.59L10.3 9.45l-7.72 7.72c-.78.78-.78 2.05 0 2.83L4 21.41c.39.39.9.59 1.41.59.51 0 1.02-.2 1.41-.59l7.78-7.78 2.81-2.81c.8-.78.8-2.07 0-2.86zM5.41 20L4 18.59l7.72-7.72 1.47 1.35L5.41 20z\"/>\n",
              "  </svg>\n",
              "      </button>\n",
              "      \n",
              "  <style>\n",
              "    .colab-df-container {\n",
              "      display:flex;\n",
              "      flex-wrap:wrap;\n",
              "      gap: 12px;\n",
              "    }\n",
              "\n",
              "    .colab-df-convert {\n",
              "      background-color: #E8F0FE;\n",
              "      border: none;\n",
              "      border-radius: 50%;\n",
              "      cursor: pointer;\n",
              "      display: none;\n",
              "      fill: #1967D2;\n",
              "      height: 32px;\n",
              "      padding: 0 0 0 0;\n",
              "      width: 32px;\n",
              "    }\n",
              "\n",
              "    .colab-df-convert:hover {\n",
              "      background-color: #E2EBFA;\n",
              "      box-shadow: 0px 1px 2px rgba(60, 64, 67, 0.3), 0px 1px 3px 1px rgba(60, 64, 67, 0.15);\n",
              "      fill: #174EA6;\n",
              "    }\n",
              "\n",
              "    [theme=dark] .colab-df-convert {\n",
              "      background-color: #3B4455;\n",
              "      fill: #D2E3FC;\n",
              "    }\n",
              "\n",
              "    [theme=dark] .colab-df-convert:hover {\n",
              "      background-color: #434B5C;\n",
              "      box-shadow: 0px 1px 3px 1px rgba(0, 0, 0, 0.15);\n",
              "      filter: drop-shadow(0px 1px 2px rgba(0, 0, 0, 0.3));\n",
              "      fill: #FFFFFF;\n",
              "    }\n",
              "  </style>\n",
              "\n",
              "      <script>\n",
              "        const buttonEl =\n",
              "          document.querySelector('#df-bb5473b1-fd28-43e2-a733-1bee7f0eeeeb button.colab-df-convert');\n",
              "        buttonEl.style.display =\n",
              "          google.colab.kernel.accessAllowed ? 'block' : 'none';\n",
              "\n",
              "        async function convertToInteractive(key) {\n",
              "          const element = document.querySelector('#df-bb5473b1-fd28-43e2-a733-1bee7f0eeeeb');\n",
              "          const dataTable =\n",
              "            await google.colab.kernel.invokeFunction('convertToInteractive',\n",
              "                                                     [key], {});\n",
              "          if (!dataTable) return;\n",
              "\n",
              "          const docLinkHtml = 'Like what you see? Visit the ' +\n",
              "            '<a target=\"_blank\" href=https://colab.research.google.com/notebooks/data_table.ipynb>data table notebook</a>'\n",
              "            + ' to learn more about interactive tables.';\n",
              "          element.innerHTML = '';\n",
              "          dataTable['output_type'] = 'display_data';\n",
              "          await google.colab.output.renderOutput(dataTable, element);\n",
              "          const docLink = document.createElement('div');\n",
              "          docLink.innerHTML = docLinkHtml;\n",
              "          element.appendChild(docLink);\n",
              "        }\n",
              "      </script>\n",
              "    </div>\n",
              "  </div>\n",
              "  "
            ]
          },
          "metadata": {},
          "execution_count": 81
        }
      ]
    },
    {
      "cell_type": "markdown",
      "source": [
        "##5. Resultados y estadísticas"
      ],
      "metadata": {
        "id": "i5u6XhmdsSDQ"
      }
    },
    {
      "cell_type": "code",
      "source": [
        "#FUNCION PARA MOSTRAR ESTADISTICAS\n",
        "def mostrarGraficoBarras(dataDF, height, widht, title, msjx, msjy):\n",
        "  plt.figure(figsize=(widht, height)) \n",
        "  plots = sns.barplot(x=0, y=1, data=dataDF) \n",
        "\n",
        "  for bar in plots.patches: \n",
        "      plots.annotate(format(bar.get_height(), '.1f'),  \n",
        "                    (bar.get_x() + bar.get_width() / 2,  \n",
        "                      bar.get_height()), ha='center', va='center', \n",
        "                    size=15, xytext=(0, 8), \n",
        "                    textcoords='offset points')\n",
        "\n",
        "  plt.xlabel(msjx, size=15) \n",
        "  plt.ylabel(msjy, size=15) \n",
        "  plt.title(title) \n",
        "  plt.show()"
      ],
      "metadata": {
        "id": "qP9d2Kk4AQ-g"
      },
      "execution_count": null,
      "outputs": []
    },
    {
      "cell_type": "markdown",
      "source": [
        "###5.1 Primera Vuelta"
      ],
      "metadata": {
        "id": "qntr69vHBkiW"
      }
    },
    {
      "cell_type": "code",
      "source": [
        "#Usamos solo los tuits positivos\n",
        "Resultados_PV = df_elecciones_pred_pv.loc[(df_elecciones_pred_pv.sentiment_pred == 'POS')]\n",
        "Resultados_PV.reset_index(drop = True, inplace = True)"
      ],
      "metadata": {
        "id": "9QPm6oZ6s7EG"
      },
      "execution_count": null,
      "outputs": []
    },
    {
      "cell_type": "code",
      "source": [
        "Resultados_PV"
      ],
      "metadata": {
        "id": "XFnpMYb-AP5-"
      },
      "execution_count": null,
      "outputs": []
    },
    {
      "cell_type": "code",
      "source": [
        "Resultados_PV.head()"
      ],
      "metadata": {
        "colab": {
          "base_uri": "https://localhost:8080/",
          "height": 206
        },
        "id": "V391-js9-YJd",
        "outputId": "9329385a-a7bc-449c-e8df-29bbd601ce47"
      },
      "execution_count": null,
      "outputs": [
        {
          "output_type": "execute_result",
          "data": {
            "text/plain": [
              "                                             content           mencion  \\\n",
              "0  mamá votar por usted {emoji_pos} yo aún no def...  @Ollanta_HumalaT   \n",
              "1                           paso nadine no acompañar  @Ollanta_HumalaT   \n",
              "2  tu futuro hacer dueño gremco delincuente saco ...  @Ollanta_HumalaT   \n",
              "3                                  buen foto ollanto  @Ollanta_HumalaT   \n",
              "4  año no hacer nada por perú ahora querer oportu...  @Ollanta_HumalaT   \n",
              "\n",
              "  sentiment_pred  \n",
              "0            POS  \n",
              "1            POS  \n",
              "2            POS  \n",
              "3            POS  \n",
              "4            POS  "
            ],
            "text/html": [
              "\n",
              "  <div id=\"df-02ff2c01-fcad-422d-9e69-7cf4a7ae3b7f\">\n",
              "    <div class=\"colab-df-container\">\n",
              "      <div>\n",
              "<style scoped>\n",
              "    .dataframe tbody tr th:only-of-type {\n",
              "        vertical-align: middle;\n",
              "    }\n",
              "\n",
              "    .dataframe tbody tr th {\n",
              "        vertical-align: top;\n",
              "    }\n",
              "\n",
              "    .dataframe thead th {\n",
              "        text-align: right;\n",
              "    }\n",
              "</style>\n",
              "<table border=\"1\" class=\"dataframe\">\n",
              "  <thead>\n",
              "    <tr style=\"text-align: right;\">\n",
              "      <th></th>\n",
              "      <th>content</th>\n",
              "      <th>mencion</th>\n",
              "      <th>sentiment_pred</th>\n",
              "    </tr>\n",
              "  </thead>\n",
              "  <tbody>\n",
              "    <tr>\n",
              "      <th>0</th>\n",
              "      <td>mamá votar por usted {emoji_pos} yo aún no def...</td>\n",
              "      <td>@Ollanta_HumalaT</td>\n",
              "      <td>POS</td>\n",
              "    </tr>\n",
              "    <tr>\n",
              "      <th>1</th>\n",
              "      <td>paso nadine no acompañar</td>\n",
              "      <td>@Ollanta_HumalaT</td>\n",
              "      <td>POS</td>\n",
              "    </tr>\n",
              "    <tr>\n",
              "      <th>2</th>\n",
              "      <td>tu futuro hacer dueño gremco delincuente saco ...</td>\n",
              "      <td>@Ollanta_HumalaT</td>\n",
              "      <td>POS</td>\n",
              "    </tr>\n",
              "    <tr>\n",
              "      <th>3</th>\n",
              "      <td>buen foto ollanto</td>\n",
              "      <td>@Ollanta_HumalaT</td>\n",
              "      <td>POS</td>\n",
              "    </tr>\n",
              "    <tr>\n",
              "      <th>4</th>\n",
              "      <td>año no hacer nada por perú ahora querer oportu...</td>\n",
              "      <td>@Ollanta_HumalaT</td>\n",
              "      <td>POS</td>\n",
              "    </tr>\n",
              "  </tbody>\n",
              "</table>\n",
              "</div>\n",
              "      <button class=\"colab-df-convert\" onclick=\"convertToInteractive('df-02ff2c01-fcad-422d-9e69-7cf4a7ae3b7f')\"\n",
              "              title=\"Convert this dataframe to an interactive table.\"\n",
              "              style=\"display:none;\">\n",
              "        \n",
              "  <svg xmlns=\"http://www.w3.org/2000/svg\" height=\"24px\"viewBox=\"0 0 24 24\"\n",
              "       width=\"24px\">\n",
              "    <path d=\"M0 0h24v24H0V0z\" fill=\"none\"/>\n",
              "    <path d=\"M18.56 5.44l.94 2.06.94-2.06 2.06-.94-2.06-.94-.94-2.06-.94 2.06-2.06.94zm-11 1L8.5 8.5l.94-2.06 2.06-.94-2.06-.94L8.5 2.5l-.94 2.06-2.06.94zm10 10l.94 2.06.94-2.06 2.06-.94-2.06-.94-.94-2.06-.94 2.06-2.06.94z\"/><path d=\"M17.41 7.96l-1.37-1.37c-.4-.4-.92-.59-1.43-.59-.52 0-1.04.2-1.43.59L10.3 9.45l-7.72 7.72c-.78.78-.78 2.05 0 2.83L4 21.41c.39.39.9.59 1.41.59.51 0 1.02-.2 1.41-.59l7.78-7.78 2.81-2.81c.8-.78.8-2.07 0-2.86zM5.41 20L4 18.59l7.72-7.72 1.47 1.35L5.41 20z\"/>\n",
              "  </svg>\n",
              "      </button>\n",
              "      \n",
              "  <style>\n",
              "    .colab-df-container {\n",
              "      display:flex;\n",
              "      flex-wrap:wrap;\n",
              "      gap: 12px;\n",
              "    }\n",
              "\n",
              "    .colab-df-convert {\n",
              "      background-color: #E8F0FE;\n",
              "      border: none;\n",
              "      border-radius: 50%;\n",
              "      cursor: pointer;\n",
              "      display: none;\n",
              "      fill: #1967D2;\n",
              "      height: 32px;\n",
              "      padding: 0 0 0 0;\n",
              "      width: 32px;\n",
              "    }\n",
              "\n",
              "    .colab-df-convert:hover {\n",
              "      background-color: #E2EBFA;\n",
              "      box-shadow: 0px 1px 2px rgba(60, 64, 67, 0.3), 0px 1px 3px 1px rgba(60, 64, 67, 0.15);\n",
              "      fill: #174EA6;\n",
              "    }\n",
              "\n",
              "    [theme=dark] .colab-df-convert {\n",
              "      background-color: #3B4455;\n",
              "      fill: #D2E3FC;\n",
              "    }\n",
              "\n",
              "    [theme=dark] .colab-df-convert:hover {\n",
              "      background-color: #434B5C;\n",
              "      box-shadow: 0px 1px 3px 1px rgba(0, 0, 0, 0.15);\n",
              "      filter: drop-shadow(0px 1px 2px rgba(0, 0, 0, 0.3));\n",
              "      fill: #FFFFFF;\n",
              "    }\n",
              "  </style>\n",
              "\n",
              "      <script>\n",
              "        const buttonEl =\n",
              "          document.querySelector('#df-02ff2c01-fcad-422d-9e69-7cf4a7ae3b7f button.colab-df-convert');\n",
              "        buttonEl.style.display =\n",
              "          google.colab.kernel.accessAllowed ? 'block' : 'none';\n",
              "\n",
              "        async function convertToInteractive(key) {\n",
              "          const element = document.querySelector('#df-02ff2c01-fcad-422d-9e69-7cf4a7ae3b7f');\n",
              "          const dataTable =\n",
              "            await google.colab.kernel.invokeFunction('convertToInteractive',\n",
              "                                                     [key], {});\n",
              "          if (!dataTable) return;\n",
              "\n",
              "          const docLinkHtml = 'Like what you see? Visit the ' +\n",
              "            '<a target=\"_blank\" href=https://colab.research.google.com/notebooks/data_table.ipynb>data table notebook</a>'\n",
              "            + ' to learn more about interactive tables.';\n",
              "          element.innerHTML = '';\n",
              "          dataTable['output_type'] = 'display_data';\n",
              "          await google.colab.output.renderOutput(dataTable, element);\n",
              "          const docLink = document.createElement('div');\n",
              "          docLink.innerHTML = docLinkHtml;\n",
              "          element.appendChild(docLink);\n",
              "        }\n",
              "      </script>\n",
              "    </div>\n",
              "  </div>\n",
              "  "
            ]
          },
          "metadata": {},
          "execution_count": 85
        }
      ]
    },
    {
      "cell_type": "code",
      "source": [
        "#HACER CONTEO DE LA CANTIDAD REFERENCIADA POR CANDIDATO O PARTIDO\n",
        "counter=collections.Counter(Resultados_PV['mencion'])\n",
        "counter"
      ],
      "metadata": {
        "colab": {
          "base_uri": "https://localhost:8080/"
        },
        "id": "KwBl9HPd-2sc",
        "outputId": "e287118c-1779-49e4-938c-9c06e4f97082"
      },
      "execution_count": null,
      "outputs": [
        {
          "output_type": "execute_result",
          "data": {
            "text/plain": [
              "Counter({'@Ollanta_HumalaT': 251,\n",
              "         '@vozdelatierra': 135,\n",
              "         '@julioguzmanperu': 424,\n",
              "         '@rafaelsantosn': 72,\n",
              "         '@George_Forsyth': 218,\n",
              "         '@yonhy_lescano': 189,\n",
              "         '@HDeSotoPeru': 418,\n",
              "         '@DanielUrresti1': 377,\n",
              "         '@Vero_Mendoza_F': 506,\n",
              "         '@BeingoleaA': 339,\n",
              "         '@KeikoFujimori': 271,\n",
              "         '@rlopezaliaga1': 798,\n",
              "         '@dsalaverryv': 229,\n",
              "         '@PedroCastilloTe': 6,\n",
              "         '@aalacantarape': 7,\n",
              "         '@CesarAcunaP': 1025})"
            ]
          },
          "metadata": {},
          "execution_count": 86
        }
      ]
    },
    {
      "cell_type": "code",
      "source": [
        "#CONVERTIR LA CANTIDAD A PORCENTAJES\n",
        "cantidad = len(Resultados_PV['mencion'])\n",
        "for item in counter:\n",
        "  counter[item] = round((counter[item] * 100)/cantidad, 1)\n",
        "counter "
      ],
      "metadata": {
        "colab": {
          "base_uri": "https://localhost:8080/"
        },
        "id": "NP33WsDD_lAz",
        "outputId": "f554bf17-0375-4c0f-9f7d-54bfd9503943"
      },
      "execution_count": null,
      "outputs": [
        {
          "output_type": "execute_result",
          "data": {
            "text/plain": [
              "Counter({'@Ollanta_HumalaT': 4.8,\n",
              "         '@vozdelatierra': 2.6,\n",
              "         '@julioguzmanperu': 8.1,\n",
              "         '@rafaelsantosn': 1.4,\n",
              "         '@George_Forsyth': 4.1,\n",
              "         '@yonhy_lescano': 3.6,\n",
              "         '@HDeSotoPeru': 7.9,\n",
              "         '@DanielUrresti1': 7.2,\n",
              "         '@Vero_Mendoza_F': 9.6,\n",
              "         '@BeingoleaA': 6.4,\n",
              "         '@KeikoFujimori': 5.1,\n",
              "         '@rlopezaliaga1': 15.2,\n",
              "         '@dsalaverryv': 4.3,\n",
              "         '@PedroCastilloTe': 0.1,\n",
              "         '@aalacantarape': 0.1,\n",
              "         '@CesarAcunaP': 19.5})"
            ]
          },
          "metadata": {},
          "execution_count": 87
        }
      ]
    },
    {
      "cell_type": "code",
      "source": [
        "#Ordenando el diccionario\n",
        "counterOrdenado = sorted(counter.items(), key=itemgetter(1), reverse=True)\n",
        "df_pv = pd.DataFrame(counterOrdenado)\n",
        "df_pv"
      ],
      "metadata": {
        "colab": {
          "base_uri": "https://localhost:8080/",
          "height": 551
        },
        "id": "OTXNfmun_t7U",
        "outputId": "d01b4ca1-27b6-4d01-e271-ae4b096545fd"
      },
      "execution_count": null,
      "outputs": [
        {
          "output_type": "execute_result",
          "data": {
            "text/plain": [
              "                   0     1\n",
              "0       @CesarAcunaP  19.5\n",
              "1     @rlopezaliaga1  15.2\n",
              "2    @Vero_Mendoza_F   9.6\n",
              "3   @julioguzmanperu   8.1\n",
              "4       @HDeSotoPeru   7.9\n",
              "5    @DanielUrresti1   7.2\n",
              "6        @BeingoleaA   6.4\n",
              "7     @KeikoFujimori   5.1\n",
              "8   @Ollanta_HumalaT   4.8\n",
              "9       @dsalaverryv   4.3\n",
              "10   @George_Forsyth   4.1\n",
              "11    @yonhy_lescano   3.6\n",
              "12    @vozdelatierra   2.6\n",
              "13    @rafaelsantosn   1.4\n",
              "14  @PedroCastilloTe   0.1\n",
              "15    @aalacantarape   0.1"
            ],
            "text/html": [
              "\n",
              "  <div id=\"df-ce807966-c380-42f6-8159-ead1d77d059f\">\n",
              "    <div class=\"colab-df-container\">\n",
              "      <div>\n",
              "<style scoped>\n",
              "    .dataframe tbody tr th:only-of-type {\n",
              "        vertical-align: middle;\n",
              "    }\n",
              "\n",
              "    .dataframe tbody tr th {\n",
              "        vertical-align: top;\n",
              "    }\n",
              "\n",
              "    .dataframe thead th {\n",
              "        text-align: right;\n",
              "    }\n",
              "</style>\n",
              "<table border=\"1\" class=\"dataframe\">\n",
              "  <thead>\n",
              "    <tr style=\"text-align: right;\">\n",
              "      <th></th>\n",
              "      <th>0</th>\n",
              "      <th>1</th>\n",
              "    </tr>\n",
              "  </thead>\n",
              "  <tbody>\n",
              "    <tr>\n",
              "      <th>0</th>\n",
              "      <td>@CesarAcunaP</td>\n",
              "      <td>19.5</td>\n",
              "    </tr>\n",
              "    <tr>\n",
              "      <th>1</th>\n",
              "      <td>@rlopezaliaga1</td>\n",
              "      <td>15.2</td>\n",
              "    </tr>\n",
              "    <tr>\n",
              "      <th>2</th>\n",
              "      <td>@Vero_Mendoza_F</td>\n",
              "      <td>9.6</td>\n",
              "    </tr>\n",
              "    <tr>\n",
              "      <th>3</th>\n",
              "      <td>@julioguzmanperu</td>\n",
              "      <td>8.1</td>\n",
              "    </tr>\n",
              "    <tr>\n",
              "      <th>4</th>\n",
              "      <td>@HDeSotoPeru</td>\n",
              "      <td>7.9</td>\n",
              "    </tr>\n",
              "    <tr>\n",
              "      <th>5</th>\n",
              "      <td>@DanielUrresti1</td>\n",
              "      <td>7.2</td>\n",
              "    </tr>\n",
              "    <tr>\n",
              "      <th>6</th>\n",
              "      <td>@BeingoleaA</td>\n",
              "      <td>6.4</td>\n",
              "    </tr>\n",
              "    <tr>\n",
              "      <th>7</th>\n",
              "      <td>@KeikoFujimori</td>\n",
              "      <td>5.1</td>\n",
              "    </tr>\n",
              "    <tr>\n",
              "      <th>8</th>\n",
              "      <td>@Ollanta_HumalaT</td>\n",
              "      <td>4.8</td>\n",
              "    </tr>\n",
              "    <tr>\n",
              "      <th>9</th>\n",
              "      <td>@dsalaverryv</td>\n",
              "      <td>4.3</td>\n",
              "    </tr>\n",
              "    <tr>\n",
              "      <th>10</th>\n",
              "      <td>@George_Forsyth</td>\n",
              "      <td>4.1</td>\n",
              "    </tr>\n",
              "    <tr>\n",
              "      <th>11</th>\n",
              "      <td>@yonhy_lescano</td>\n",
              "      <td>3.6</td>\n",
              "    </tr>\n",
              "    <tr>\n",
              "      <th>12</th>\n",
              "      <td>@vozdelatierra</td>\n",
              "      <td>2.6</td>\n",
              "    </tr>\n",
              "    <tr>\n",
              "      <th>13</th>\n",
              "      <td>@rafaelsantosn</td>\n",
              "      <td>1.4</td>\n",
              "    </tr>\n",
              "    <tr>\n",
              "      <th>14</th>\n",
              "      <td>@PedroCastilloTe</td>\n",
              "      <td>0.1</td>\n",
              "    </tr>\n",
              "    <tr>\n",
              "      <th>15</th>\n",
              "      <td>@aalacantarape</td>\n",
              "      <td>0.1</td>\n",
              "    </tr>\n",
              "  </tbody>\n",
              "</table>\n",
              "</div>\n",
              "      <button class=\"colab-df-convert\" onclick=\"convertToInteractive('df-ce807966-c380-42f6-8159-ead1d77d059f')\"\n",
              "              title=\"Convert this dataframe to an interactive table.\"\n",
              "              style=\"display:none;\">\n",
              "        \n",
              "  <svg xmlns=\"http://www.w3.org/2000/svg\" height=\"24px\"viewBox=\"0 0 24 24\"\n",
              "       width=\"24px\">\n",
              "    <path d=\"M0 0h24v24H0V0z\" fill=\"none\"/>\n",
              "    <path d=\"M18.56 5.44l.94 2.06.94-2.06 2.06-.94-2.06-.94-.94-2.06-.94 2.06-2.06.94zm-11 1L8.5 8.5l.94-2.06 2.06-.94-2.06-.94L8.5 2.5l-.94 2.06-2.06.94zm10 10l.94 2.06.94-2.06 2.06-.94-2.06-.94-.94-2.06-.94 2.06-2.06.94z\"/><path d=\"M17.41 7.96l-1.37-1.37c-.4-.4-.92-.59-1.43-.59-.52 0-1.04.2-1.43.59L10.3 9.45l-7.72 7.72c-.78.78-.78 2.05 0 2.83L4 21.41c.39.39.9.59 1.41.59.51 0 1.02-.2 1.41-.59l7.78-7.78 2.81-2.81c.8-.78.8-2.07 0-2.86zM5.41 20L4 18.59l7.72-7.72 1.47 1.35L5.41 20z\"/>\n",
              "  </svg>\n",
              "      </button>\n",
              "      \n",
              "  <style>\n",
              "    .colab-df-container {\n",
              "      display:flex;\n",
              "      flex-wrap:wrap;\n",
              "      gap: 12px;\n",
              "    }\n",
              "\n",
              "    .colab-df-convert {\n",
              "      background-color: #E8F0FE;\n",
              "      border: none;\n",
              "      border-radius: 50%;\n",
              "      cursor: pointer;\n",
              "      display: none;\n",
              "      fill: #1967D2;\n",
              "      height: 32px;\n",
              "      padding: 0 0 0 0;\n",
              "      width: 32px;\n",
              "    }\n",
              "\n",
              "    .colab-df-convert:hover {\n",
              "      background-color: #E2EBFA;\n",
              "      box-shadow: 0px 1px 2px rgba(60, 64, 67, 0.3), 0px 1px 3px 1px rgba(60, 64, 67, 0.15);\n",
              "      fill: #174EA6;\n",
              "    }\n",
              "\n",
              "    [theme=dark] .colab-df-convert {\n",
              "      background-color: #3B4455;\n",
              "      fill: #D2E3FC;\n",
              "    }\n",
              "\n",
              "    [theme=dark] .colab-df-convert:hover {\n",
              "      background-color: #434B5C;\n",
              "      box-shadow: 0px 1px 3px 1px rgba(0, 0, 0, 0.15);\n",
              "      filter: drop-shadow(0px 1px 2px rgba(0, 0, 0, 0.3));\n",
              "      fill: #FFFFFF;\n",
              "    }\n",
              "  </style>\n",
              "\n",
              "      <script>\n",
              "        const buttonEl =\n",
              "          document.querySelector('#df-ce807966-c380-42f6-8159-ead1d77d059f button.colab-df-convert');\n",
              "        buttonEl.style.display =\n",
              "          google.colab.kernel.accessAllowed ? 'block' : 'none';\n",
              "\n",
              "        async function convertToInteractive(key) {\n",
              "          const element = document.querySelector('#df-ce807966-c380-42f6-8159-ead1d77d059f');\n",
              "          const dataTable =\n",
              "            await google.colab.kernel.invokeFunction('convertToInteractive',\n",
              "                                                     [key], {});\n",
              "          if (!dataTable) return;\n",
              "\n",
              "          const docLinkHtml = 'Like what you see? Visit the ' +\n",
              "            '<a target=\"_blank\" href=https://colab.research.google.com/notebooks/data_table.ipynb>data table notebook</a>'\n",
              "            + ' to learn more about interactive tables.';\n",
              "          element.innerHTML = '';\n",
              "          dataTable['output_type'] = 'display_data';\n",
              "          await google.colab.output.renderOutput(dataTable, element);\n",
              "          const docLink = document.createElement('div');\n",
              "          docLink.innerHTML = docLinkHtml;\n",
              "          element.appendChild(docLink);\n",
              "        }\n",
              "      </script>\n",
              "    </div>\n",
              "  </div>\n",
              "  "
            ]
          },
          "metadata": {},
          "execution_count": 88
        }
      ]
    },
    {
      "cell_type": "code",
      "source": [
        "#PARA EL CASO DE CUENTAS POR PARTIDO\n",
        "mostrarGraficoBarras(df_pv, 10, 25,'Menciones Positivas Primera Vuelta','Candidato Político', 'Porcentaje')"
      ],
      "metadata": {
        "colab": {
          "base_uri": "https://localhost:8080/",
          "height": 466
        },
        "id": "0DNtpGrMAZSo",
        "outputId": "8c6019ab-1131-4896-ddb6-721e2d6dd97c"
      },
      "execution_count": null,
      "outputs": [
        {
          "output_type": "display_data",
          "data": {
            "text/plain": [
              "<Figure size 1800x720 with 1 Axes>"
            ],
            "image/png": "[encoded data removed]"
          },
          "metadata": {
            "needs_background": "light"
          }
        }
      ]
    },
    {
      "cell_type": "markdown",
      "source": [
        "###5.2 Segunda Vuelta"
      ],
      "metadata": {
        "id": "HNvr5kkzBtV5"
      }
    },
    {
      "cell_type": "code",
      "source": [
        "#Usamos solo los tuits positivos\n",
        "Resultados_SV = df_elecciones_pred_sv.loc[(df_elecciones_pred_sv.sentiment_pred == 'POS')]\n",
        "Resultados_SV.reset_index(drop = True, inplace = True)"
      ],
      "metadata": {
        "id": "pbkdMcgh6ylw"
      },
      "execution_count": null,
      "outputs": []
    },
    {
      "cell_type": "code",
      "source": [
        "Resultados_SV"
      ],
      "metadata": {
        "colab": {
          "base_uri": "https://localhost:8080/",
          "height": 424
        },
        "id": "dlLojlNiAUrR",
        "outputId": "068deb9e-e799-47d8-84e8-63f89f5e0b21"
      },
      "execution_count": null,
      "outputs": [
        {
          "output_type": "execute_result",
          "data": {
            "text/plain": [
              "                                                content           mencion  \\\n",
              "0     comunista {emoji_neu} {emoji_neu} {emoji_neu} ...    @KeikoFujimori   \n",
              "1     discurso hablariar brote xenofobio sufrido tan...    @KeikoFujimori   \n",
              "2                bienvenido ambos luchar por democracia    @KeikoFujimori   \n",
              "3     por favor pedir compartar información publico ...    @KeikoFujimori   \n",
              "4     ayyy doña luz penar por usted perú no merecer ...    @KeikoFujimori   \n",
              "...                                                 ...               ...   \n",
              "1490  sumamente desesperado por lado dar él campaña ...  @PedroCastilloTe   \n",
              "1491  hola acabar encontrar publicidad engañoso algu...  @PedroCastilloTe   \n",
              "1492              exacto partido % terrorista vinculado    @KeikoFujimori   \n",
              "1493  pensar riesgo necesitar no volver yo fanático ...  @PedroCastilloTe   \n",
              "1494                            {emoji_pos} {emoji_pos}    @KeikoFujimori   \n",
              "\n",
              "     sentiment_pred  \n",
              "0               POS  \n",
              "1               POS  \n",
              "2               POS  \n",
              "3               POS  \n",
              "4               POS  \n",
              "...             ...  \n",
              "1490            POS  \n",
              "1491            POS  \n",
              "1492            POS  \n",
              "1493            POS  \n",
              "1494            POS  \n",
              "\n",
              "[1495 rows x 3 columns]"
            ],
            "text/html": [
              "\n",
              "  <div id=\"df-52b076b2-5f35-4c53-ac11-add1e6c6057d\">\n",
              "    <div class=\"colab-df-container\">\n",
              "      <div>\n",
              "<style scoped>\n",
              "    .dataframe tbody tr th:only-of-type {\n",
              "        vertical-align: middle;\n",
              "    }\n",
              "\n",
              "    .dataframe tbody tr th {\n",
              "        vertical-align: top;\n",
              "    }\n",
              "\n",
              "    .dataframe thead th {\n",
              "        text-align: right;\n",
              "    }\n",
              "</style>\n",
              "<table border=\"1\" class=\"dataframe\">\n",
              "  <thead>\n",
              "    <tr style=\"text-align: right;\">\n",
              "      <th></th>\n",
              "      <th>content</th>\n",
              "      <th>mencion</th>\n",
              "      <th>sentiment_pred</th>\n",
              "    </tr>\n",
              "  </thead>\n",
              "  <tbody>\n",
              "    <tr>\n",
              "      <th>0</th>\n",
              "      <td>comunista {emoji_neu} {emoji_neu} {emoji_neu} ...</td>\n",
              "      <td>@KeikoFujimori</td>\n",
              "      <td>POS</td>\n",
              "    </tr>\n",
              "    <tr>\n",
              "      <th>1</th>\n",
              "      <td>discurso hablariar brote xenofobio sufrido tan...</td>\n",
              "      <td>@KeikoFujimori</td>\n",
              "      <td>POS</td>\n",
              "    </tr>\n",
              "    <tr>\n",
              "      <th>2</th>\n",
              "      <td>bienvenido ambos luchar por democracia</td>\n",
              "      <td>@KeikoFujimori</td>\n",
              "      <td>POS</td>\n",
              "    </tr>\n",
              "    <tr>\n",
              "      <th>3</th>\n",
              "      <td>por favor pedir compartar información publico ...</td>\n",
              "      <td>@KeikoFujimori</td>\n",
              "      <td>POS</td>\n",
              "    </tr>\n",
              "    <tr>\n",
              "      <th>4</th>\n",
              "      <td>ayyy doña luz penar por usted perú no merecer ...</td>\n",
              "      <td>@KeikoFujimori</td>\n",
              "      <td>POS</td>\n",
              "    </tr>\n",
              "    <tr>\n",
              "      <th>...</th>\n",
              "      <td>...</td>\n",
              "      <td>...</td>\n",
              "      <td>...</td>\n",
              "    </tr>\n",
              "    <tr>\n",
              "      <th>1490</th>\n",
              "      <td>sumamente desesperado por lado dar él campaña ...</td>\n",
              "      <td>@PedroCastilloTe</td>\n",
              "      <td>POS</td>\n",
              "    </tr>\n",
              "    <tr>\n",
              "      <th>1491</th>\n",
              "      <td>hola acabar encontrar publicidad engañoso algu...</td>\n",
              "      <td>@PedroCastilloTe</td>\n",
              "      <td>POS</td>\n",
              "    </tr>\n",
              "    <tr>\n",
              "      <th>1492</th>\n",
              "      <td>exacto partido % terrorista vinculado</td>\n",
              "      <td>@KeikoFujimori</td>\n",
              "      <td>POS</td>\n",
              "    </tr>\n",
              "    <tr>\n",
              "      <th>1493</th>\n",
              "      <td>pensar riesgo necesitar no volver yo fanático ...</td>\n",
              "      <td>@PedroCastilloTe</td>\n",
              "      <td>POS</td>\n",
              "    </tr>\n",
              "    <tr>\n",
              "      <th>1494</th>\n",
              "      <td>{emoji_pos} {emoji_pos}</td>\n",
              "      <td>@KeikoFujimori</td>\n",
              "      <td>POS</td>\n",
              "    </tr>\n",
              "  </tbody>\n",
              "</table>\n",
              "<p>1495 rows × 3 columns</p>\n",
              "</div>\n",
              "      <button class=\"colab-df-convert\" onclick=\"convertToInteractive('df-52b076b2-5f35-4c53-ac11-add1e6c6057d')\"\n",
              "              title=\"Convert this dataframe to an interactive table.\"\n",
              "              style=\"display:none;\">\n",
              "        \n",
              "  <svg xmlns=\"http://www.w3.org/2000/svg\" height=\"24px\"viewBox=\"0 0 24 24\"\n",
              "       width=\"24px\">\n",
              "    <path d=\"M0 0h24v24H0V0z\" fill=\"none\"/>\n",
              "    <path d=\"M18.56 5.44l.94 2.06.94-2.06 2.06-.94-2.06-.94-.94-2.06-.94 2.06-2.06.94zm-11 1L8.5 8.5l.94-2.06 2.06-.94-2.06-.94L8.5 2.5l-.94 2.06-2.06.94zm10 10l.94 2.06.94-2.06 2.06-.94-2.06-.94-.94-2.06-.94 2.06-2.06.94z\"/><path d=\"M17.41 7.96l-1.37-1.37c-.4-.4-.92-.59-1.43-.59-.52 0-1.04.2-1.43.59L10.3 9.45l-7.72 7.72c-.78.78-.78 2.05 0 2.83L4 21.41c.39.39.9.59 1.41.59.51 0 1.02-.2 1.41-.59l7.78-7.78 2.81-2.81c.8-.78.8-2.07 0-2.86zM5.41 20L4 18.59l7.72-7.72 1.47 1.35L5.41 20z\"/>\n",
              "  </svg>\n",
              "      </button>\n",
              "      \n",
              "  <style>\n",
              "    .colab-df-container {\n",
              "      display:flex;\n",
              "      flex-wrap:wrap;\n",
              "      gap: 12px;\n",
              "    }\n",
              "\n",
              "    .colab-df-convert {\n",
              "      background-color: #E8F0FE;\n",
              "      border: none;\n",
              "      border-radius: 50%;\n",
              "      cursor: pointer;\n",
              "      display: none;\n",
              "      fill: #1967D2;\n",
              "      height: 32px;\n",
              "      padding: 0 0 0 0;\n",
              "      width: 32px;\n",
              "    }\n",
              "\n",
              "    .colab-df-convert:hover {\n",
              "      background-color: #E2EBFA;\n",
              "      box-shadow: 0px 1px 2px rgba(60, 64, 67, 0.3), 0px 1px 3px 1px rgba(60, 64, 67, 0.15);\n",
              "      fill: #174EA6;\n",
              "    }\n",
              "\n",
              "    [theme=dark] .colab-df-convert {\n",
              "      background-color: #3B4455;\n",
              "      fill: #D2E3FC;\n",
              "    }\n",
              "\n",
              "    [theme=dark] .colab-df-convert:hover {\n",
              "      background-color: #434B5C;\n",
              "      box-shadow: 0px 1px 3px 1px rgba(0, 0, 0, 0.15);\n",
              "      filter: drop-shadow(0px 1px 2px rgba(0, 0, 0, 0.3));\n",
              "      fill: #FFFFFF;\n",
              "    }\n",
              "  </style>\n",
              "\n",
              "      <script>\n",
              "        const buttonEl =\n",
              "          document.querySelector('#df-52b076b2-5f35-4c53-ac11-add1e6c6057d button.colab-df-convert');\n",
              "        buttonEl.style.display =\n",
              "          google.colab.kernel.accessAllowed ? 'block' : 'none';\n",
              "\n",
              "        async function convertToInteractive(key) {\n",
              "          const element = document.querySelector('#df-52b076b2-5f35-4c53-ac11-add1e6c6057d');\n",
              "          const dataTable =\n",
              "            await google.colab.kernel.invokeFunction('convertToInteractive',\n",
              "                                                     [key], {});\n",
              "          if (!dataTable) return;\n",
              "\n",
              "          const docLinkHtml = 'Like what you see? Visit the ' +\n",
              "            '<a target=\"_blank\" href=https://colab.research.google.com/notebooks/data_table.ipynb>data table notebook</a>'\n",
              "            + ' to learn more about interactive tables.';\n",
              "          element.innerHTML = '';\n",
              "          dataTable['output_type'] = 'display_data';\n",
              "          await google.colab.output.renderOutput(dataTable, element);\n",
              "          const docLink = document.createElement('div');\n",
              "          docLink.innerHTML = docLinkHtml;\n",
              "          element.appendChild(docLink);\n",
              "        }\n",
              "      </script>\n",
              "    </div>\n",
              "  </div>\n",
              "  "
            ]
          },
          "metadata": {},
          "execution_count": 88
        }
      ]
    },
    {
      "cell_type": "code",
      "source": [
        "Resultados_SV.head()"
      ],
      "metadata": {
        "colab": {
          "base_uri": "https://localhost:8080/",
          "height": 206
        },
        "id": "fi_a49VVB1bZ",
        "outputId": "932f0743-7315-426e-87ee-75402a3740e5"
      },
      "execution_count": null,
      "outputs": [
        {
          "output_type": "execute_result",
          "data": {
            "text/plain": [
              "                                             content         mencion  \\\n",
              "0  comunista {emoji_neu} {emoji_neu} {emoji_neu} ...  @KeikoFujimori   \n",
              "1  discurso hablariar brote xenofobio sufrido tan...  @KeikoFujimori   \n",
              "2             bienvenido ambos luchar por democracia  @KeikoFujimori   \n",
              "3  ayyy doña luz penar por usted perú no merecer ...  @KeikoFujimori   \n",
              "4  mal keiko actitud perdiste varios voto {emoji_...  @KeikoFujimori   \n",
              "\n",
              "  sentiment_pred  \n",
              "0            POS  \n",
              "1            POS  \n",
              "2            POS  \n",
              "3            POS  \n",
              "4            POS  "
            ],
            "text/html": [
              "\n",
              "  <div id=\"df-e1ff67b2-bf6d-4ec9-9cb8-a3df1dc25929\">\n",
              "    <div class=\"colab-df-container\">\n",
              "      <div>\n",
              "<style scoped>\n",
              "    .dataframe tbody tr th:only-of-type {\n",
              "        vertical-align: middle;\n",
              "    }\n",
              "\n",
              "    .dataframe tbody tr th {\n",
              "        vertical-align: top;\n",
              "    }\n",
              "\n",
              "    .dataframe thead th {\n",
              "        text-align: right;\n",
              "    }\n",
              "</style>\n",
              "<table border=\"1\" class=\"dataframe\">\n",
              "  <thead>\n",
              "    <tr style=\"text-align: right;\">\n",
              "      <th></th>\n",
              "      <th>content</th>\n",
              "      <th>mencion</th>\n",
              "      <th>sentiment_pred</th>\n",
              "    </tr>\n",
              "  </thead>\n",
              "  <tbody>\n",
              "    <tr>\n",
              "      <th>0</th>\n",
              "      <td>comunista {emoji_neu} {emoji_neu} {emoji_neu} ...</td>\n",
              "      <td>@KeikoFujimori</td>\n",
              "      <td>POS</td>\n",
              "    </tr>\n",
              "    <tr>\n",
              "      <th>1</th>\n",
              "      <td>discurso hablariar brote xenofobio sufrido tan...</td>\n",
              "      <td>@KeikoFujimori</td>\n",
              "      <td>POS</td>\n",
              "    </tr>\n",
              "    <tr>\n",
              "      <th>2</th>\n",
              "      <td>bienvenido ambos luchar por democracia</td>\n",
              "      <td>@KeikoFujimori</td>\n",
              "      <td>POS</td>\n",
              "    </tr>\n",
              "    <tr>\n",
              "      <th>3</th>\n",
              "      <td>ayyy doña luz penar por usted perú no merecer ...</td>\n",
              "      <td>@KeikoFujimori</td>\n",
              "      <td>POS</td>\n",
              "    </tr>\n",
              "    <tr>\n",
              "      <th>4</th>\n",
              "      <td>mal keiko actitud perdiste varios voto {emoji_...</td>\n",
              "      <td>@KeikoFujimori</td>\n",
              "      <td>POS</td>\n",
              "    </tr>\n",
              "  </tbody>\n",
              "</table>\n",
              "</div>\n",
              "      <button class=\"colab-df-convert\" onclick=\"convertToInteractive('df-e1ff67b2-bf6d-4ec9-9cb8-a3df1dc25929')\"\n",
              "              title=\"Convert this dataframe to an interactive table.\"\n",
              "              style=\"display:none;\">\n",
              "        \n",
              "  <svg xmlns=\"http://www.w3.org/2000/svg\" height=\"24px\"viewBox=\"0 0 24 24\"\n",
              "       width=\"24px\">\n",
              "    <path d=\"M0 0h24v24H0V0z\" fill=\"none\"/>\n",
              "    <path d=\"M18.56 5.44l.94 2.06.94-2.06 2.06-.94-2.06-.94-.94-2.06-.94 2.06-2.06.94zm-11 1L8.5 8.5l.94-2.06 2.06-.94-2.06-.94L8.5 2.5l-.94 2.06-2.06.94zm10 10l.94 2.06.94-2.06 2.06-.94-2.06-.94-.94-2.06-.94 2.06-2.06.94z\"/><path d=\"M17.41 7.96l-1.37-1.37c-.4-.4-.92-.59-1.43-.59-.52 0-1.04.2-1.43.59L10.3 9.45l-7.72 7.72c-.78.78-.78 2.05 0 2.83L4 21.41c.39.39.9.59 1.41.59.51 0 1.02-.2 1.41-.59l7.78-7.78 2.81-2.81c.8-.78.8-2.07 0-2.86zM5.41 20L4 18.59l7.72-7.72 1.47 1.35L5.41 20z\"/>\n",
              "  </svg>\n",
              "      </button>\n",
              "      \n",
              "  <style>\n",
              "    .colab-df-container {\n",
              "      display:flex;\n",
              "      flex-wrap:wrap;\n",
              "      gap: 12px;\n",
              "    }\n",
              "\n",
              "    .colab-df-convert {\n",
              "      background-color: #E8F0FE;\n",
              "      border: none;\n",
              "      border-radius: 50%;\n",
              "      cursor: pointer;\n",
              "      display: none;\n",
              "      fill: #1967D2;\n",
              "      height: 32px;\n",
              "      padding: 0 0 0 0;\n",
              "      width: 32px;\n",
              "    }\n",
              "\n",
              "    .colab-df-convert:hover {\n",
              "      background-color: #E2EBFA;\n",
              "      box-shadow: 0px 1px 2px rgba(60, 64, 67, 0.3), 0px 1px 3px 1px rgba(60, 64, 67, 0.15);\n",
              "      fill: #174EA6;\n",
              "    }\n",
              "\n",
              "    [theme=dark] .colab-df-convert {\n",
              "      background-color: #3B4455;\n",
              "      fill: #D2E3FC;\n",
              "    }\n",
              "\n",
              "    [theme=dark] .colab-df-convert:hover {\n",
              "      background-color: #434B5C;\n",
              "      box-shadow: 0px 1px 3px 1px rgba(0, 0, 0, 0.15);\n",
              "      filter: drop-shadow(0px 1px 2px rgba(0, 0, 0, 0.3));\n",
              "      fill: #FFFFFF;\n",
              "    }\n",
              "  </style>\n",
              "\n",
              "      <script>\n",
              "        const buttonEl =\n",
              "          document.querySelector('#df-e1ff67b2-bf6d-4ec9-9cb8-a3df1dc25929 button.colab-df-convert');\n",
              "        buttonEl.style.display =\n",
              "          google.colab.kernel.accessAllowed ? 'block' : 'none';\n",
              "\n",
              "        async function convertToInteractive(key) {\n",
              "          const element = document.querySelector('#df-e1ff67b2-bf6d-4ec9-9cb8-a3df1dc25929');\n",
              "          const dataTable =\n",
              "            await google.colab.kernel.invokeFunction('convertToInteractive',\n",
              "                                                     [key], {});\n",
              "          if (!dataTable) return;\n",
              "\n",
              "          const docLinkHtml = 'Like what you see? Visit the ' +\n",
              "            '<a target=\"_blank\" href=https://colab.research.google.com/notebooks/data_table.ipynb>data table notebook</a>'\n",
              "            + ' to learn more about interactive tables.';\n",
              "          element.innerHTML = '';\n",
              "          dataTable['output_type'] = 'display_data';\n",
              "          await google.colab.output.renderOutput(dataTable, element);\n",
              "          const docLink = document.createElement('div');\n",
              "          docLink.innerHTML = docLinkHtml;\n",
              "          element.appendChild(docLink);\n",
              "        }\n",
              "      </script>\n",
              "    </div>\n",
              "  </div>\n",
              "  "
            ]
          },
          "metadata": {},
          "execution_count": 91
        }
      ]
    },
    {
      "cell_type": "code",
      "source": [
        "#HACER CONTEO DE LA CANTIDAD REFERENCIADA POR CANDIDATO O PARTIDO\n",
        "counter=collections.Counter(Resultados_SV['mencion'])\n",
        "counter"
      ],
      "metadata": {
        "colab": {
          "base_uri": "https://localhost:8080/"
        },
        "id": "B21DcCrxB4Bg",
        "outputId": "b1cd51b8-3e2d-491b-d6d8-26e9cb20e766"
      },
      "execution_count": null,
      "outputs": [
        {
          "output_type": "execute_result",
          "data": {
            "text/plain": [
              "Counter({'@KeikoFujimori': 746, '@PedroCastilloTe': 830})"
            ]
          },
          "metadata": {},
          "execution_count": 92
        }
      ]
    },
    {
      "cell_type": "code",
      "source": [
        "#CONVERTIR LA CANTIDAD A PORCENTAJES\n",
        "cantidad = len(Resultados_SV['mencion'])\n",
        "for item in counter:\n",
        "  counter[item] = round((counter[item] * 100)/cantidad, 1)\n",
        "counter "
      ],
      "metadata": {
        "colab": {
          "base_uri": "https://localhost:8080/"
        },
        "id": "gqR4A6ldB7zx",
        "outputId": "d76615a9-8d5e-4f71-a0c2-d4feac83d5ea"
      },
      "execution_count": null,
      "outputs": [
        {
          "output_type": "execute_result",
          "data": {
            "text/plain": [
              "Counter({'@KeikoFujimori': 47.3, '@PedroCastilloTe': 52.7})"
            ]
          },
          "metadata": {},
          "execution_count": 93
        }
      ]
    },
    {
      "cell_type": "code",
      "source": [
        "#Ordenando el diccionario\n",
        "counterOrdenado = sorted(counter.items(), key=itemgetter(1), reverse=True)\n",
        "df_sv = pd.DataFrame(counterOrdenado)\n",
        "df_sv"
      ],
      "metadata": {
        "colab": {
          "base_uri": "https://localhost:8080/",
          "height": 112
        },
        "id": "BfoeBkljCJXH",
        "outputId": "2d7e45f4-78e7-4503-9501-e8224046f1a7"
      },
      "execution_count": null,
      "outputs": [
        {
          "output_type": "execute_result",
          "data": {
            "text/plain": [
              "                  0     1\n",
              "0  @PedroCastilloTe  52.7\n",
              "1    @KeikoFujimori  47.3"
            ],
            "text/html": [
              "\n",
              "  <div id=\"df-fe96cfb2-7671-4696-9c17-cf32737de978\">\n",
              "    <div class=\"colab-df-container\">\n",
              "      <div>\n",
              "<style scoped>\n",
              "    .dataframe tbody tr th:only-of-type {\n",
              "        vertical-align: middle;\n",
              "    }\n",
              "\n",
              "    .dataframe tbody tr th {\n",
              "        vertical-align: top;\n",
              "    }\n",
              "\n",
              "    .dataframe thead th {\n",
              "        text-align: right;\n",
              "    }\n",
              "</style>\n",
              "<table border=\"1\" class=\"dataframe\">\n",
              "  <thead>\n",
              "    <tr style=\"text-align: right;\">\n",
              "      <th></th>\n",
              "      <th>0</th>\n",
              "      <th>1</th>\n",
              "    </tr>\n",
              "  </thead>\n",
              "  <tbody>\n",
              "    <tr>\n",
              "      <th>0</th>\n",
              "      <td>@PedroCastilloTe</td>\n",
              "      <td>52.7</td>\n",
              "    </tr>\n",
              "    <tr>\n",
              "      <th>1</th>\n",
              "      <td>@KeikoFujimori</td>\n",
              "      <td>47.3</td>\n",
              "    </tr>\n",
              "  </tbody>\n",
              "</table>\n",
              "</div>\n",
              "      <button class=\"colab-df-convert\" onclick=\"convertToInteractive('df-fe96cfb2-7671-4696-9c17-cf32737de978')\"\n",
              "              title=\"Convert this dataframe to an interactive table.\"\n",
              "              style=\"display:none;\">\n",
              "        \n",
              "  <svg xmlns=\"http://www.w3.org/2000/svg\" height=\"24px\"viewBox=\"0 0 24 24\"\n",
              "       width=\"24px\">\n",
              "    <path d=\"M0 0h24v24H0V0z\" fill=\"none\"/>\n",
              "    <path d=\"M18.56 5.44l.94 2.06.94-2.06 2.06-.94-2.06-.94-.94-2.06-.94 2.06-2.06.94zm-11 1L8.5 8.5l.94-2.06 2.06-.94-2.06-.94L8.5 2.5l-.94 2.06-2.06.94zm10 10l.94 2.06.94-2.06 2.06-.94-2.06-.94-.94-2.06-.94 2.06-2.06.94z\"/><path d=\"M17.41 7.96l-1.37-1.37c-.4-.4-.92-.59-1.43-.59-.52 0-1.04.2-1.43.59L10.3 9.45l-7.72 7.72c-.78.78-.78 2.05 0 2.83L4 21.41c.39.39.9.59 1.41.59.51 0 1.02-.2 1.41-.59l7.78-7.78 2.81-2.81c.8-.78.8-2.07 0-2.86zM5.41 20L4 18.59l7.72-7.72 1.47 1.35L5.41 20z\"/>\n",
              "  </svg>\n",
              "      </button>\n",
              "      \n",
              "  <style>\n",
              "    .colab-df-container {\n",
              "      display:flex;\n",
              "      flex-wrap:wrap;\n",
              "      gap: 12px;\n",
              "    }\n",
              "\n",
              "    .colab-df-convert {\n",
              "      background-color: #E8F0FE;\n",
              "      border: none;\n",
              "      border-radius: 50%;\n",
              "      cursor: pointer;\n",
              "      display: none;\n",
              "      fill: #1967D2;\n",
              "      height: 32px;\n",
              "      padding: 0 0 0 0;\n",
              "      width: 32px;\n",
              "    }\n",
              "\n",
              "    .colab-df-convert:hover {\n",
              "      background-color: #E2EBFA;\n",
              "      box-shadow: 0px 1px 2px rgba(60, 64, 67, 0.3), 0px 1px 3px 1px rgba(60, 64, 67, 0.15);\n",
              "      fill: #174EA6;\n",
              "    }\n",
              "\n",
              "    [theme=dark] .colab-df-convert {\n",
              "      background-color: #3B4455;\n",
              "      fill: #D2E3FC;\n",
              "    }\n",
              "\n",
              "    [theme=dark] .colab-df-convert:hover {\n",
              "      background-color: #434B5C;\n",
              "      box-shadow: 0px 1px 3px 1px rgba(0, 0, 0, 0.15);\n",
              "      filter: drop-shadow(0px 1px 2px rgba(0, 0, 0, 0.3));\n",
              "      fill: #FFFFFF;\n",
              "    }\n",
              "  </style>\n",
              "\n",
              "      <script>\n",
              "        const buttonEl =\n",
              "          document.querySelector('#df-fe96cfb2-7671-4696-9c17-cf32737de978 button.colab-df-convert');\n",
              "        buttonEl.style.display =\n",
              "          google.colab.kernel.accessAllowed ? 'block' : 'none';\n",
              "\n",
              "        async function convertToInteractive(key) {\n",
              "          const element = document.querySelector('#df-fe96cfb2-7671-4696-9c17-cf32737de978');\n",
              "          const dataTable =\n",
              "            await google.colab.kernel.invokeFunction('convertToInteractive',\n",
              "                                                     [key], {});\n",
              "          if (!dataTable) return;\n",
              "\n",
              "          const docLinkHtml = 'Like what you see? Visit the ' +\n",
              "            '<a target=\"_blank\" href=https://colab.research.google.com/notebooks/data_table.ipynb>data table notebook</a>'\n",
              "            + ' to learn more about interactive tables.';\n",
              "          element.innerHTML = '';\n",
              "          dataTable['output_type'] = 'display_data';\n",
              "          await google.colab.output.renderOutput(dataTable, element);\n",
              "          const docLink = document.createElement('div');\n",
              "          docLink.innerHTML = docLinkHtml;\n",
              "          element.appendChild(docLink);\n",
              "        }\n",
              "      </script>\n",
              "    </div>\n",
              "  </div>\n",
              "  "
            ]
          },
          "metadata": {},
          "execution_count": 94
        }
      ]
    },
    {
      "cell_type": "code",
      "source": [
        "#PARA EL CASO DE CUENTAS POR PARTIDO\n",
        "mostrarGraficoBarras(df_sv, 10, 25,'Menciones Positivas Segunda Vuelta','Candidato Político', 'Porcentaje')"
      ],
      "metadata": {
        "colab": {
          "base_uri": "https://localhost:8080/",
          "height": 469
        },
        "id": "foMcuMwPCMLD",
        "outputId": "a000632f-97d7-4655-fe00-f275c967d5ee"
      },
      "execution_count": null,
      "outputs": [
        {
          "output_type": "display_data",
          "data": {
            "text/plain": [
              "<Figure size 1800x720 with 1 Axes>"
            ],
            "image/png": "[encoded data removed]"
          },
          "metadata": {
            "needs_background": "light"
          }
        }
      ]
    },
    {
      "cell_type": "markdown",
      "source": [
        "##6. Medidas de error"
      ],
      "metadata": {
        "id": "bCNL476i2qw-"
      }
    },
    {
      "cell_type": "markdown",
      "source": [
        "###6.1 RMSE"
      ],
      "metadata": {
        "id": "XNMufz6e2zZv"
      }
    },
    {
      "cell_type": "code",
      "source": [
        "from sklearn.metrics import mean_squared_error\n",
        "from sklearn.metrics import mean_absolute_error"
      ],
      "metadata": {
        "id": "NlL14Pd52pB0"
      },
      "execution_count": null,
      "outputs": []
    },
    {
      "cell_type": "markdown",
      "source": [
        "Usando el valor promedio de las encuestadoras"
      ],
      "metadata": {
        "id": "plDG1YSRuavr"
      }
    },
    {
      "cell_type": "code",
      "source": [
        "#UTILIZANDO EL PROMEDIO\n",
        "#['Accion Popular', 'Victoria Nacional', 'Fuerza Popular', 'Renovacion Popular', 'Juntos por el Perú', 'Avanza Pais', 'Perú Libre']\n",
        "y_onpe_pv          = [9.071, 5.656, 13.407, 11.751, 7.865, 11.626, 18.921]#[9.092, 5.639, 13.399, 11.641, 7.805, 11.607, 19.061]\n",
        "\n",
        "y_encuestadoras_pv = [13.3, 8.9, 7.86, 7.23, 6.5, 5.26, 4]\n",
        "y_modelo_pv        = [3.6, 4.1, 5.1, 15.2, 9.6, 7.9, 0.1]\n",
        "\n",
        "#['Peru Libre', 'Fuerza Popular']\n",
        "y_onpe_sv          = [50.126, 49.874]\n",
        "y_encuestadoras_sv = [50.442, 49.558]\n",
        "y_modelo_sv        = [52.7, 47.3]\n",
        "\n",
        "#POR POSICIONES\n",
        "#['Accion Popular', 'Victoria Nacional', 'Fuerza Popular', 'Renovacion Popular', 'Juntos por el Perú', 'Avanza Pais', 'Perú Libre']\n",
        "y_onpe_pv_pos          = [5, 8, 2, 3, 6, 4, 1]\n",
        "y_encuestadoras_pv_pos = [1, 2, 3, 4, 5, 6, 7]\n",
        "y_modelo_pv_pos        = [12, 11, 7, 2, 3, 5, 15]\n",
        "\n",
        "#['Peru Libre', 'Fuerza Popular']\n",
        "y_onpe_sv_pos          = [1, 2]\n",
        "y_encuestadoras_sv_pos = [1, 2]\n",
        "y_modelo_sv_pos        = [1, 2]\n",
        "\n",
        "#PORCENTAJE\n",
        "print('PRIMERA VUELTA POR PORCENTAJE')\n",
        "print('RMSE Encuestadora: ', mean_squared_error(y_onpe_pv, y_encuestadoras_pv, squared=False))\n",
        "print('RMSE Modelo: ', mean_squared_error(y_onpe_pv, y_modelo_pv, squared=False))\n",
        "\n",
        "print('\\nSEGUNDA VUELTA POR PORCENTAJE')\n",
        "print('RMSE Encuestadora: ', mean_squared_error(y_onpe_sv, y_encuestadoras_sv, squared=False))\n",
        "print('RMSE Modelo: ', mean_squared_error(y_onpe_sv, y_modelo_sv, squared=False))\n",
        "\n",
        "#POSICION\n",
        "print('\\n\\nPRIMERA VUELTA POR POSICION')\n",
        "print('RMSE Encuestadora: ', mean_squared_error(y_onpe_pv_pos, y_encuestadoras_pv_pos, squared=False))\n",
        "print('RMSE Modelo: ', mean_squared_error(y_onpe_pv_pos, y_modelo_pv_pos, squared=False))\n",
        "\n",
        "print('\\nSEGUNDA VUELTA POR POSICION')\n",
        "print('RMSE Encuestadora: ', mean_squared_error(y_onpe_sv_pos, y_encuestadoras_sv_pos, squared=False))\n",
        "print('RMSE Modelo: ', mean_squared_error(y_onpe_sv_pos, y_modelo_sv_pos, squared=False))"
      ],
      "metadata": {
        "colab": {
          "base_uri": "https://localhost:8080/"
        },
        "id": "s59LLVwTsXGp",
        "outputId": "7ffa892f-6afa-4fca-95ac-b65f1d53620c"
      },
      "execution_count": null,
      "outputs": [
        {
          "output_type": "stream",
          "name": "stdout",
          "text": [
            "PRIMERA VUELTA POR PORCENTAJE\n",
            "RMSE Encuestadora:  7.01673559631339\n",
            "RMSE Modelo:  8.318466282056702\n",
            "\n",
            "SEGUNDA VUELTA POR PORCENTAJE\n",
            "RMSE Encuestadora:  0.3160000000000025\n",
            "RMSE Modelo:  2.574000000000005\n",
            "\n",
            "\n",
            "PRIMERA VUELTA POR POSICION\n",
            "RMSE Encuestadora:  3.6839419880650364\n",
            "RMSE Modelo:  6.436503043467892\n",
            "\n",
            "SEGUNDA VUELTA POR POSICION\n",
            "RMSE Encuestadora:  0.0\n",
            "RMSE Modelo:  0.0\n"
          ]
        }
      ]
    },
    {
      "cell_type": "code",
      "source": [
        "#UTILIZANDO EL PROMEDIO, SIN CASTILLO\n",
        "\n",
        "#['Accion Popular', 'Victoria Nacional', 'Fuerza Popular', 'Renovacion Popular', 'Juntos por el Perú', 'Avanza Pais']\n",
        "y_onpe_pv          = [9.071, 5.656, 13.407, 11.751, 7.865, 11.626]\n",
        "y_encuestadoras_pv = [13.3, 8.9, 7.86, 7.23, 6.5, 5.26]\n",
        "y_modelo_pv        = [3.6, 4.1, 5.1, 15.2, 9.6, 7.9]\n",
        "\n",
        "#POR POSICIONES\n",
        "#['Accion Popular', 'Victoria Nacional', 'Fuerza Popular', 'Renovacion Popular', 'Juntos por el Perú', 'Avanza Pais', 'Perú Libre']\n",
        "y_onpe_pv_pos          = [5, 8, 2, 3, 6, 4]\n",
        "y_encuestadoras_pv_pos = [1, 2, 3, 4, 5, 6]\n",
        "y_modelo_pv_pos        = [12, 11, 7, 2, 3, 5]\n",
        "\n",
        "#PORCENTAJE\n",
        "print('PRIMERA VUELTA POR PORCENTAJE SIN CASTILLO')\n",
        "print('RMSE Encuestadora: ', mean_squared_error(y_onpe_pv, y_encuestadoras_pv, squared=False))\n",
        "print('RMSE Modelo: ', mean_squared_error(y_onpe_pv, y_modelo_pv, squared=False))\n",
        "\n",
        "#POSICION\n",
        "print('\\nPRIMERA VUELTA POR POSICION SIN CASTILLO')\n",
        "print('RMSE Encuestadora: ', mean_squared_error(y_onpe_pv_pos, y_encuestadoras_pv_pos, squared=False))\n",
        "print('RMSE Modelo: ', mean_squared_error(y_onpe_pv_pos, y_modelo_pv_pos, squared=False))"
      ],
      "metadata": {
        "colab": {
          "base_uri": "https://localhost:8080/"
        },
        "id": "jXZhyMaksTwL",
        "outputId": "c75b9bb4-5fd9-4b9a-8b50-bbf8d877bc90"
      },
      "execution_count": null,
      "outputs": [
        {
          "output_type": "stream",
          "name": "stdout",
          "text": [
            "PRIMERA VUELTA POR PORCENTAJE SIN CASTILLO\n",
            "RMSE Encuestadora:  4.509357086474005\n",
            "RMSE Modelo:  4.6573978428588925\n",
            "\n",
            "PRIMERA VUELTA POR POSICION SIN CASTILLO\n",
            "RMSE Encuestadora:  3.13581462037113\n",
            "RMSE Modelo:  3.958114029012639\n"
          ]
        }
      ]
    },
    {
      "cell_type": "markdown",
      "source": [
        "Calculando el error por cada encuestadora"
      ],
      "metadata": {
        "id": "s1GR7b-MuiOc"
      }
    },
    {
      "cell_type": "code",
      "source": [
        "print('PRIMERA VUELTA POR CADA ENCUESTADORA\\n\\n')\n",
        "#Según porcentaje\n",
        "print('Según Porcentaje\\n')\n",
        "#['Lescano', 'Forsyth', 'Keiko', 'Rafael', 'Veronika', 'Soto', 'Acuña']\n",
        "y_onpe_pv          = [9.071, 5.656, 13.407, 11.751, 7.865, 11.626, 6.021]\n",
        "y_cit_pv           = [9.4,8.2,7.7,13.4,6.1,10.2,6.1]\n",
        "y_modelo_pv        = [3.6, 4.1, 5.1, 15.2, 9.6, 7.9, 19.5]\n",
        "print('RMSE CIT: ', mean_squared_error(y_onpe_pv, y_cit_pv, squared=False))\n",
        "print('RMSE Modelo: ', mean_squared_error(y_onpe_pv, y_modelo_pv, squared=False))\n",
        "\n",
        "#['Lescano', 'Forsyth', 'Keiko', 'Rafael', 'Veronika', 'Soto', 'Castillo']\n",
        "y_onpe_pv          = [9.071, 5.656, 13.407, 11.751, 7.865, 11.626, 18.921]\n",
        "y_cpi_pv           = [11.0, 8.1, 7.1, 5.2, 5.4, 4.5, 4.3]\n",
        "y_modelo_pv        = [3.6, 4.1, 5.1, 15.2, 9.6, 7.9, 0.1]\n",
        "print('\\nRMSE CPI: ', mean_squared_error(y_onpe_pv, y_cpi_pv, squared=False))\n",
        "print('RMSE Modelo: ', mean_squared_error(y_onpe_pv, y_modelo_pv, squared=False))\n",
        "\n",
        "#['Lescano', 'Forsyth', 'Keiko', 'Rafael', 'Veronika', 'Soto', 'Castillo']\n",
        "y_onpe_pv          = [9.071, 5.656, 13.407, 11.751, 7.865, 11.626, 18.921]\n",
        "y_datum_pv           = [12.1, 7.4, 7.9, 7.2, 5.7, 6.5, 3.7]\n",
        "y_modelo_pv        = [3.6, 4.1, 5.1, 15.2, 9.6, 7.9, 0.1]\n",
        "print('\\nRMSE DATUM: ', mean_squared_error(y_onpe_pv, y_datum_pv, squared=False))\n",
        "print('RMSE Modelo: ', mean_squared_error(y_onpe_pv, y_modelo_pv, squared=False))\n",
        "\n",
        "#['Lescano', 'Forsyth', 'Keiko', 'Rafael', 'Veronika', 'Soto']\n",
        "y_onpe_pv          = [9.071, 5.656, 13.407, 11.751, 7.865, 11.626]\n",
        "y_ipsos_pv           = [16.8, 11.2, 8.6, 9.3, 8.4, 4.8]\n",
        "y_modelo_pv        = [3.6, 4.1, 5.1, 15.2, 9.6, 7.9]\n",
        "print('\\nRMSE IPSOS: ', mean_squared_error(y_onpe_pv, y_ipsos_pv, squared=False))\n",
        "print('RMSE Modelo: ', mean_squared_error(y_onpe_pv, y_modelo_pv, squared=False))\n",
        "\n",
        "\n",
        "\n",
        "print('\\n\\nSegún Posición\\n')\n",
        "#['Lescano', 'Forsyth', 'Keiko', 'Rafael', 'Veronika', 'Soto']\n",
        "y_onpe_pv          = [5, 8, 2, 3, 6, 4]\n",
        "y_cit_pv           = [3,4,5,1,7,2]\n",
        "y_modelo_pv        = [12, 11, 7, 2, 3, 5]\n",
        "print('RMSE CIT: ', mean_squared_error(y_onpe_pv, y_cit_pv, squared=False))\n",
        "print('RMSE Modelo: ', mean_squared_error(y_onpe_pv, y_modelo_pv, squared=False))\n",
        "\n",
        "#['Lescano', 'Forsyth', 'Keiko', 'Rafael', 'Veronika', 'Soto', 'Castillo']\n",
        "y_onpe_pv          = [5, 8, 2, 3, 6, 4, 1]\n",
        "y_cpi_pv           = [1,2,3,5,4,6,7]\n",
        "y_modelo_pv        = [12, 11, 7, 2, 3, 5,15]\n",
        "print('\\nRMSE CPI: ', mean_squared_error(y_onpe_pv, y_cpi_pv, squared=False))\n",
        "print('RMSE Modelo: ', mean_squared_error(y_onpe_pv, y_modelo_pv, squared=False))\n",
        "\n",
        "#['Lescano', 'Forsyth', 'Keiko', 'Rafael', 'Veronika', 'Soto', 'Castillo']\n",
        "y_onpe_pv          = [5, 8, 2, 3, 6, 4, 1]\n",
        "y_datum_pv         = [1,3,2,4,6,5, 7]\n",
        "y_modelo_pv        = [12, 11, 7, 2, 3, 5,15]\n",
        "print('\\nRMSE DATUM: ', mean_squared_error(y_onpe_pv, y_datum_pv, squared=False))\n",
        "print('RMSE Modelo: ', mean_squared_error(y_onpe_pv, y_modelo_pv, squared=False))\n",
        "\n",
        "#['Lescano', 'Forsyth', 'Keiko', 'Rafael', 'Veronika', 'Soto','urresti']\n",
        "y_onpe_pv          = [5, 8, 2, 3, 6, 4, 8]\n",
        "y_ipsos_pv         = [1,2,4,3,5,7,6]\n",
        "y_modelo_pv        = [12, 11, 7, 2, 3, 5, 6]\n",
        "print('\\nRMSE IPSOS: ', mean_squared_error(y_onpe_pv, y_ipsos_pv, squared=False))\n",
        "print('RMSE Modelo: ', mean_squared_error(y_onpe_pv, y_modelo_pv, squared=False))"
      ],
      "metadata": {
        "colab": {
          "base_uri": "https://localhost:8080/"
        },
        "id": "Ml61zCsslZX1",
        "outputId": "fca5e44b-38f9-4c2f-f916-7a537738477b"
      },
      "execution_count": null,
      "outputs": [
        {
          "output_type": "stream",
          "name": "stdout",
          "text": [
            "PRIMERA VUELTA POR CADA ENCUESTADORA\n",
            "\n",
            "\n",
            "Según Porcentaje\n",
            "\n",
            "RMSE CIT:  2.591860032596558\n",
            "RMSE Modelo:  6.674381394556352\n",
            "\n",
            "RMSE CPI:  7.201366626253261\n",
            "RMSE Modelo:  8.318466282056702\n",
            "\n",
            "RMSE DATUM:  6.8232477499459785\n",
            "RMSE Modelo:  8.318466282056702\n",
            "\n",
            "RMSE IPSOS:  5.267328987890036\n",
            "RMSE Modelo:  4.6573978428588925\n",
            "\n",
            "\n",
            "Según Posición\n",
            "\n",
            "RMSE CIT:  2.516611478423583\n",
            "RMSE Modelo:  3.958114029012639\n",
            "\n",
            "RMSE CPI:  3.7984959429452374\n",
            "RMSE Modelo:  6.436503043467892\n",
            "\n",
            "RMSE DATUM:  3.359421718944242\n",
            "RMSE Modelo:  6.436503043467892\n",
            "\n",
            "RMSE IPSOS:  3.1622776601683795\n",
            "RMSE Modelo:  3.7416573867739413\n"
          ]
        }
      ]
    },
    {
      "cell_type": "code",
      "source": [
        "print('Según Posición Sin Castillo\\n')\n",
        "#['Lescano', 'Forsyth', 'Keiko', 'Rafael', 'Veronika', 'Soto']\n",
        "y_onpe_pv          = [5, 8, 2, 3, 6, 4]\n",
        "y_cit_pv           = [3,4,5,1,7,2]\n",
        "y_modelo_pv        = [12, 11, 7, 2, 3, 5]\n",
        "print('RMSE CIT: ', mean_squared_error(y_onpe_pv, y_cit_pv, squared=False))\n",
        "print('RMSE Modelo: ', mean_squared_error(y_onpe_pv, y_modelo_pv, squared=False))\n",
        "\n",
        "#['Lescano', 'Forsyth', 'Keiko', 'Rafael', 'Veronika', 'Soto']\n",
        "y_onpe_pv          = [5, 8, 2, 3, 6, 4]\n",
        "y_cpi_pv           = [1,2,3,5,4,6]\n",
        "y_modelo_pv        = [12, 11, 7, 2, 3, 5]\n",
        "print('\\nRMSE CPI: ', mean_squared_error(y_onpe_pv, y_cpi_pv, squared=False))\n",
        "print('RMSE Modelo: ', mean_squared_error(y_onpe_pv, y_modelo_pv, squared=False))\n",
        "\n",
        "#['Lescano', 'Forsyth', 'Keiko', 'Rafael', 'Veronika', 'Soto', 'Castillo']\n",
        "y_onpe_pv          = [5, 8, 2, 3, 6, 4]\n",
        "y_datum_pv         = [1,3,2,4,6,5]\n",
        "y_modelo_pv        = [12, 11, 7, 2, 3, 5]\n",
        "print('\\nRMSE DATUM: ', mean_squared_error(y_onpe_pv, y_datum_pv, squared=False))\n",
        "print('RMSE Modelo: ', mean_squared_error(y_onpe_pv, y_modelo_pv, squared=False))\n",
        "\n",
        "#['Lescano', 'Forsyth', 'Keiko', 'Rafael', 'Veronika', 'Soto','urresti']\n",
        "y_onpe_pv          = [5, 8, 2, 3, 6, 4, 8]\n",
        "y_ipsos_pv         = [1,2,4,3,5,7,6]\n",
        "y_modelo_pv        = [12, 11, 7, 2, 3, 5, 6]\n",
        "print('\\nRMSE IPSOS: ', mean_squared_error(y_onpe_pv, y_ipsos_pv, squared=False))\n",
        "print('RMSE Modelo: ', mean_squared_error(y_onpe_pv, y_modelo_pv, squared=False))"
      ],
      "metadata": {
        "colab": {
          "base_uri": "https://localhost:8080/"
        },
        "id": "jxRcptj61m2Y",
        "outputId": "83f763ea-be5d-445e-868a-21a880fb5552"
      },
      "execution_count": null,
      "outputs": [
        {
          "output_type": "stream",
          "name": "stdout",
          "text": [
            "Según Posición Sin Castillo\n",
            "\n",
            "RMSE CIT:  2.516611478423583\n",
            "RMSE Modelo:  3.958114029012639\n",
            "\n",
            "RMSE CPI:  3.2914029430219167\n",
            "RMSE Modelo:  3.958114029012639\n",
            "\n",
            "RMSE DATUM:  2.6770630673681683\n",
            "RMSE Modelo:  3.958114029012639\n",
            "\n",
            "RMSE IPSOS:  3.1622776601683795\n",
            "RMSE Modelo:  3.7416573867739413\n"
          ]
        }
      ]
    },
    {
      "cell_type": "code",
      "source": [
        "#POR CADA ENCUESTADORA\n",
        "print('\\nSEGUNDA VUELTA POR CADA ENCUESTADORA')\n",
        "\n",
        "#['Peru Libre', 'Fuerza Popular']\n",
        "y_onpe_sv          = [50.126, 49.874]\n",
        "y_modelo_sv        = [52.7, 47.3]\n",
        "\n",
        "y_datum_sv         = [50.534, 49.466]\n",
        "y_idice_sv         = [48.391, 51.609]\n",
        "y_ipsos_sv         = [52.509, 47.491]\n",
        "\n",
        "print('\\nRMSE Datum: ', mean_squared_error(y_onpe_sv, y_datum_sv, squared=False))\n",
        "print('RMSE Idice: ', mean_squared_error(y_onpe_sv, y_idice_sv, squared=False))\n",
        "print('RMSE Ipsos: ', mean_squared_error(y_onpe_sv, y_ipsos_sv, squared=False))\n",
        "print('RMSE Modelo: ', mean_squared_error(y_onpe_sv, y_modelo_sv, squared=False))\n"
      ],
      "metadata": {
        "colab": {
          "base_uri": "https://localhost:8080/"
        },
        "id": "uonzutxpVjir",
        "outputId": "f128f9fb-d973-40a4-ca71-95ddc951f75f"
      },
      "execution_count": null,
      "outputs": [
        {
          "output_type": "stream",
          "name": "stdout",
          "text": [
            "\n",
            "SEGUNDA VUELTA POR CADA ENCUESTADORA\n",
            "\n",
            "RMSE Datum:  0.40800000000000125\n",
            "RMSE Idice:  1.7349999999999994\n",
            "RMSE Ipsos:  2.3830000000000027\n",
            "RMSE Modelo:  2.574000000000005\n"
          ]
        }
      ]
    },
    {
      "cell_type": "code",
      "source": [
        "#POR CADA ENCUESTADORA POR POSICION\n",
        "print('\\nSEGUNDA VUELTA POR CADA ENCUESTADORA POSICION')\n",
        "\n",
        "#['Peru Libre', 'Fuerza Popular']\n",
        "y_onpe_sv          = [1, 2]\n",
        "y_modelo_sv        = [1, 2]\n",
        "\n",
        "y_datum_sv         = [1, 2]\n",
        "y_idice_sv         = [2, 1]\n",
        "y_ipsos_sv         = [1, 2]\n",
        "\n",
        "print('\\nRMSE Datum: ', mean_squared_error(y_onpe_sv, y_datum_sv, squared=False))\n",
        "print('RMSE Idice: ', mean_squared_error(y_onpe_sv, y_idice_sv, squared=False))\n",
        "print('RMSE Ipsos: ', mean_squared_error(y_onpe_sv, y_ipsos_sv, squared=False))\n",
        "print('RMSE Modelo: ', mean_squared_error(y_onpe_sv, y_modelo_sv, squared=False))\n",
        "\n",
        "print('\\nMAE Datum: ', mean_absolute_error(y_onpe_sv, y_datum_sv))\n",
        "print('MAE Idice: ', mean_absolute_error(y_onpe_sv, y_idice_sv))\n",
        "print('MAE Ipsos: ', mean_absolute_error(y_onpe_sv, y_ipsos_sv))\n",
        "print('MAE Modelo: ', mean_absolute_error(y_onpe_sv, y_modelo_sv))"
      ],
      "metadata": {
        "colab": {
          "base_uri": "https://localhost:8080/"
        },
        "id": "-bVhkempSF4L",
        "outputId": "34738419-0bc6-436b-b2a7-60477f62fc8f"
      },
      "execution_count": null,
      "outputs": [
        {
          "output_type": "stream",
          "name": "stdout",
          "text": [
            "\n",
            "SEGUNDA VUELTA POR CADA ENCUESTADORA POSICION\n",
            "\n",
            "RMSE Datum:  0.0\n",
            "RMSE Idice:  1.0\n",
            "RMSE Ipsos:  0.0\n",
            "RMSE Modelo:  0.0\n",
            "\n",
            "MAE Datum:  0.0\n",
            "MAE Idice:  1.0\n",
            "MAE Ipsos:  0.0\n",
            "MAE Modelo:  0.0\n"
          ]
        }
      ]
    },
    {
      "cell_type": "markdown",
      "source": [
        "###6.2 MAE"
      ],
      "metadata": {
        "id": "1vukfSJP496R"
      }
    },
    {
      "cell_type": "markdown",
      "source": [
        "Usando el valor promedio de las encuestas"
      ],
      "metadata": {
        "id": "FsapOC-YNf7m"
      }
    },
    {
      "cell_type": "code",
      "source": [
        "#UTILIZANDO EL PROMEDIO\n",
        "#['Accion Popular', 'Victoria Nacional', 'Fuerza Popular', 'Renovacion Popular', 'Juntos por el Perú', 'Avanza Pais', 'Perú Libre']\n",
        "y_onpe_pv          = [9.071, 5.656, 13.407, 11.751, 7.865, 11.626, 18.921]#[9.071, 5.656, 13.407, 11.751, 7.865, 11.626, 18.921]\n",
        "y_encuestadoras_pv = [13.3, 8.9, 7.86, 7.23, 6.5, 5.26, 4]\n",
        "y_modelo_pv        = [3.6, 4.1, 5.1, 15.2, 9.6, 7.9, 0.1]\n",
        "\n",
        "#['Peru Libre', 'Fuerza Popular']\n",
        "y_onpe_sv          = [50.126, 49.874]\n",
        "y_encuestadoras_sv = [51.529, 48.471]\n",
        "y_modelo_sv        = [52.7, 47.3]\n",
        "\n",
        "#POR POSICIONES\n",
        "#['Accion Popular', 'Victoria Nacional', 'Fuerza Popular', 'Renovacion Popular', 'Juntos por el Perú', 'Avanza Pais', 'Perú Libre']\n",
        "y_onpe_pv_pos          = [5, 8, 2, 3, 6, 4, 1]\n",
        "y_encuestadoras_pv_pos = [1, 2, 3, 4, 5, 6, 7]\n",
        "y_modelo_pv_pos        = [12, 11, 7, 2, 3, 5, 15]\n",
        "\n",
        "#['Peru Libre', 'Fuerza Popular']\n",
        "y_onpe_sv_pos          = [1, 2]\n",
        "y_encuestadoras_sv_pos = [1, 2]\n",
        "y_modelo_sv_pos        = [1, 2]\n",
        "\n",
        "#PORCENTAJE\n",
        "print('PRIMERA VUELTA POR PORCENTAJE')\n",
        "print('MAE Encuestadora: ', mean_absolute_error(y_onpe_pv, y_encuestadoras_pv))\n",
        "print('MAE Modelo: ', mean_absolute_error(y_onpe_pv, y_modelo_pv))\n",
        "\n",
        "print('\\nSEGUNDA VUELTA POR PORCENTAJE')\n",
        "print('MAE Encuestadora: ', mean_absolute_error(y_onpe_sv, y_encuestadoras_sv))\n",
        "print('MAE Modelo: ', mean_absolute_error(y_onpe_sv, y_modelo_sv))\n",
        "\n",
        "#POSICION\n",
        "print('\\n\\nPRIMERA VUELTA POR POSICION')\n",
        "print('MAE Encuestadora: ', mean_absolute_error(y_onpe_pv_pos, y_encuestadoras_pv_pos))\n",
        "print('MAE Modelo: ', mean_absolute_error(y_onpe_pv_pos, y_modelo_pv_pos))\n",
        "\n",
        "print('\\nSEGUNDA VUELTA POR POSICION')\n",
        "print('MAE Encuestadora: ', mean_absolute_error(y_onpe_sv_pos, y_encuestadoras_sv_pos))\n",
        "print('MAE Modelo: ', mean_absolute_error(y_onpe_sv_pos, y_modelo_sv_pos))"
      ],
      "metadata": {
        "colab": {
          "base_uri": "https://localhost:8080/"
        },
        "id": "iSZrocOnNiSi",
        "outputId": "c4f3198a-232d-4876-cf0c-7c588e28bf71"
      },
      "execution_count": null,
      "outputs": [
        {
          "output_type": "stream",
          "name": "stdout",
          "text": [
            "PRIMERA VUELTA POR PORCENTAJE\n",
            "MAE Encuestadora:  5.7418571428571425\n",
            "MAE Modelo:  6.152142857142857\n",
            "\n",
            "SEGUNDA VUELTA POR PORCENTAJE\n",
            "MAE Encuestadora:  1.4030000000000058\n",
            "MAE Modelo:  2.574000000000005\n",
            "\n",
            "\n",
            "PRIMERA VUELTA POR POSICION\n",
            "MAE Encuestadora:  3.0\n",
            "MAE Modelo:  4.857142857142857\n",
            "\n",
            "SEGUNDA VUELTA POR POSICION\n",
            "MAE Encuestadora:  0.0\n",
            "MAE Modelo:  0.0\n"
          ]
        }
      ]
    },
    {
      "cell_type": "code",
      "source": [
        "#UTILIZANDO EL PROMEDIO, SIN CASTILLO\n",
        "\n",
        "#['Accion Popular', 'Victoria Nacional', 'Fuerza Popular', 'Renovacion Popular', 'Juntos por el Perú', 'Avanza Pais']\n",
        "y_onpe_pv          = [9.071, 5.656, 13.407, 11.751, 7.865, 11.626]\n",
        "y_encuestadoras_pv = [13.3, 8.9, 7.86, 7.23, 6.5, 5.26]\n",
        "y_modelo_pv        = [3.6, 4.1, 5.1, 15.2, 9.6, 7.9]\n",
        "\n",
        "#POR POSICIONES\n",
        "#['Accion Popular', 'Victoria Nacional', 'Fuerza Popular', 'Renovacion Popular', 'Juntos por el Perú', 'Avanza Pais', 'Perú Libre']\n",
        "y_onpe_pv_pos          = [5, 8, 2, 3, 6, 4]\n",
        "y_encuestadoras_pv_pos = [1, 2, 3, 4, 5, 6]\n",
        "y_modelo_pv_pos        = [12, 11, 7, 2, 3, 5]\n",
        "\n",
        "#PORCENTAJE\n",
        "print('PRIMERA VUELTA POR PORCENTAJE SIN CASTILLO')\n",
        "print('MAE Encuestadora: ', mean_absolute_error(y_onpe_pv, y_encuestadoras_pv))\n",
        "print('MAE Modelo: ', mean_absolute_error(y_onpe_pv, y_modelo_pv))\n",
        "\n",
        "#POSICION\n",
        "print('\\nPRIMERA VUELTA POR POSICION SIN CASTILLO')\n",
        "print('MAE Encuestadora: ', mean_absolute_error(y_onpe_pv_pos, y_encuestadoras_pv_pos))\n",
        "print('MAE Modelo: ', mean_absolute_error(y_onpe_pv_pos, y_modelo_pv_pos))"
      ],
      "metadata": {
        "colab": {
          "base_uri": "https://localhost:8080/"
        },
        "id": "RkA4AhVdN2K_",
        "outputId": "2134b710-6c21-4e4a-a399-38cd0b51adc4"
      },
      "execution_count": null,
      "outputs": [
        {
          "output_type": "stream",
          "name": "stdout",
          "text": [
            "PRIMERA VUELTA POR PORCENTAJE SIN CASTILLO\n",
            "MAE Encuestadora:  4.212\n",
            "MAE Modelo:  4.040666666666667\n",
            "\n",
            "PRIMERA VUELTA POR POSICION SIN CASTILLO\n",
            "MAE Encuestadora:  2.5\n",
            "MAE Modelo:  3.3333333333333335\n"
          ]
        }
      ]
    },
    {
      "cell_type": "markdown",
      "source": [
        "Calculando el error por cada encuestadora"
      ],
      "metadata": {
        "id": "oK-WhifMO4ND"
      }
    },
    {
      "cell_type": "code",
      "source": [
        "print('PRIMERA VUELTA POR CADA ENCUESTADORA\\n\\n')\n",
        "#Según porcentaje\n",
        "print('Según Porcentaje\\n')\n",
        "#['Lescano', 'Forsyth', 'Keiko', 'Rafael', 'Veronika', 'Soto', 'Acuña']\n",
        "y_onpe_pv          = [9.071, 5.656, 13.407, 11.751, 7.865, 11.626, 6.021]\n",
        "y_cit_pv           = [9.4,8.2,7.7,13.4,6.1,10.2,6.1]\n",
        "y_modelo_pv        = [3.6, 4.1, 5.1, 15.2, 9.6, 7.9, 19.5]\n",
        "print('MAE CIT: ', mean_absolute_error(y_onpe_pv, y_cit_pv))\n",
        "print('MAE Modelo: ', mean_absolute_error(y_onpe_pv, y_modelo_pv))\n",
        "\n",
        "#['Lescano', 'Forsyth', 'Keiko', 'Rafael', 'Veronika', 'Soto', 'Castillo']\n",
        "y_onpe_pv          = [9.071, 5.656, 13.407, 11.751, 7.865, 11.626, 18.921]\n",
        "y_cpi_pv           = [11.0, 8.1, 7.1, 5.2, 5.4, 4.5, 4.3]\n",
        "y_modelo_pv        = [3.6, 4.1, 5.1, 15.2, 9.6, 7.9, 0.1]\n",
        "print('\\nMAE CPI: ', mean_absolute_error(y_onpe_pv, y_cpi_pv))\n",
        "print('MAE Modelo: ', mean_absolute_error(y_onpe_pv, y_modelo_pv))\n",
        "\n",
        "#['Lescano', 'Forsyth', 'Keiko', 'Rafael', 'Veronika', 'Soto', 'Castillo']\n",
        "y_onpe_pv          = [9.071, 5.656, 13.407, 11.751, 7.865, 11.626, 18.921]\n",
        "y_datum_pv           = [12.1, 7.4, 7.9, 7.2, 5.7, 6.5, 3.7]\n",
        "y_modelo_pv        = [3.6, 4.1, 5.1, 15.2, 9.6, 7.9, 0.1]\n",
        "print('\\nMAE DATUM: ', mean_absolute_error(y_onpe_pv, y_datum_pv))\n",
        "print('MAE Modelo: ', mean_absolute_error(y_onpe_pv, y_modelo_pv))\n",
        "\n",
        "#['Lescano', 'Forsyth', 'Keiko', 'Rafael', 'Veronika', 'Soto']\n",
        "y_onpe_pv          = [9.071, 5.656, 13.407, 11.751, 7.865, 11.626]\n",
        "y_ipsos_pv           = [16.8, 11.2, 8.6, 9.3, 8.4, 4.8]\n",
        "y_modelo_pv        = [3.6, 4.1, 5.1, 15.2, 9.6, 7.9]\n",
        "print('\\nMAE IPSOS: ', mean_absolute_error(y_onpe_pv, y_ipsos_pv))\n",
        "print('MAE Modelo: ', mean_absolute_error(y_onpe_pv, y_modelo_pv))\n",
        "\n",
        "\n",
        "\n",
        "print('\\n\\nSegún Posición\\n')\n",
        "#['Lescano', 'Forsyth', 'Keiko', 'Rafael', 'Veronika', 'Soto']\n",
        "y_onpe_pv          = [5, 8, 2, 3, 6, 4]\n",
        "y_cit_pv           = [3,4,5,1,7,2]\n",
        "y_modelo_pv        = [12, 11, 7, 2, 3, 5]\n",
        "print('MAE CIT: ', mean_absolute_error(y_onpe_pv, y_cit_pv))\n",
        "print('MAE Modelo: ', mean_absolute_error(y_onpe_pv, y_modelo_pv))\n",
        "\n",
        "#['Lescano', 'Forsyth', 'Keiko', 'Rafael', 'Veronika', 'Soto', 'Castillo']\n",
        "y_onpe_pv          = [5, 8, 2, 3, 6, 4, 1]\n",
        "y_cpi_pv           = [1,2,3,5,4,6,7]\n",
        "y_modelo_pv        = [12, 11, 7, 2, 3, 5,15]\n",
        "print('\\nMAE CPI: ', mean_absolute_error(y_onpe_pv, y_cpi_pv))\n",
        "print('MAE Modelo: ', mean_absolute_error(y_onpe_pv, y_modelo_pv))\n",
        "\n",
        "#['Lescano', 'Forsyth', 'Keiko', 'Rafael', 'Veronika', 'Soto', 'Castillo']\n",
        "y_onpe_pv          = [5, 8, 2, 3, 6, 4, 1]\n",
        "y_datum_pv         = [1,3,2,4,6,5, 7]\n",
        "y_modelo_pv        = [12, 11, 7, 2, 3, 5,15]\n",
        "print('\\nMAE DATUM: ', mean_absolute_error(y_onpe_pv, y_datum_pv))\n",
        "print('MAE Modelo: ', mean_absolute_error(y_onpe_pv, y_modelo_pv))\n",
        "\n",
        "#['Lescano', 'Forsyth', 'Keiko', 'Rafael', 'Veronika', 'Soto','urresti']\n",
        "y_onpe_pv          = [5, 8, 2, 3, 6, 4, 8]\n",
        "y_ipsos_pv         = [1,2,4,3,5,7,6]\n",
        "y_modelo_pv        = [12, 11, 7, 2, 3, 5, 6]\n",
        "print('\\nMAE IPSOS: ', mean_absolute_error(y_onpe_pv, y_ipsos_pv))\n",
        "print('MAE Modelo: ', mean_absolute_error(y_onpe_pv, y_modelo_pv))"
      ],
      "metadata": {
        "colab": {
          "base_uri": "https://localhost:8080/"
        },
        "id": "dOd1M7_HO4zW",
        "outputId": "5ca92823-e06a-4e27-fb13-ee6d90b9d604"
      },
      "execution_count": null,
      "outputs": [
        {
          "output_type": "stream",
          "name": "stdout",
          "text": [
            "PRIMERA VUELTA POR CADA ENCUESTADORA\n",
            "\n",
            "\n",
            "Según Porcentaje\n",
            "\n",
            "MAE CIT:  1.9284285714285718\n",
            "MAE Modelo:  5.389\n",
            "\n",
            "MAE CPI:  5.920428571428571\n",
            "MAE Modelo:  6.152142857142857\n",
            "\n",
            "MAE DATUM:  5.334714285714286\n",
            "MAE Modelo:  6.152142857142857\n",
            "\n",
            "MAE IPSOS:  4.648666666666666\n",
            "MAE Modelo:  4.040666666666667\n",
            "\n",
            "\n",
            "Según Posición\n",
            "\n",
            "MAE CIT:  2.3333333333333335\n",
            "MAE Modelo:  3.3333333333333335\n",
            "\n",
            "MAE CPI:  3.2857142857142856\n",
            "MAE Modelo:  4.857142857142857\n",
            "\n",
            "MAE DATUM:  2.4285714285714284\n",
            "MAE Modelo:  4.857142857142857\n",
            "\n",
            "MAE IPSOS:  2.5714285714285716\n",
            "MAE Modelo:  3.142857142857143\n"
          ]
        }
      ]
    },
    {
      "cell_type": "code",
      "source": [
        "print('Según Posición Sin Castillo\\n')\n",
        "#['Lescano', 'Forsyth', 'Keiko', 'Rafael', 'Veronika', 'Soto']\n",
        "y_onpe_pv          = [5, 8, 2, 3, 6, 4]\n",
        "y_cit_pv           = [3,4,5,1,7,2]\n",
        "y_modelo_pv        = [12, 11, 7, 2, 3, 5]\n",
        "print('MAE CIT: ', mean_absolute_error(y_onpe_pv, y_cit_pv))\n",
        "print('MAE Modelo: ', mean_absolute_error(y_onpe_pv, y_modelo_pv))\n",
        "\n",
        "#['Lescano', 'Forsyth', 'Keiko', 'Rafael', 'Veronika', 'Soto']\n",
        "y_onpe_pv          = [5, 8, 2, 3, 6, 4]\n",
        "y_cpi_pv           = [1,2,3,5,4,6]\n",
        "y_modelo_pv        = [12, 11, 7, 2, 3, 5]\n",
        "print('\\nMAE CPI: ', mean_absolute_error(y_onpe_pv, y_cpi_pv))\n",
        "print('MAE Modelo: ', mean_absolute_error(y_onpe_pv, y_modelo_pv))\n",
        "\n",
        "#['Lescano', 'Forsyth', 'Keiko', 'Rafael', 'Veronika', 'Soto', 'Castillo']\n",
        "y_onpe_pv          = [5, 8, 2, 3, 6, 4]\n",
        "y_datum_pv         = [1,3,2,4,6,5]\n",
        "y_modelo_pv        = [12, 11, 7, 2, 3, 5]\n",
        "print('\\nMAE DATUM: ', mean_absolute_error(y_onpe_pv, y_datum_pv))\n",
        "print('MAE Modelo: ', mean_absolute_error(y_onpe_pv, y_modelo_pv))\n",
        "\n",
        "#['Lescano', 'Forsyth', 'Keiko', 'Rafael', 'Veronika', 'Soto','urresti']\n",
        "y_onpe_pv          = [5, 8, 2, 3, 6, 4, 8]\n",
        "y_ipsos_pv         = [1,2,4,3,5,7,6]\n",
        "y_modelo_pv        = [12, 11, 7, 2, 3, 5, 6]\n",
        "print('\\nMAE IPSOS: ', mean_absolute_error(y_onpe_pv, y_ipsos_pv))\n",
        "print('MAE Modelo: ', mean_absolute_error(y_onpe_pv, y_modelo_pv))"
      ],
      "metadata": {
        "colab": {
          "base_uri": "https://localhost:8080/"
        },
        "id": "XS5ybeBKPohY",
        "outputId": "2bcad190-9f57-4720-a476-0de6ae7bcc0b"
      },
      "execution_count": null,
      "outputs": [
        {
          "output_type": "stream",
          "name": "stdout",
          "text": [
            "Según Posición Sin Castillo\n",
            "\n",
            "MAE CIT:  2.3333333333333335\n",
            "MAE Modelo:  3.3333333333333335\n",
            "\n",
            "MAE CPI:  2.8333333333333335\n",
            "MAE Modelo:  3.3333333333333335\n",
            "\n",
            "MAE DATUM:  1.8333333333333333\n",
            "MAE Modelo:  3.3333333333333335\n",
            "\n",
            "MAE IPSOS:  2.5714285714285716\n",
            "MAE Modelo:  3.142857142857143\n"
          ]
        }
      ]
    },
    {
      "cell_type": "code",
      "source": [
        "#POR CADA ENCUESTADORA\n",
        "print('\\nSEGUNDA VUELTA POR CADA ENCUESTADORA')\n",
        "\n",
        "#['Peru Libre', 'Fuerza Popular']\n",
        "y_onpe_sv          = [50.126, 49.874]\n",
        "y_modelo_sv        = [52.7, 47.3]\n",
        "\n",
        "y_datum_sv         = [50.534, 49.466]\n",
        "y_idice_sv         = [48.39, 51.61]\n",
        "y_ipsos_sv         = [52.509, 47.491]\n",
        "\n",
        "print('\\nMAE Datum: ', mean_absolute_error(y_onpe_sv, y_datum_sv))\n",
        "print('MAE Idice: ', mean_absolute_error(y_onpe_sv, y_idice_sv))\n",
        "print('MAE Ipsos: ', mean_absolute_error(y_onpe_sv, y_ipsos_sv))\n",
        "print('MAE Modelo: ', mean_absolute_error(y_onpe_sv, y_modelo_sv))"
      ],
      "metadata": {
        "colab": {
          "base_uri": "https://localhost:8080/"
        },
        "id": "WOmG2RWgQ7BX",
        "outputId": "e63cf016-88a1-4dc2-94b9-2482b6c32559"
      },
      "execution_count": null,
      "outputs": [
        {
          "output_type": "stream",
          "name": "stdout",
          "text": [
            "\n",
            "SEGUNDA VUELTA POR CADA ENCUESTADORA\n",
            "\n",
            "MAE Datum:  0.40800000000000125\n",
            "MAE Idice:  1.735999999999997\n",
            "MAE Ipsos:  2.3830000000000027\n",
            "MAE Modelo:  2.574000000000005\n"
          ]
        }
      ]
    },
    {
      "cell_type": "code",
      "source": [
        "def mean_error(actual, predicted):\n",
        "  return actual[1]-predicted[1]"
      ],
      "metadata": {
        "id": "6y5Ddnzi7KlS"
      },
      "execution_count": null,
      "outputs": []
    },
    {
      "cell_type": "code",
      "source": [
        "#ME\n",
        "print('\\nSEGUNDA VUELTA POR CADA ENCUESTADORA')\n",
        "\n",
        "#['Peru Libre', 'Fuerza Popular']\n",
        "y_onpe_sv          = [50.126, 49.874]\n",
        "y_modelo_sv        = [52.7, 47.3]\n",
        "\n",
        "y_datum_sv         = [50.534, 49.466]\n",
        "y_idice_sv         = [48.391, 51.609]\n",
        "y_ipsos_sv         = [52.509, 47.491]\n",
        "\n",
        "print('\\nME Datum: ', mean_error(y_onpe_sv, y_datum_sv))\n",
        "print('ME Idice: ', mean_error(y_onpe_sv, y_idice_sv))\n",
        "print('ME Ipsos: ', mean_error(y_onpe_sv, y_ipsos_sv))\n",
        "print('ME Modelo: ', mean_error(y_onpe_sv, y_modelo_sv))"
      ],
      "metadata": {
        "colab": {
          "base_uri": "https://localhost:8080/"
        },
        "id": "BBr3-jPz6QSl",
        "outputId": "94aec66c-8c55-4602-c5bc-1d56fa3f85c7"
      },
      "execution_count": null,
      "outputs": [
        {
          "output_type": "stream",
          "name": "stdout",
          "text": [
            "\n",
            "SEGUNDA VUELTA POR CADA ENCUESTADORA\n",
            "\n",
            "ME Datum:  0.40800000000000125\n",
            "ME Idice:  -1.7349999999999994\n",
            "ME Ipsos:  2.3830000000000027\n",
            "ME Modelo:  2.574000000000005\n"
          ]
        }
      ]
    }
  ]
}